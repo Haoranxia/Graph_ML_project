{
 "cells": [
  {
   "cell_type": "code",
   "execution_count": 1,
   "metadata": {},
   "outputs": [],
   "source": [
    "import torch as th \n",
    "from torch_geometric.data import Data \n",
    "from torch_geometric.loader import DataLoader\n",
    "from model import Generator, Discriminator, gradient_penalty"
   ]
  },
  {
   "cell_type": "code",
   "execution_count": null,
   "metadata": {},
   "outputs": [],
   "source": [
    "\"\"\" \n",
    "Import Data\n",
    "\"\"\"\n"
   ]
  },
  {
   "cell_type": "code",
   "execution_count": null,
   "metadata": {},
   "outputs": [],
   "source": [
    "\"\"\" \n",
    "Hyperparameters\n",
    "\"\"\"\n",
    "\n",
    "# Optimizer params\n",
    "g_lr = 0.001 \n",
    "d_lr = 0.001\n",
    "b1 = 0.5 \n",
    "b2 = 0.999  \n",
    "\n",
    "# WGAN params\n",
    "N_critic = 5            # nr of times to train discriminator more\n",
    "lambda_gp = 10          # gradient penalty hyperpraram\n",
    "\n",
    "# Training params\n",
    "MAX_EPOCHS = 500"
   ]
  },
  {
   "cell_type": "code",
   "execution_count": null,
   "metadata": {},
   "outputs": [],
   "source": [
    "\"\"\" \n",
    "Model Definitions\n",
    "\"\"\"\n",
    "generator = Generator()\n",
    "discriminator = Discriminator()\n",
    "\n",
    "\n",
    "# Optimizers\n",
    "optimizer_G = th.optim.Adam(generator.parameters(), lr=g_lr, betas=(b1, b2)) \n",
    "optimizer_D = th.optim.Adam(discriminator.parameters(), lr=d_lr, betas=(b1, b2))"
   ]
  },
  {
   "cell_type": "code",
   "execution_count": null,
   "metadata": {},
   "outputs": [],
   "source": [
    "# Main training loop\n",
    "def train(generator, discriminator, optimizer_g, optimizer_d, data_loader):\n",
    "    for epoch in range(MAX_EPOCHS):\n",
    "        for data in data_loader:\n",
    "            # Data: Torch geometric Data(x=[node_features], edge_index=[])\n",
    "\n",
    "            # Create noise vector\n",
    "            noise = th.randn(data.x.shape)\n",
    "\n",
    "            # Create new data object with noise and same edge_index\n",
    "            # TODO: How to batch noise vectors alongside data?\n",
    "            noise_data = Data(x=noise, edge_index = data.edge_index)\n",
    "\n",
    "            # Input noise_data into generator\n",
    "            fake = Generator(noise_data)\n",
    "\n",
    "            # Determine discriminator score\n",
    "            fake_score = Discriminator(fake)\n",
    "            real_score = Discriminator(data)\n",
    "\n",
    "            # Compute gradient penalty\n",
    "\n",
    "            # Compute losses\n",
    "            # TODO: WGAN-GP loss\n",
    "            # TODO: Train discriminator 5x more\n"
   ]
  }
 ],
 "metadata": {
  "kernelspec": {
   "display_name": "graph_ml_course",
   "language": "python",
   "name": "python3"
  },
  "language_info": {
   "codemirror_mode": {
    "name": "ipython",
    "version": 3
   },
   "file_extension": ".py",
   "mimetype": "text/x-python",
   "name": "python",
   "nbconvert_exporter": "python",
   "pygments_lexer": "ipython3",
   "version": "3.10.11"
  },
  "orig_nbformat": 4
 },
 "nbformat": 4,
 "nbformat_minor": 2
}
