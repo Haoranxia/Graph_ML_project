{
 "cells": [
  {
   "cell_type": "code",
   "execution_count": 8,
   "metadata": {
    "ExecuteTime": {
     "end_time": "2023-06-25T11:49:54.281962500Z",
     "start_time": "2023-06-25T11:49:50.127677100Z"
    }
   },
   "outputs": [],
   "source": [
    "import torch\n",
    "import torch as th\n",
    "from torch_geometric.data import Data, Batch\n",
    "from torch_geometric.loader import DataLoader\n",
    "\n",
    "from model import Generator, Discriminator, gradient_penalty\n",
    "from utils import Transformed_PolyGraphDataset, CATEGORY_DICT\n",
    "\n",
    "import numpy as np\n",
    "import time\n",
    "from dotenv import load_dotenv\n",
    "from pathlib import Path\n",
    "import os"
   ]
  },
  {
   "cell_type": "markdown",
   "source": [
    "# Load paths"
   ],
   "metadata": {
    "collapsed": false
   }
  },
  {
   "cell_type": "code",
   "execution_count": 9,
   "outputs": [],
   "source": [
    "load_dotenv()\n",
    "SWISS_DWELLING_ROOT = Path(os.getenv(\"SWISS_DWELLING_ROOT\"))\n",
    "SAVED_MODELS_ROOT = Path(os.getenv(\"SAVED_MODELS_ROOT\"))\n",
    "\n",
    "GENERATOR_PATH = SAVED_MODELS_ROOT / \"generator.pt\"\n",
    "DISCRIMINATOR_PATH = SAVED_MODELS_ROOT / \"discriminator.pt\""
   ],
   "metadata": {
    "collapsed": false,
    "ExecuteTime": {
     "end_time": "2023-06-25T11:49:54.916945500Z",
     "start_time": "2023-06-25T11:49:54.905946500Z"
    }
   }
  },
  {
   "cell_type": "code",
   "execution_count": 10,
   "outputs": [
    {
     "data": {
      "text/plain": "(WindowsPath('D:graph-ml/swiss-dwellings-v3.0.0'),\n WindowsPath('D:graph-ml/saved-models'),\n WindowsPath('D:graph-ml/saved-models/generator.pt'),\n WindowsPath('D:graph-ml/saved-models/discriminator.pt'))"
     },
     "execution_count": 10,
     "metadata": {},
     "output_type": "execute_result"
    }
   ],
   "source": [
    "SWISS_DWELLING_ROOT, SAVED_MODELS_ROOT, GENERATOR_PATH, DISCRIMINATOR_PATH"
   ],
   "metadata": {
    "collapsed": false,
    "ExecuteTime": {
     "end_time": "2023-06-25T11:49:55.106983600Z",
     "start_time": "2023-06-25T11:49:55.078950100Z"
    }
   }
  },
  {
   "cell_type": "markdown",
   "source": [
    "# GPU acceleration"
   ],
   "metadata": {
    "collapsed": false
   }
  },
  {
   "cell_type": "code",
   "execution_count": 11,
   "outputs": [
    {
     "name": "stdout",
     "output_type": "stream",
     "text": [
      "Using device: cuda\n",
      "1\n"
     ]
    }
   ],
   "source": [
    "# Check if cuda is available\n",
    "device = th.device('cuda' if th.cuda.is_available() else 'cpu')\n",
    "print('Using device:', device)\n",
    "device = 'cpu'\n",
    "# available devices\n",
    "print(th.cuda.device_count())"
   ],
   "metadata": {
    "collapsed": false,
    "ExecuteTime": {
     "end_time": "2023-06-25T11:49:55.871649200Z",
     "start_time": "2023-06-25T11:49:55.828628300Z"
    }
   }
  },
  {
   "attachments": {},
   "cell_type": "markdown",
   "metadata": {},
   "source": [
    "# Hyperparameters\n"
   ]
  },
  {
   "cell_type": "code",
   "execution_count": 12,
   "metadata": {
    "ExecuteTime": {
     "end_time": "2023-06-25T11:49:58.295914300Z",
     "start_time": "2023-06-25T11:49:58.288914300Z"
    }
   },
   "outputs": [],
   "source": [
    "\"\"\" \n",
    "Hyperparameters\n",
    "\"\"\"\n",
    "\n",
    "MAX_POLYGONS = 30       # max nr. of polygons to output\n",
    "\n",
    "# Optimizer params\n",
    "g_lr = 0.001 \n",
    "d_lr = 0.001\n",
    "b1 = 0.5 \n",
    "b2 = 0.999  \n",
    "\n",
    "# WGAN params\n",
    "N_critic = 5            # nr of times to train discriminator more\n",
    "lambda_gp = 10          # gradient penalty hyperpraram\n",
    "\n",
    "# Training params\n",
    "MAX_EPOCHS = 50\n",
    "BATCH_SIZE = 32\n",
    "\n",
    "# Network parameters\n",
    "NOISE_SIZE = 128\n",
    "HIDDEN_GENERATOR = [128, 128, 64, 32, 32]                 # list of dimensions for hidden layers\n",
    "OUTPUT_GENERATOR = MAX_POLYGONS * 2             # we want to output at most this many polygons per node (note [x1... y1...] format)\n",
    "\n",
    "HIDDEN_DISCRIMINATOR = [128, 128, 64, 32, 16]"
   ]
  },
  {
   "attachments": {},
   "cell_type": "markdown",
   "metadata": {},
   "source": [
    "# Model definition\n",
    "\n",
    "### Generator\n",
    "- Input of Generator will always be: \"noise size + Nr. of categories\" \n",
    "- Output of Generator = (MAX_POYLGONS * 2) due to our output coordinate format\n",
    "\n",
    "\n",
    "### Discriminator\n",
    "- Input of Discriminator = output of Generator (MAX_POLYGONS * 2) due to our output coordinate format\n",
    "- Output of Discriminator will always be 1"
   ]
  },
  {
   "cell_type": "code",
   "execution_count": 13,
   "metadata": {
    "ExecuteTime": {
     "end_time": "2023-06-25T11:50:00.136763100Z",
     "start_time": "2023-06-25T11:50:00.096294500Z"
    }
   },
   "outputs": [
    {
     "name": "stdout",
     "output_type": "stream",
     "text": [
      "ModuleList(\n",
      "  (0): TAGConv(141, 128, K=3)\n",
      "  (1): TAGConv(128, 128, K=3)\n",
      "  (2): TAGConv(128, 64, K=3)\n",
      "  (3): TAGConv(64, 32, K=3)\n",
      "  (4): TAGConv(32, 60, K=3)\n",
      ")\n",
      "ModuleList(\n",
      "  (0): TAGConv(60, 128, K=3)\n",
      "  (1): TAGConv(128, 128, K=3)\n",
      "  (2): TAGConv(128, 64, K=3)\n",
      "  (3): TAGConv(64, 32, K=3)\n",
      "  (4): TAGConv(32, 16, K=3)\n",
      "  (5): Linear(in_features=16, out_features=1, bias=True)\n",
      ")\n"
     ]
    }
   ],
   "source": [
    "\"\"\" \n",
    "Model Definitions\n",
    "\"\"\"\n",
    "generator = Generator(input_dim=NOISE_SIZE + len(CATEGORY_DICT), \n",
    "                      output_dim=OUTPUT_GENERATOR, \n",
    "                      hidden_dims=HIDDEN_GENERATOR, device=device)\n",
    "\n",
    "discriminator = Discriminator(input_dim=OUTPUT_GENERATOR, \n",
    "                              hidden_dims=HIDDEN_DISCRIMINATOR, device=device)\n",
    "\n",
    "# Move models to GPU or cpu\n",
    "generator.to(device)\n",
    "discriminator.to(device)\n",
    "\n",
    "print(generator.module_list)\n",
    "print(discriminator.module_list)"
   ]
  },
  {
   "cell_type": "code",
   "execution_count": 14,
   "metadata": {
    "ExecuteTime": {
     "end_time": "2023-06-25T11:50:03.338458600Z",
     "start_time": "2023-06-25T11:50:03.328434800Z"
    }
   },
   "outputs": [],
   "source": [
    "# Optimizers\n",
    "optimizer_G = th.optim.Adam(generator.parameters(), lr=g_lr, betas=(b1, b2)) \n",
    "optimizer_D = th.optim.Adam(discriminator.parameters(), lr=d_lr, betas=(b1, b2))"
   ]
  },
  {
   "attachments": {},
   "cell_type": "markdown",
   "metadata": {},
   "source": [
    "# Training loop\n",
    "\n",
    "Generator details:\n",
    "- We generate a noise vector\n",
    "- Generator uses noise vector and training data (the categories) as input\n",
    "- Generator uses graph NN layers to generate coordinates out of the noise vectors using the graph structure and categories\n",
    "- Generator output: (MAX_POLYGONS * 2) for each node in the input\n",
    "\n",
    "Discriminator details:\n",
    "- Generate discriminator output (score) for real data and fake (generated) data\n",
    "- Compute loss over these scores with additional gradient penalty loss"
   ]
  },
  {
   "cell_type": "code",
   "execution_count": 15,
   "metadata": {
    "ExecuteTime": {
     "end_time": "2023-06-23T15:34:02.082954Z",
     "start_time": "2023-06-23T15:34:02.060953900Z"
    }
   },
   "outputs": [],
   "source": [
    "def run_epoch(generator, discriminator, optimizer_g, optimizer_d, data_loader):\n",
    "\n",
    "    losses_g, losses_d = [], []\n",
    "    num_steps = 0\n",
    "\n",
    "    # real = batch of Data() ex. [Data(), Data(), ...] is 1 batch\n",
    "    start_time = time.time()\n",
    "    for i, real in enumerate(data_loader):\n",
    "        num_steps += 1\n",
    "\n",
    "        # Input noise_data into generator            \n",
    "        noise = th.randn((len(real.category), NOISE_SIZE)).to(device)\n",
    "        fake = generator(real, noise)\n",
    "\n",
    "        # fake.shape = (batch_size * nodes, output_features = 60)\n",
    "        # We must turn this into appropriate (batch) input for the discriminator\n",
    "        fake = Batch(geometry=fake, edge_index=real.edge_index, batch=real.batch)\n",
    "\n",
    "        discriminator_fake = discriminator(fake)    # discriminator scores for fakes\n",
    "        discriminator_real = discriminator(real)    # discriminator scores for reals\n",
    "        \n",
    "        gp = gradient_penalty(discriminator, real, fake)\n",
    "\n",
    "        # Discriminator loss and train\n",
    "        loss_discriminator = -(th.mean(discriminator_real) - th.mean(discriminator_fake)) + lambda_gp * gp\n",
    "        \n",
    "        discriminator.zero_grad() \n",
    "        loss_discriminator.backward() \n",
    "        optimizer_d.step()\n",
    "\n",
    "        losses_d.append(loss_discriminator.item())\n",
    "\n",
    "        # Only train Generator every 5 steps\n",
    "        if num_steps % N_critic == 0:\n",
    "            noise_g = th.randn((len(real.category), NOISE_SIZE))\n",
    "            fake_g = generator(real, noise_g) \n",
    "            fake_g = Batch(geometry=fake_g, edge_index=real.edge_index, batch=real.batch)\n",
    "\n",
    "            output = discriminator(fake_g).reshape(-1)      # discriminator scores for fake\n",
    "            loss_generator = -th.mean(output)               # loss for genereator = the discriminators' judgement\n",
    "                                                            # higher score = better\n",
    "            generator.zero_grad()\n",
    "            loss_generator.backward()\n",
    "            optimizer_g.step()\n",
    "\n",
    "            losses_g.append(loss_generator.item())\n",
    "        \n",
    "        # 49 is just a temporary number\n",
    "        if i % 49 == 0:\n",
    "            batch_time = time.time() - start_time\n",
    "            print(\"Batch {} took {:.2f} seconds.\".format(i, batch_time))\n",
    "    \n",
    "    return sum(losses_g) / len(losses_g), sum(losses_d) / len(losses_d)"
   ]
  },
  {
   "attachments": {},
   "cell_type": "markdown",
   "metadata": {},
   "source": [
    "# Main training loop\n",
    "\n",
    "Code could be improved. Make sure to specify your own 'generator_path', 'discriminator_path'."
   ]
  },
  {
   "cell_type": "code",
   "execution_count": 16,
   "metadata": {
    "ExecuteTime": {
     "end_time": "2023-06-23T15:34:02.339707800Z",
     "start_time": "2023-06-23T15:34:02.317700400Z"
    }
   },
   "outputs": [],
   "source": [
    "# Main training loop\n",
    "def train(generator, discriminator, optimizer_g, optimizer_d, data_loader, max_epochs):\n",
    "    start_time = time.time() \n",
    "    losses_g, losses_d = [], []\n",
    "\n",
    "    for epoch in range(1, max_epochs + 1):\n",
    "        epoch_time = time.time() \n",
    "\n",
    "        loss_g, loss_d = run_epoch(generator, discriminator, optimizer_g, optimizer_d, data_loader)\n",
    "        losses_g.append(loss_g)\n",
    "        losses_d.append(loss_d)\n",
    "\n",
    "        # TODO: Evaluation and logging code??\n",
    "        epoch_time = time.time() - epoch_time \n",
    "        total_time = time.time() - start_time\n",
    "        print(\"Total runtime: {:.2f}, Epoch: {}, took: {:.2f} seconds, loss_g: {:.2f}, loss_d: {:.2f}\".format(total_time, epoch, epoch_time, loss_g, loss_d))\n",
    "\n",
    "        # save model every 10 epochs\n",
    "        if epoch % 10:\n",
    "            print(\"Saving model at epoch {}\".format(epoch))\n",
    "            # generator_path = r'C:\\School\\DELFT\\Graph_ML_project\\saved_models\\generator.pt'\n",
    "            # discriminator_path = r'C:\\School\\DELFT\\Graph_ML_project\\saved_models\\discriminator.pt'\n",
    "            th.save(generator.state_dict(), GENERATOR_PATH)\n",
    "            th.save(discriminator.state_dict(), DISCRIMINATOR_PATH)\n",
    "\n",
    "    return losses_g, losses_d"
   ]
  },
  {
   "attachments": {},
   "cell_type": "markdown",
   "metadata": {},
   "source": [
    "# Training code"
   ]
  },
  {
   "cell_type": "code",
   "execution_count": 17,
   "metadata": {
    "ExecuteTime": {
     "end_time": "2023-06-23T17:38:11.971019300Z",
     "start_time": "2023-06-23T15:34:02.556833800Z"
    }
   },
   "outputs": [
    {
     "name": "stdout",
     "output_type": "stream",
     "text": [
      "294\n",
      "Batch 0 took 2.05 seconds.\n",
      "Batch 49 took 78.88 seconds.\n",
      "Batch 98 took 146.37 seconds.\n",
      "Batch 147 took 208.58 seconds.\n",
      "Batch 196 took 267.51 seconds.\n",
      "Batch 245 took 322.46 seconds.\n",
      "Total runtime: 375.44, Epoch: 1, took: 375.44 seconds, loss_g: -163.83, loss_d: -5001.01\n",
      "Saving model at epoch 1\n",
      "Batch 0 took 0.20 seconds.\n",
      "Batch 49 took 12.70 seconds.\n",
      "Batch 98 took 24.40 seconds.\n",
      "Batch 147 took 36.58 seconds.\n",
      "Batch 196 took 48.74 seconds.\n",
      "Batch 245 took 60.07 seconds.\n",
      "Total runtime: 446.52, Epoch: 2, took: 71.03 seconds, loss_g: -132.62, loss_d: -3334.53\n",
      "Saving model at epoch 2\n",
      "Batch 0 took 0.26 seconds.\n",
      "Batch 49 took 11.88 seconds.\n",
      "Batch 98 took 23.94 seconds.\n",
      "Batch 147 took 35.73 seconds.\n",
      "Batch 196 took 47.50 seconds.\n",
      "Batch 245 took 59.28 seconds.\n",
      "Total runtime: 517.54, Epoch: 3, took: 70.99 seconds, loss_g: -267.62, loss_d: -2163.12\n",
      "Saving model at epoch 3\n",
      "Batch 0 took 0.24 seconds.\n",
      "Batch 49 took 12.28 seconds.\n",
      "Batch 98 took 23.98 seconds.\n",
      "Batch 147 took 35.71 seconds.\n",
      "Batch 196 took 47.43 seconds.\n",
      "Batch 245 took 59.15 seconds.\n",
      "Total runtime: 588.53, Epoch: 4, took: 70.96 seconds, loss_g: -517.35, loss_d: -2265.38\n",
      "Saving model at epoch 4\n",
      "Batch 0 took 0.22 seconds.\n",
      "Batch 49 took 11.57 seconds.\n",
      "Batch 98 took 23.75 seconds.\n",
      "Batch 147 took 35.56 seconds.\n",
      "Batch 196 took 47.40 seconds.\n",
      "Batch 245 took 59.35 seconds.\n",
      "Total runtime: 659.39, Epoch: 5, took: 70.85 seconds, loss_g: -492.78, loss_d: -2154.92\n",
      "Saving model at epoch 5\n",
      "Batch 0 took 0.24 seconds.\n",
      "Batch 49 took 12.13 seconds.\n",
      "Batch 98 took 24.29 seconds.\n",
      "Batch 147 took 36.31 seconds.\n",
      "Batch 196 took 47.68 seconds.\n",
      "Batch 245 took 59.75 seconds.\n",
      "Total runtime: 730.46, Epoch: 6, took: 71.06 seconds, loss_g: -577.33, loss_d: -1774.40\n",
      "Saving model at epoch 6\n",
      "Batch 0 took 0.27 seconds.\n",
      "Batch 49 took 12.68 seconds.\n",
      "Batch 98 took 24.75 seconds.\n",
      "Batch 147 took 36.77 seconds.\n",
      "Batch 196 took 48.60 seconds.\n",
      "Batch 245 took 60.15 seconds.\n",
      "Total runtime: 801.82, Epoch: 7, took: 71.36 seconds, loss_g: -711.18, loss_d: -1394.57\n",
      "Saving model at epoch 7\n",
      "Batch 0 took 0.26 seconds.\n",
      "Batch 49 took 12.44 seconds.\n",
      "Batch 98 took 24.41 seconds.\n",
      "Batch 147 took 36.10 seconds.\n",
      "Batch 196 took 48.24 seconds.\n",
      "Batch 245 took 59.58 seconds.\n",
      "Total runtime: 872.49, Epoch: 8, took: 70.66 seconds, loss_g: -595.22, loss_d: -1473.93\n",
      "Saving model at epoch 8\n",
      "Batch 0 took 0.27 seconds.\n",
      "Batch 49 took 11.40 seconds.\n",
      "Batch 98 took 23.41 seconds.\n",
      "Batch 147 took 35.24 seconds.\n",
      "Batch 196 took 47.14 seconds.\n",
      "Batch 245 took 59.08 seconds.\n",
      "Total runtime: 943.37, Epoch: 9, took: 70.88 seconds, loss_g: -548.45, loss_d: -1054.59\n",
      "Saving model at epoch 9\n",
      "Batch 0 took 0.32 seconds.\n",
      "Batch 49 took 12.08 seconds.\n",
      "Batch 98 took 23.88 seconds.\n",
      "Batch 147 took 35.80 seconds.\n",
      "Batch 196 took 47.57 seconds.\n",
      "Batch 245 took 59.13 seconds.\n",
      "Total runtime: 1014.03, Epoch: 10, took: 70.66 seconds, loss_g: -515.66, loss_d: -953.25\n",
      "Batch 0 took 0.24 seconds.\n",
      "Batch 49 took 12.33 seconds.\n",
      "Batch 98 took 23.87 seconds.\n",
      "Batch 147 took 35.68 seconds.\n",
      "Batch 196 took 47.71 seconds.\n",
      "Batch 245 took 59.95 seconds.\n",
      "Total runtime: 1085.29, Epoch: 11, took: 71.26 seconds, loss_g: -404.86, loss_d: -606.24\n",
      "Saving model at epoch 11\n",
      "Batch 0 took 0.21 seconds.\n",
      "Batch 49 took 12.40 seconds.\n",
      "Batch 98 took 24.68 seconds.\n",
      "Batch 147 took 36.76 seconds.\n",
      "Batch 196 took 48.49 seconds.\n",
      "Batch 245 took 60.33 seconds.\n",
      "Total runtime: 1156.89, Epoch: 12, took: 71.57 seconds, loss_g: -712.49, loss_d: -366.20\n",
      "Saving model at epoch 12\n",
      "Batch 0 took 0.22 seconds.\n",
      "Batch 49 took 12.05 seconds.\n",
      "Batch 98 took 24.60 seconds.\n",
      "Batch 147 took 36.21 seconds.\n",
      "Batch 196 took 48.21 seconds.\n",
      "Batch 245 took 60.22 seconds.\n",
      "Total runtime: 1228.72, Epoch: 13, took: 71.82 seconds, loss_g: -1092.04, loss_d: -424.85\n",
      "Saving model at epoch 13\n",
      "Batch 0 took 0.23 seconds.\n",
      "Batch 49 took 12.14 seconds.\n",
      "Batch 98 took 24.24 seconds.\n",
      "Batch 147 took 35.60 seconds.\n",
      "Batch 196 took 48.29 seconds.\n",
      "Batch 245 took 59.95 seconds.\n",
      "Total runtime: 1300.50, Epoch: 14, took: 71.78 seconds, loss_g: -1452.67, loss_d: -319.67\n",
      "Saving model at epoch 14\n",
      "Batch 0 took 0.22 seconds.\n",
      "Batch 49 took 11.93 seconds.\n",
      "Batch 98 took 24.00 seconds.\n",
      "Batch 147 took 35.97 seconds.\n",
      "Batch 196 took 47.77 seconds.\n",
      "Batch 245 took 59.28 seconds.\n",
      "Total runtime: 1371.37, Epoch: 15, took: 70.87 seconds, loss_g: -2128.47, loss_d: -369.79\n",
      "Saving model at epoch 15\n",
      "Batch 0 took 0.22 seconds.\n",
      "Batch 49 took 12.26 seconds.\n",
      "Batch 98 took 24.24 seconds.\n",
      "Batch 147 took 35.79 seconds.\n",
      "Batch 196 took 47.36 seconds.\n",
      "Batch 245 took 59.54 seconds.\n",
      "Total runtime: 1442.22, Epoch: 16, took: 70.85 seconds, loss_g: -3409.69, loss_d: -447.63\n",
      "Saving model at epoch 16\n",
      "Batch 0 took 0.26 seconds.\n",
      "Batch 49 took 13.16 seconds.\n",
      "Batch 98 took 24.78 seconds.\n",
      "Batch 147 took 36.50 seconds.\n",
      "Batch 196 took 48.58 seconds.\n",
      "Batch 245 took 60.39 seconds.\n",
      "Total runtime: 1513.90, Epoch: 17, took: 71.67 seconds, loss_g: -5102.65, loss_d: -526.32\n",
      "Saving model at epoch 17\n",
      "Batch 0 took 0.27 seconds.\n",
      "Batch 49 took 12.14 seconds.\n",
      "Batch 98 took 24.58 seconds.\n",
      "Batch 147 took 36.18 seconds.\n",
      "Batch 196 took 47.86 seconds.\n",
      "Batch 245 took 59.53 seconds.\n",
      "Total runtime: 1585.07, Epoch: 18, took: 71.16 seconds, loss_g: -8774.83, loss_d: -715.33\n",
      "Saving model at epoch 18\n",
      "Batch 0 took 0.23 seconds.\n",
      "Batch 49 took 12.05 seconds.\n",
      "Batch 98 took 23.63 seconds.\n",
      "Batch 147 took 35.75 seconds.\n",
      "Batch 196 took 47.40 seconds.\n",
      "Batch 245 took 59.17 seconds.\n",
      "Total runtime: 1656.04, Epoch: 19, took: 70.96 seconds, loss_g: -7006.56, loss_d: -717.50\n",
      "Saving model at epoch 19\n",
      "Batch 0 took 0.26 seconds.\n",
      "Batch 49 took 12.20 seconds.\n",
      "Batch 98 took 24.10 seconds.\n",
      "Batch 147 took 35.97 seconds.\n",
      "Batch 196 took 47.80 seconds.\n",
      "Batch 245 took 59.48 seconds.\n",
      "Total runtime: 1726.91, Epoch: 20, took: 70.87 seconds, loss_g: -7694.30, loss_d: -733.58\n",
      "Batch 0 took 0.18 seconds.\n",
      "Batch 49 took 11.97 seconds.\n",
      "Batch 98 took 24.02 seconds.\n",
      "Batch 147 took 36.03 seconds.\n",
      "Batch 196 took 47.83 seconds.\n",
      "Batch 245 took 60.17 seconds.\n",
      "Total runtime: 1797.99, Epoch: 21, took: 71.08 seconds, loss_g: -10204.82, loss_d: -737.08\n",
      "Saving model at epoch 21\n",
      "Batch 0 took 0.21 seconds.\n",
      "Batch 49 took 11.97 seconds.\n",
      "Batch 98 took 23.88 seconds.\n",
      "Batch 147 took 36.22 seconds.\n",
      "Batch 196 took 48.01 seconds.\n",
      "Batch 245 took 59.88 seconds.\n",
      "Total runtime: 1869.33, Epoch: 22, took: 71.33 seconds, loss_g: -10182.52, loss_d: -747.63\n",
      "Saving model at epoch 22\n",
      "Batch 0 took 0.21 seconds.\n",
      "Batch 49 took 11.87 seconds.\n",
      "Batch 98 took 23.89 seconds.\n",
      "Batch 147 took 36.40 seconds.\n",
      "Batch 196 took 47.81 seconds.\n",
      "Batch 245 took 59.49 seconds.\n",
      "Total runtime: 1940.02, Epoch: 23, took: 70.68 seconds, loss_g: -10104.16, loss_d: -704.34\n",
      "Saving model at epoch 23\n",
      "Batch 0 took 0.21 seconds.\n",
      "Batch 49 took 12.75 seconds.\n",
      "Batch 98 took 24.41 seconds.\n",
      "Batch 147 took 36.19 seconds.\n",
      "Batch 196 took 47.96 seconds.\n",
      "Batch 245 took 60.12 seconds.\n",
      "Total runtime: 2011.71, Epoch: 24, took: 71.68 seconds, loss_g: -9496.90, loss_d: -761.85\n",
      "Saving model at epoch 24\n",
      "Batch 0 took 0.20 seconds.\n",
      "Batch 49 took 11.93 seconds.\n",
      "Batch 98 took 23.54 seconds.\n",
      "Batch 147 took 35.14 seconds.\n",
      "Batch 196 took 46.93 seconds.\n",
      "Batch 245 took 58.96 seconds.\n",
      "Total runtime: 2082.50, Epoch: 25, took: 70.78 seconds, loss_g: -10084.71, loss_d: -754.17\n",
      "Saving model at epoch 25\n",
      "Batch 0 took 0.30 seconds.\n",
      "Batch 49 took 12.08 seconds.\n",
      "Batch 98 took 24.04 seconds.\n",
      "Batch 147 took 35.71 seconds.\n",
      "Batch 196 took 46.90 seconds.\n",
      "Batch 245 took 59.15 seconds.\n",
      "Total runtime: 2153.28, Epoch: 26, took: 70.78 seconds, loss_g: -8939.44, loss_d: -673.49\n",
      "Saving model at epoch 26\n",
      "Batch 0 took 0.22 seconds.\n",
      "Batch 49 took 11.79 seconds.\n",
      "Batch 98 took 23.46 seconds.\n",
      "Batch 147 took 35.26 seconds.\n",
      "Batch 196 took 47.88 seconds.\n",
      "Batch 245 took 59.69 seconds.\n",
      "Total runtime: 2224.37, Epoch: 27, took: 71.08 seconds, loss_g: -7755.57, loss_d: -681.71\n",
      "Saving model at epoch 27\n",
      "Batch 0 took 0.20 seconds.\n",
      "Batch 49 took 11.66 seconds.\n",
      "Batch 98 took 24.08 seconds.\n",
      "Batch 147 took 35.75 seconds.\n",
      "Batch 196 took 47.78 seconds.\n",
      "Batch 245 took 59.79 seconds.\n",
      "Total runtime: 2295.56, Epoch: 28, took: 71.18 seconds, loss_g: -9155.96, loss_d: -615.72\n",
      "Saving model at epoch 28\n",
      "Batch 0 took 0.19 seconds.\n",
      "Batch 49 took 11.82 seconds.\n",
      "Batch 98 took 23.20 seconds.\n",
      "Batch 147 took 35.10 seconds.\n",
      "Batch 196 took 47.45 seconds.\n",
      "Batch 245 took 59.26 seconds.\n",
      "Total runtime: 2366.36, Epoch: 29, took: 70.79 seconds, loss_g: -7535.82, loss_d: -639.32\n",
      "Saving model at epoch 29\n",
      "Batch 0 took 0.29 seconds.\n",
      "Batch 49 took 12.13 seconds.\n",
      "Batch 98 took 24.25 seconds.\n",
      "Batch 147 took 36.25 seconds.\n",
      "Batch 196 took 47.96 seconds.\n",
      "Batch 245 took 59.70 seconds.\n",
      "Total runtime: 2437.58, Epoch: 30, took: 71.22 seconds, loss_g: -7111.40, loss_d: -694.74\n",
      "Batch 0 took 0.28 seconds.\n",
      "Batch 49 took 12.47 seconds.\n",
      "Batch 98 took 23.91 seconds.\n",
      "Batch 147 took 36.21 seconds.\n",
      "Batch 196 took 48.78 seconds.\n",
      "Batch 245 took 60.89 seconds.\n",
      "Total runtime: 2510.09, Epoch: 31, took: 72.51 seconds, loss_g: -8570.40, loss_d: -668.63\n",
      "Saving model at epoch 31\n",
      "Batch 0 took 0.26 seconds.\n",
      "Batch 49 took 12.42 seconds.\n",
      "Batch 98 took 24.02 seconds.\n",
      "Batch 147 took 36.26 seconds.\n",
      "Batch 196 took 48.02 seconds.\n",
      "Batch 245 took 59.72 seconds.\n",
      "Total runtime: 2580.97, Epoch: 32, took: 70.87 seconds, loss_g: -8328.45, loss_d: -621.58\n",
      "Saving model at epoch 32\n",
      "Batch 0 took 0.19 seconds.\n",
      "Batch 49 took 12.02 seconds.\n",
      "Batch 98 took 24.10 seconds.\n",
      "Batch 147 took 36.33 seconds.\n",
      "Batch 196 took 48.48 seconds.\n",
      "Batch 245 took 60.11 seconds.\n",
      "Total runtime: 2652.16, Epoch: 33, took: 71.19 seconds, loss_g: -7773.70, loss_d: -658.27\n",
      "Saving model at epoch 33\n",
      "Batch 0 took 0.29 seconds.\n",
      "Batch 49 took 11.85 seconds.\n",
      "Batch 98 took 23.53 seconds.\n",
      "Batch 147 took 35.33 seconds.\n",
      "Batch 196 took 47.21 seconds.\n",
      "Batch 245 took 59.14 seconds.\n",
      "Total runtime: 2723.09, Epoch: 34, took: 70.92 seconds, loss_g: -7444.09, loss_d: -646.07\n",
      "Saving model at epoch 34\n",
      "Batch 0 took 0.29 seconds.\n",
      "Batch 49 took 11.87 seconds.\n",
      "Batch 98 took 23.79 seconds.\n",
      "Batch 147 took 35.48 seconds.\n",
      "Batch 196 took 47.83 seconds.\n",
      "Batch 245 took 59.54 seconds.\n",
      "Total runtime: 2794.14, Epoch: 35, took: 71.05 seconds, loss_g: -6480.85, loss_d: -625.27\n",
      "Saving model at epoch 35\n",
      "Batch 0 took 0.31 seconds.\n",
      "Batch 49 took 11.96 seconds.\n",
      "Batch 98 took 23.83 seconds.\n",
      "Batch 147 took 35.72 seconds.\n",
      "Batch 196 took 47.47 seconds.\n",
      "Batch 245 took 59.08 seconds.\n",
      "Total runtime: 2865.05, Epoch: 36, took: 70.91 seconds, loss_g: -5622.10, loss_d: -650.80\n",
      "Saving model at epoch 36\n",
      "Batch 0 took 0.21 seconds.\n",
      "Batch 49 took 12.13 seconds.\n",
      "Batch 98 took 23.87 seconds.\n",
      "Batch 147 took 35.57 seconds.\n",
      "Batch 196 took 47.83 seconds.\n",
      "Batch 245 took 59.96 seconds.\n",
      "Total runtime: 2936.25, Epoch: 37, took: 71.19 seconds, loss_g: -5651.13, loss_d: -652.10\n",
      "Saving model at epoch 37\n",
      "Batch 0 took 0.27 seconds.\n",
      "Batch 49 took 12.05 seconds.\n",
      "Batch 98 took 23.55 seconds.\n",
      "Batch 147 took 35.72 seconds.\n",
      "Batch 196 took 48.20 seconds.\n",
      "Batch 245 took 60.30 seconds.\n",
      "Total runtime: 3007.80, Epoch: 38, took: 71.54 seconds, loss_g: -4137.74, loss_d: -649.48\n",
      "Saving model at epoch 38\n",
      "Batch 0 took 0.19 seconds.\n",
      "Batch 49 took 11.91 seconds.\n",
      "Batch 98 took 24.00 seconds.\n",
      "Batch 147 took 35.92 seconds.\n",
      "Batch 196 took 47.80 seconds.\n",
      "Batch 245 took 59.92 seconds.\n",
      "Total runtime: 3079.49, Epoch: 39, took: 71.69 seconds, loss_g: -3997.47, loss_d: -612.85\n",
      "Saving model at epoch 39\n",
      "Batch 0 took 0.32 seconds.\n",
      "Batch 49 took 12.05 seconds.\n",
      "Batch 98 took 24.34 seconds.\n",
      "Batch 147 took 36.21 seconds.\n",
      "Batch 196 took 48.53 seconds.\n",
      "Batch 245 took 60.35 seconds.\n",
      "Total runtime: 3151.07, Epoch: 40, took: 71.57 seconds, loss_g: -4623.56, loss_d: -610.29\n",
      "Batch 0 took 0.27 seconds.\n",
      "Batch 49 took 12.18 seconds.\n",
      "Batch 98 took 24.56 seconds.\n",
      "Batch 147 took 36.82 seconds.\n",
      "Batch 196 took 48.78 seconds.\n",
      "Batch 245 took 60.26 seconds.\n",
      "Total runtime: 3222.95, Epoch: 41, took: 71.89 seconds, loss_g: -4576.72, loss_d: -595.19\n",
      "Saving model at epoch 41\n",
      "Batch 0 took 0.28 seconds.\n",
      "Batch 49 took 12.24 seconds.\n",
      "Batch 98 took 24.80 seconds.\n",
      "Batch 147 took 36.84 seconds.\n",
      "Batch 196 took 48.55 seconds.\n",
      "Batch 245 took 60.26 seconds.\n",
      "Total runtime: 3295.15, Epoch: 42, took: 72.20 seconds, loss_g: -4664.32, loss_d: -555.70\n",
      "Saving model at epoch 42\n",
      "Batch 0 took 0.22 seconds.\n",
      "Batch 49 took 12.02 seconds.\n",
      "Batch 98 took 24.26 seconds.\n",
      "Batch 147 took 36.32 seconds.\n",
      "Batch 196 took 48.04 seconds.\n",
      "Batch 245 took 60.09 seconds.\n",
      "Total runtime: 3366.68, Epoch: 43, took: 71.52 seconds, loss_g: -4932.09, loss_d: -567.22\n",
      "Saving model at epoch 43\n",
      "Batch 0 took 0.23 seconds.\n",
      "Batch 49 took 12.22 seconds.\n",
      "Batch 98 took 24.76 seconds.\n",
      "Batch 147 took 36.43 seconds.\n",
      "Batch 196 took 48.12 seconds.\n",
      "Batch 245 took 59.90 seconds.\n",
      "Total runtime: 3437.93, Epoch: 44, took: 71.24 seconds, loss_g: -4851.21, loss_d: -541.74\n",
      "Saving model at epoch 44\n",
      "Batch 0 took 0.30 seconds.\n",
      "Batch 49 took 12.28 seconds.\n",
      "Batch 98 took 23.99 seconds.\n",
      "Batch 147 took 36.03 seconds.\n",
      "Batch 196 took 47.85 seconds.\n",
      "Batch 245 took 59.75 seconds.\n",
      "Total runtime: 3509.59, Epoch: 45, took: 71.66 seconds, loss_g: -4184.01, loss_d: -524.39\n",
      "Saving model at epoch 45\n",
      "Batch 0 took 0.19 seconds.\n",
      "Batch 49 took 12.52 seconds.\n",
      "Batch 98 took 24.33 seconds.\n",
      "Batch 147 took 36.19 seconds.\n",
      "Batch 196 took 47.81 seconds.\n",
      "Batch 245 took 60.25 seconds.\n",
      "Total runtime: 3581.09, Epoch: 46, took: 71.50 seconds, loss_g: -4455.23, loss_d: -525.91\n",
      "Saving model at epoch 46\n",
      "Batch 0 took 0.20 seconds.\n",
      "Batch 49 took 12.13 seconds.\n",
      "Batch 98 took 23.63 seconds.\n",
      "Batch 147 took 36.07 seconds.\n",
      "Batch 196 took 47.87 seconds.\n",
      "Batch 245 took 60.31 seconds.\n",
      "Total runtime: 3652.49, Epoch: 47, took: 71.40 seconds, loss_g: -4170.40, loss_d: -520.24\n",
      "Saving model at epoch 47\n",
      "Batch 0 took 0.29 seconds.\n",
      "Batch 49 took 12.59 seconds.\n",
      "Batch 98 took 25.19 seconds.\n",
      "Batch 147 took 37.13 seconds.\n",
      "Batch 196 took 48.71 seconds.\n",
      "Batch 245 took 60.70 seconds.\n",
      "Total runtime: 3724.92, Epoch: 48, took: 72.43 seconds, loss_g: -4049.57, loss_d: -528.56\n",
      "Saving model at epoch 48\n",
      "Batch 0 took 0.28 seconds.\n",
      "Batch 49 took 12.33 seconds.\n",
      "Batch 98 took 23.87 seconds.\n",
      "Batch 147 took 35.35 seconds.\n",
      "Batch 196 took 47.37 seconds.\n",
      "Batch 245 took 59.43 seconds.\n",
      "Total runtime: 3796.37, Epoch: 49, took: 71.44 seconds, loss_g: -3845.94, loss_d: -533.94\n",
      "Saving model at epoch 49\n",
      "Batch 0 took 0.27 seconds.\n",
      "Batch 49 took 12.32 seconds.\n",
      "Batch 98 took 24.24 seconds.\n",
      "Batch 147 took 35.87 seconds.\n",
      "Batch 196 took 47.63 seconds.\n",
      "Batch 245 took 59.78 seconds.\n",
      "Total runtime: 3868.01, Epoch: 50, took: 71.63 seconds, loss_g: -3697.92, loss_d: -456.74\n",
      "Batch 0 took 0.28 seconds.\n",
      "Batch 49 took 12.42 seconds.\n",
      "Batch 98 took 24.82 seconds.\n",
      "Batch 147 took 36.53 seconds.\n",
      "Batch 196 took 48.03 seconds.\n",
      "Batch 245 took 60.22 seconds.\n",
      "Total runtime: 3939.68, Epoch: 51, took: 71.68 seconds, loss_g: -2717.32, loss_d: -411.44\n",
      "Saving model at epoch 51\n",
      "Batch 0 took 0.26 seconds.\n",
      "Batch 49 took 11.75 seconds.\n",
      "Batch 98 took 23.60 seconds.\n",
      "Batch 147 took 35.36 seconds.\n",
      "Batch 196 took 47.06 seconds.\n",
      "Batch 245 took 59.44 seconds.\n",
      "Total runtime: 4010.82, Epoch: 52, took: 71.13 seconds, loss_g: -3462.78, loss_d: -512.53\n",
      "Saving model at epoch 52\n",
      "Batch 0 took 0.28 seconds.\n",
      "Batch 49 took 12.49 seconds.\n",
      "Batch 98 took 24.20 seconds.\n",
      "Batch 147 took 36.27 seconds.\n",
      "Batch 196 took 47.92 seconds.\n",
      "Batch 245 took 59.98 seconds.\n",
      "Total runtime: 4082.39, Epoch: 53, took: 71.57 seconds, loss_g: -3453.08, loss_d: -496.36\n",
      "Saving model at epoch 53\n",
      "Batch 0 took 0.20 seconds.\n",
      "Batch 49 took 12.17 seconds.\n",
      "Batch 98 took 23.68 seconds.\n",
      "Batch 147 took 35.56 seconds.\n",
      "Batch 196 took 47.83 seconds.\n",
      "Batch 245 took 59.72 seconds.\n",
      "Total runtime: 4153.67, Epoch: 54, took: 71.27 seconds, loss_g: -3305.35, loss_d: -512.18\n",
      "Saving model at epoch 54\n",
      "Batch 0 took 0.28 seconds.\n",
      "Batch 49 took 12.21 seconds.\n",
      "Batch 98 took 23.86 seconds.\n",
      "Batch 147 took 35.53 seconds.\n",
      "Batch 196 took 48.19 seconds.\n",
      "Batch 245 took 60.11 seconds.\n",
      "Total runtime: 4224.96, Epoch: 55, took: 71.29 seconds, loss_g: -2821.11, loss_d: -490.26\n",
      "Saving model at epoch 55\n",
      "Batch 0 took 0.27 seconds.\n",
      "Batch 49 took 12.81 seconds.\n",
      "Batch 98 took 24.84 seconds.\n",
      "Batch 147 took 36.68 seconds.\n",
      "Batch 196 took 48.53 seconds.\n",
      "Batch 245 took 60.02 seconds.\n",
      "Total runtime: 4296.77, Epoch: 56, took: 71.80 seconds, loss_g: -3026.27, loss_d: -515.84\n",
      "Saving model at epoch 56\n",
      "Batch 0 took 0.23 seconds.\n",
      "Batch 49 took 11.91 seconds.\n",
      "Batch 98 took 23.82 seconds.\n",
      "Batch 147 took 35.74 seconds.\n",
      "Batch 196 took 47.50 seconds.\n",
      "Batch 245 took 59.75 seconds.\n",
      "Total runtime: 4368.24, Epoch: 57, took: 71.46 seconds, loss_g: -3135.48, loss_d: -486.19\n",
      "Saving model at epoch 57\n",
      "Batch 0 took 0.19 seconds.\n",
      "Batch 49 took 12.17 seconds.\n",
      "Batch 98 took 24.44 seconds.\n",
      "Batch 147 took 35.98 seconds.\n",
      "Batch 196 took 48.05 seconds.\n",
      "Batch 245 took 59.93 seconds.\n",
      "Total runtime: 4439.86, Epoch: 58, took: 71.62 seconds, loss_g: -3211.03, loss_d: -477.67\n",
      "Saving model at epoch 58\n",
      "Batch 0 took 0.34 seconds.\n",
      "Batch 49 took 12.00 seconds.\n",
      "Batch 98 took 24.17 seconds.\n",
      "Batch 147 took 36.17 seconds.\n",
      "Batch 196 took 48.08 seconds.\n",
      "Batch 245 took 60.07 seconds.\n",
      "Total runtime: 4511.57, Epoch: 59, took: 71.71 seconds, loss_g: -2831.74, loss_d: -455.53\n",
      "Saving model at epoch 59\n",
      "Batch 0 took 0.21 seconds.\n",
      "Batch 49 took 12.08 seconds.\n",
      "Batch 98 took 24.11 seconds.\n",
      "Batch 147 took 36.04 seconds.\n",
      "Batch 196 took 47.55 seconds.\n",
      "Batch 245 took 59.24 seconds.\n",
      "Total runtime: 4582.24, Epoch: 60, took: 70.67 seconds, loss_g: -2930.95, loss_d: -465.23\n",
      "Batch 0 took 0.26 seconds.\n",
      "Batch 49 took 11.67 seconds.\n",
      "Batch 98 took 23.60 seconds.\n",
      "Batch 147 took 35.82 seconds.\n",
      "Batch 196 took 47.74 seconds.\n",
      "Batch 245 took 59.58 seconds.\n",
      "Total runtime: 4653.49, Epoch: 61, took: 71.25 seconds, loss_g: -3094.42, loss_d: -489.09\n",
      "Saving model at epoch 61\n",
      "Batch 0 took 0.21 seconds.\n",
      "Batch 49 took 12.79 seconds.\n",
      "Batch 98 took 24.99 seconds.\n",
      "Batch 147 took 36.29 seconds.\n",
      "Batch 196 took 48.15 seconds.\n",
      "Batch 245 took 59.68 seconds.\n",
      "Total runtime: 4724.60, Epoch: 62, took: 71.11 seconds, loss_g: -3506.97, loss_d: -479.85\n",
      "Saving model at epoch 62\n",
      "Batch 0 took 0.27 seconds.\n",
      "Batch 49 took 11.66 seconds.\n",
      "Batch 98 took 23.60 seconds.\n",
      "Batch 147 took 35.99 seconds.\n",
      "Batch 196 took 47.67 seconds.\n",
      "Batch 245 took 59.23 seconds.\n",
      "Total runtime: 4796.52, Epoch: 63, took: 71.91 seconds, loss_g: -2402.21, loss_d: -453.06\n",
      "Saving model at epoch 63\n",
      "Batch 0 took 0.27 seconds.\n",
      "Batch 49 took 11.58 seconds.\n",
      "Batch 98 took 23.58 seconds.\n",
      "Batch 147 took 35.79 seconds.\n",
      "Batch 196 took 47.99 seconds.\n",
      "Batch 245 took 59.94 seconds.\n",
      "Total runtime: 4867.75, Epoch: 64, took: 71.22 seconds, loss_g: -2465.89, loss_d: -487.46\n",
      "Saving model at epoch 64\n",
      "Batch 0 took 0.21 seconds.\n",
      "Batch 49 took 12.73 seconds.\n",
      "Batch 98 took 25.01 seconds.\n",
      "Batch 147 took 36.69 seconds.\n",
      "Batch 196 took 48.88 seconds.\n",
      "Batch 245 took 60.63 seconds.\n",
      "Total runtime: 4940.02, Epoch: 65, took: 72.26 seconds, loss_g: -2255.77, loss_d: -455.85\n",
      "Saving model at epoch 65\n",
      "Batch 0 took 0.28 seconds.\n",
      "Batch 49 took 12.86 seconds.\n",
      "Batch 98 took 24.76 seconds.\n",
      "Batch 147 took 36.84 seconds.\n",
      "Batch 196 took 49.23 seconds.\n",
      "Batch 245 took 60.77 seconds.\n",
      "Total runtime: 5012.23, Epoch: 66, took: 72.21 seconds, loss_g: -2112.94, loss_d: -461.51\n",
      "Saving model at epoch 66\n",
      "Batch 0 took 0.29 seconds.\n",
      "Batch 49 took 12.04 seconds.\n",
      "Batch 98 took 24.42 seconds.\n",
      "Batch 147 took 36.84 seconds.\n",
      "Batch 196 took 48.74 seconds.\n",
      "Batch 245 took 60.20 seconds.\n",
      "Total runtime: 5084.10, Epoch: 67, took: 71.86 seconds, loss_g: -2327.33, loss_d: -455.49\n",
      "Saving model at epoch 67\n",
      "Batch 0 took 0.23 seconds.\n",
      "Batch 49 took 11.50 seconds.\n",
      "Batch 98 took 23.34 seconds.\n",
      "Batch 147 took 35.38 seconds.\n",
      "Batch 196 took 47.46 seconds.\n",
      "Batch 245 took 59.57 seconds.\n",
      "Total runtime: 5155.17, Epoch: 68, took: 71.06 seconds, loss_g: -2397.10, loss_d: -493.94\n",
      "Saving model at epoch 68\n",
      "Batch 0 took 0.29 seconds.\n",
      "Batch 49 took 11.98 seconds.\n",
      "Batch 98 took 24.11 seconds.\n",
      "Batch 147 took 36.05 seconds.\n",
      "Batch 196 took 48.25 seconds.\n",
      "Batch 245 took 59.89 seconds.\n",
      "Total runtime: 5226.49, Epoch: 69, took: 71.32 seconds, loss_g: -2399.48, loss_d: -444.17\n",
      "Saving model at epoch 69\n",
      "Batch 0 took 0.23 seconds.\n",
      "Batch 49 took 12.01 seconds.\n",
      "Batch 98 took 23.45 seconds.\n",
      "Batch 147 took 35.48 seconds.\n",
      "Batch 196 took 47.70 seconds.\n",
      "Batch 245 took 59.59 seconds.\n",
      "Total runtime: 5298.01, Epoch: 70, took: 71.51 seconds, loss_g: -2461.64, loss_d: -442.30\n",
      "Batch 0 took 0.22 seconds.\n",
      "Batch 49 took 11.54 seconds.\n",
      "Batch 98 took 23.28 seconds.\n",
      "Batch 147 took 35.19 seconds.\n",
      "Batch 196 took 47.37 seconds.\n",
      "Batch 245 took 59.58 seconds.\n",
      "Total runtime: 5369.10, Epoch: 71, took: 71.10 seconds, loss_g: -2390.98, loss_d: -475.90\n",
      "Saving model at epoch 71\n",
      "Batch 0 took 0.36 seconds.\n",
      "Batch 49 took 11.72 seconds.\n",
      "Batch 98 took 23.68 seconds.\n",
      "Batch 147 took 35.96 seconds.\n",
      "Batch 196 took 47.73 seconds.\n",
      "Batch 245 took 60.00 seconds.\n",
      "Total runtime: 5440.80, Epoch: 72, took: 71.69 seconds, loss_g: -2061.52, loss_d: -457.95\n",
      "Saving model at epoch 72\n",
      "Batch 0 took 0.28 seconds.\n",
      "Batch 49 took 11.77 seconds.\n",
      "Batch 98 took 23.60 seconds.\n",
      "Batch 147 took 35.50 seconds.\n",
      "Batch 196 took 47.67 seconds.\n",
      "Batch 245 took 59.46 seconds.\n",
      "Total runtime: 5512.18, Epoch: 73, took: 71.37 seconds, loss_g: -2273.78, loss_d: -471.62\n",
      "Saving model at epoch 73\n",
      "Batch 0 took 0.29 seconds.\n",
      "Batch 49 took 12.82 seconds.\n",
      "Batch 98 took 24.20 seconds.\n",
      "Batch 147 took 37.10 seconds.\n",
      "Batch 196 took 49.13 seconds.\n",
      "Batch 245 took 61.25 seconds.\n",
      "Total runtime: 5584.92, Epoch: 74, took: 72.73 seconds, loss_g: -2174.60, loss_d: -446.28\n",
      "Saving model at epoch 74\n",
      "Batch 0 took 0.25 seconds.\n",
      "Batch 49 took 11.68 seconds.\n",
      "Batch 98 took 23.83 seconds.\n",
      "Batch 147 took 36.23 seconds.\n",
      "Batch 196 took 47.88 seconds.\n",
      "Batch 245 took 59.98 seconds.\n",
      "Total runtime: 5656.28, Epoch: 75, took: 71.35 seconds, loss_g: -2022.17, loss_d: -471.45\n",
      "Saving model at epoch 75\n",
      "Batch 0 took 0.22 seconds.\n",
      "Batch 49 took 12.12 seconds.\n",
      "Batch 98 took 24.05 seconds.\n",
      "Batch 147 took 36.67 seconds.\n",
      "Batch 196 took 48.44 seconds.\n",
      "Batch 245 took 60.75 seconds.\n",
      "Total runtime: 5728.44, Epoch: 76, took: 72.15 seconds, loss_g: -2242.25, loss_d: -487.48\n",
      "Saving model at epoch 76\n",
      "Batch 0 took 0.22 seconds.\n",
      "Batch 49 took 12.31 seconds.\n",
      "Batch 98 took 24.29 seconds.\n",
      "Batch 147 took 35.69 seconds.\n",
      "Batch 196 took 47.41 seconds.\n",
      "Batch 245 took 59.15 seconds.\n",
      "Total runtime: 5799.49, Epoch: 77, took: 71.04 seconds, loss_g: -1931.78, loss_d: -463.94\n",
      "Saving model at epoch 77\n",
      "Batch 0 took 0.21 seconds.\n",
      "Batch 49 took 11.73 seconds.\n",
      "Batch 98 took 23.62 seconds.\n",
      "Batch 147 took 35.45 seconds.\n",
      "Batch 196 took 47.68 seconds.\n",
      "Batch 245 took 59.64 seconds.\n",
      "Total runtime: 5870.91, Epoch: 78, took: 71.42 seconds, loss_g: -2106.13, loss_d: -474.91\n",
      "Saving model at epoch 78\n",
      "Batch 0 took 0.30 seconds.\n",
      "Batch 49 took 12.36 seconds.\n",
      "Batch 98 took 24.31 seconds.\n",
      "Batch 147 took 36.26 seconds.\n",
      "Batch 196 took 48.49 seconds.\n",
      "Batch 245 took 60.45 seconds.\n",
      "Total runtime: 5942.78, Epoch: 79, took: 71.87 seconds, loss_g: -2138.21, loss_d: -480.79\n",
      "Saving model at epoch 79\n",
      "Batch 0 took 0.22 seconds.\n",
      "Batch 49 took 12.40 seconds.\n",
      "Batch 98 took 24.35 seconds.\n",
      "Batch 147 took 36.32 seconds.\n",
      "Batch 196 took 48.15 seconds.\n",
      "Batch 245 took 60.21 seconds.\n",
      "Total runtime: 6014.03, Epoch: 80, took: 71.24 seconds, loss_g: -2009.70, loss_d: -527.87\n",
      "Batch 0 took 0.28 seconds.\n",
      "Batch 49 took 12.10 seconds.\n",
      "Batch 98 took 24.03 seconds.\n",
      "Batch 147 took 36.01 seconds.\n",
      "Batch 196 took 48.35 seconds.\n",
      "Batch 245 took 60.29 seconds.\n",
      "Total runtime: 6086.56, Epoch: 81, took: 72.53 seconds, loss_g: -2266.79, loss_d: -502.63\n",
      "Saving model at epoch 81\n",
      "Batch 0 took 0.20 seconds.\n",
      "Batch 49 took 12.26 seconds.\n",
      "Batch 98 took 23.98 seconds.\n",
      "Batch 147 took 36.32 seconds.\n",
      "Batch 196 took 47.88 seconds.\n",
      "Batch 245 took 59.95 seconds.\n",
      "Total runtime: 6158.40, Epoch: 82, took: 71.83 seconds, loss_g: -1725.88, loss_d: -478.78\n",
      "Saving model at epoch 82\n",
      "Batch 0 took 0.20 seconds.\n",
      "Batch 49 took 12.42 seconds.\n",
      "Batch 98 took 24.50 seconds.\n",
      "Batch 147 took 36.39 seconds.\n",
      "Batch 196 took 48.37 seconds.\n",
      "Batch 245 took 60.56 seconds.\n",
      "Total runtime: 6230.26, Epoch: 83, took: 71.86 seconds, loss_g: -2096.42, loss_d: -475.77\n",
      "Saving model at epoch 83\n",
      "Batch 0 took 0.23 seconds.\n",
      "Batch 49 took 12.54 seconds.\n",
      "Batch 98 took 23.86 seconds.\n",
      "Batch 147 took 35.73 seconds.\n",
      "Batch 196 took 47.75 seconds.\n",
      "Batch 245 took 59.62 seconds.\n",
      "Total runtime: 6301.64, Epoch: 84, took: 71.38 seconds, loss_g: -2264.64, loss_d: -479.85\n",
      "Saving model at epoch 84\n",
      "Batch 0 took 0.21 seconds.\n",
      "Batch 49 took 12.28 seconds.\n",
      "Batch 98 took 24.15 seconds.\n",
      "Batch 147 took 35.86 seconds.\n",
      "Batch 196 took 48.06 seconds.\n",
      "Batch 245 took 59.86 seconds.\n",
      "Total runtime: 6373.09, Epoch: 85, took: 71.44 seconds, loss_g: -2332.39, loss_d: -475.16\n",
      "Saving model at epoch 85\n",
      "Batch 0 took 0.22 seconds.\n",
      "Batch 49 took 12.09 seconds.\n",
      "Batch 98 took 24.01 seconds.\n",
      "Batch 147 took 36.62 seconds.\n",
      "Batch 196 took 48.80 seconds.\n",
      "Batch 245 took 60.46 seconds.\n",
      "Total runtime: 6445.00, Epoch: 86, took: 71.90 seconds, loss_g: -1860.82, loss_d: -456.72\n",
      "Saving model at epoch 86\n",
      "Batch 0 took 0.20 seconds.\n",
      "Batch 49 took 12.00 seconds.\n",
      "Batch 98 took 23.78 seconds.\n",
      "Batch 147 took 36.46 seconds.\n",
      "Batch 196 took 48.64 seconds.\n",
      "Batch 245 took 60.66 seconds.\n",
      "Total runtime: 6516.63, Epoch: 87, took: 71.63 seconds, loss_g: -2264.34, loss_d: -499.95\n",
      "Saving model at epoch 87\n",
      "Batch 0 took 0.18 seconds.\n",
      "Batch 49 took 11.90 seconds.\n",
      "Batch 98 took 23.61 seconds.\n",
      "Batch 147 took 36.04 seconds.\n",
      "Batch 196 took 47.91 seconds.\n",
      "Batch 245 took 59.83 seconds.\n",
      "Total runtime: 6588.26, Epoch: 88, took: 71.63 seconds, loss_g: -2619.76, loss_d: -488.04\n",
      "Saving model at epoch 88\n",
      "Batch 0 took 0.31 seconds.\n",
      "Batch 49 took 13.07 seconds.\n",
      "Batch 98 took 24.67 seconds.\n",
      "Batch 147 took 36.47 seconds.\n",
      "Batch 196 took 48.75 seconds.\n",
      "Batch 245 took 60.36 seconds.\n",
      "Total runtime: 6660.56, Epoch: 89, took: 72.29 seconds, loss_g: -2438.47, loss_d: -481.91\n",
      "Saving model at epoch 89\n",
      "Batch 0 took 0.22 seconds.\n",
      "Batch 49 took 11.75 seconds.\n",
      "Batch 98 took 24.01 seconds.\n",
      "Batch 147 took 36.10 seconds.\n",
      "Batch 196 took 47.96 seconds.\n",
      "Batch 245 took 59.85 seconds.\n",
      "Total runtime: 6732.01, Epoch: 90, took: 71.44 seconds, loss_g: -2292.56, loss_d: -489.67\n",
      "Batch 0 took 0.28 seconds.\n",
      "Batch 49 took 12.23 seconds.\n",
      "Batch 98 took 24.20 seconds.\n",
      "Batch 147 took 35.79 seconds.\n",
      "Batch 196 took 48.11 seconds.\n",
      "Batch 245 took 59.71 seconds.\n",
      "Total runtime: 6803.92, Epoch: 91, took: 71.92 seconds, loss_g: -2578.27, loss_d: -473.87\n",
      "Saving model at epoch 91\n",
      "Batch 0 took 0.28 seconds.\n",
      "Batch 49 took 12.68 seconds.\n",
      "Batch 98 took 25.27 seconds.\n",
      "Batch 147 took 37.69 seconds.\n",
      "Batch 196 took 49.48 seconds.\n",
      "Batch 245 took 60.99 seconds.\n",
      "Total runtime: 6876.34, Epoch: 92, took: 72.42 seconds, loss_g: -2269.97, loss_d: -462.79\n",
      "Saving model at epoch 92\n",
      "Batch 0 took 0.30 seconds.\n",
      "Batch 49 took 12.16 seconds.\n",
      "Batch 98 took 24.38 seconds.\n",
      "Batch 147 took 36.06 seconds.\n",
      "Batch 196 took 47.69 seconds.\n",
      "Batch 245 took 60.03 seconds.\n",
      "Total runtime: 6947.97, Epoch: 93, took: 71.62 seconds, loss_g: -2368.24, loss_d: -468.01\n",
      "Saving model at epoch 93\n",
      "Batch 0 took 0.27 seconds.\n",
      "Batch 49 took 12.29 seconds.\n",
      "Batch 98 took 24.05 seconds.\n",
      "Batch 147 took 35.60 seconds.\n",
      "Batch 196 took 47.39 seconds.\n",
      "Batch 245 took 59.27 seconds.\n",
      "Total runtime: 7018.91, Epoch: 94, took: 70.94 seconds, loss_g: -2562.33, loss_d: -468.45\n",
      "Saving model at epoch 94\n",
      "Batch 0 took 0.28 seconds.\n",
      "Batch 49 took 12.10 seconds.\n",
      "Batch 98 took 24.06 seconds.\n",
      "Batch 147 took 36.71 seconds.\n",
      "Batch 196 took 49.06 seconds.\n",
      "Batch 245 took 60.82 seconds.\n",
      "Total runtime: 7090.53, Epoch: 95, took: 71.61 seconds, loss_g: -2278.79, loss_d: -483.89\n",
      "Saving model at epoch 95\n",
      "Batch 0 took 0.21 seconds.\n",
      "Batch 49 took 12.77 seconds.\n",
      "Batch 98 took 24.91 seconds.\n",
      "Batch 147 took 36.77 seconds.\n",
      "Batch 196 took 48.20 seconds.\n",
      "Batch 245 took 60.17 seconds.\n",
      "Total runtime: 7162.19, Epoch: 96, took: 71.65 seconds, loss_g: -2129.33, loss_d: -501.32\n",
      "Saving model at epoch 96\n",
      "Batch 0 took 0.22 seconds.\n",
      "Batch 49 took 11.96 seconds.\n",
      "Batch 98 took 24.33 seconds.\n",
      "Batch 147 took 35.75 seconds.\n",
      "Batch 196 took 47.87 seconds.\n",
      "Batch 245 took 59.92 seconds.\n",
      "Total runtime: 7233.97, Epoch: 97, took: 71.77 seconds, loss_g: -2149.62, loss_d: -469.49\n",
      "Saving model at epoch 97\n",
      "Batch 0 took 0.22 seconds.\n",
      "Batch 49 took 12.03 seconds.\n",
      "Batch 98 took 23.90 seconds.\n",
      "Batch 147 took 36.04 seconds.\n",
      "Batch 196 took 48.38 seconds.\n",
      "Batch 245 took 60.27 seconds.\n",
      "Total runtime: 7305.97, Epoch: 98, took: 71.99 seconds, loss_g: -2034.79, loss_d: -457.63\n",
      "Saving model at epoch 98\n",
      "Batch 0 took 0.24 seconds.\n",
      "Batch 49 took 12.16 seconds.\n",
      "Batch 98 took 24.12 seconds.\n",
      "Batch 147 took 35.87 seconds.\n",
      "Batch 196 took 48.31 seconds.\n",
      "Batch 245 took 60.21 seconds.\n",
      "Total runtime: 7377.76, Epoch: 99, took: 71.79 seconds, loss_g: -2482.22, loss_d: -466.97\n",
      "Saving model at epoch 99\n",
      "Batch 0 took 0.29 seconds.\n",
      "Batch 49 took 12.35 seconds.\n",
      "Batch 98 took 24.32 seconds.\n",
      "Batch 147 took 36.31 seconds.\n",
      "Batch 196 took 47.99 seconds.\n",
      "Batch 245 took 59.99 seconds.\n",
      "Total runtime: 7449.40, Epoch: 100, took: 71.63 seconds, loss_g: -2748.52, loss_d: -446.05\n"
     ]
    }
   ],
   "source": [
    "#path = r'D:swiss-dwelling\\swiss-dwellings-v3.0.0'\n",
    "dataset = Transformed_PolyGraphDataset(SWISS_DWELLING_ROOT)\n",
    "\n",
    "dataloader = DataLoader(dataset, batch_size=BATCH_SIZE, shuffle=True)\n",
    "n_batches = len(dataloader)\n",
    "print(n_batches)\n",
    "\n",
    "losses_g, losses_d = train(generator, discriminator, optimizer_G, optimizer_D, dataloader, max_epochs=100)"
   ]
  },
  {
   "attachments": {},
   "cell_type": "markdown",
   "metadata": {},
   "source": [
    "# Generator output code\n",
    "\n",
    "The following section contains code to generate the coordinates for a floorplan using the generator.\n",
    "\n",
    "requires:\n",
    "- graph \n",
    "- categories per node (room)\n",
    "- noise vector (of size: NOISE_SIZE)"
   ]
  },
  {
   "cell_type": "code",
   "execution_count": 27,
   "metadata": {
    "ExecuteTime": {
     "end_time": "2023-06-22T14:29:04.104849900Z",
     "start_time": "2023-06-22T14:29:03.981964Z"
    }
   },
   "outputs": [
    {
     "name": "stdout",
     "output_type": "stream",
     "text": [
      "Generator(\n",
      "  (module_list): ModuleList(\n",
      "    (0): TAGConv(141, 64, K=3)\n",
      "    (1): TAGConv(64, 32, K=3)\n",
      "    (2): TAGConv(32, 60, K=3)\n",
      "  )\n",
      ")\n"
     ]
    }
   ],
   "source": [
    "# Load model\n",
    "model_g_path = GENERATOR_PATH #r'C:\\School\\DELFT\\Graph_ML_project\\saved_models\\generator.pt'\n",
    "\n",
    "# Make sure the model you're loading in is consistent with the size of your model\n",
    "generator = Generator(input_dim=NOISE_SIZE + len(CATEGORY_DICT), \n",
    "                      output_dim=OUTPUT_GENERATOR, \n",
    "                      hidden_dims=HIDDEN_GENERATOR)\n",
    "\n",
    "generator.load_state_dict(th.load(model_g_path))\n",
    "print(generator)"
   ]
  },
  {
   "cell_type": "code",
   "execution_count": 23,
   "metadata": {
    "ExecuteTime": {
     "end_time": "2023-06-25T11:51:47.800414900Z",
     "start_time": "2023-06-25T11:51:47.769418300Z"
    }
   },
   "outputs": [
    {
     "name": "stdout",
     "output_type": "stream",
     "text": [
      "Data(edge_index=[2, 72], geometry=[42, 60], category=[42, 13], num_nodes=42)\n",
      "torch.Size([42, 60])\n",
      "Data(edge_index=[2, 72], geometry=[42, 60], category=[42, 13], num_nodes=42)\n"
     ]
    }
   ],
   "source": [
    "# Generate floorplan\n",
    "#path = r'C:\\School\\DELFT\\Graph_ML_project\\data\\swiss-dwellings-v3.0.0'\n",
    "dataset = Transformed_PolyGraphDataset(SWISS_DWELLING_ROOT)\n",
    "\n",
    "data = dataset[0]\n",
    "print(data)\n",
    "\n",
    "noise_vector = th.randn((data.num_nodes, NOISE_SIZE))\n",
    "output = generator(data, noise_vector)\n",
    "print(output.shape)\n",
    "\n",
    "output_data = Data(edge_index=data.edge_index, geometry=output, category=data.category, num_nodes=data.num_nodes)\n",
    "print(output_data)"
   ]
  },
  {
   "cell_type": "code",
   "execution_count": 24,
   "metadata": {
    "ExecuteTime": {
     "end_time": "2023-06-25T11:51:48.290226200Z",
     "start_time": "2023-06-25T11:51:48.267206Z"
    }
   },
   "outputs": [],
   "source": [
    "# Visualize floorplan\n",
    "# use output_data = Data(edge_index, geometry, category, num_nodes)"
   ]
  },
  {
   "cell_type": "code",
   "execution_count": 22,
   "outputs": [],
   "source": [
    "import matplotlib.pyplot as plt"
   ],
   "metadata": {
    "collapsed": false,
    "ExecuteTime": {
     "end_time": "2023-06-25T11:51:27.144774700Z",
     "start_time": "2023-06-25T11:51:27.128774200Z"
    }
   }
  },
  {
   "cell_type": "code",
   "execution_count": 16,
   "outputs": [
    {
     "ename": "NameError",
     "evalue": "name 'losses_g' is not defined",
     "output_type": "error",
     "traceback": [
      "\u001B[1;31m---------------------------------------------------------------------------\u001B[0m",
      "\u001B[1;31mNameError\u001B[0m                                 Traceback (most recent call last)",
      "Cell \u001B[1;32mIn[16], line 1\u001B[0m\n\u001B[1;32m----> 1\u001B[0m plt\u001B[38;5;241m.\u001B[39mplot(\u001B[43mlosses_g\u001B[49m)\n\u001B[0;32m      2\u001B[0m plt\u001B[38;5;241m.\u001B[39mplot(losses_d)\n",
      "\u001B[1;31mNameError\u001B[0m: name 'losses_g' is not defined"
     ]
    }
   ],
   "source": [
    "plt.plot(losses_g)\n",
    "plt.plot(losses_d)"
   ],
   "metadata": {
    "collapsed": false,
    "ExecuteTime": {
     "end_time": "2023-06-24T01:20:24.749290Z",
     "start_time": "2023-06-24T01:20:24.693387200Z"
    }
   }
  },
  {
   "cell_type": "code",
   "execution_count": 10,
   "outputs": [
    {
     "ename": "NameError",
     "evalue": "name 'losses_d' is not defined",
     "output_type": "error",
     "traceback": [
      "\u001B[1;31m---------------------------------------------------------------------------\u001B[0m",
      "\u001B[1;31mNameError\u001B[0m                                 Traceback (most recent call last)",
      "Cell \u001B[1;32mIn[10], line 1\u001B[0m\n\u001B[1;32m----> 1\u001B[0m plt\u001B[38;5;241m.\u001B[39mplot([loss_d\u001B[38;5;241m.\u001B[39mdetach() \u001B[38;5;28;01mfor\u001B[39;00m loss_d \u001B[38;5;129;01min\u001B[39;00m \u001B[43mlosses_d\u001B[49m])\n\u001B[0;32m      2\u001B[0m plt\u001B[38;5;241m.\u001B[39mplot([loss_d\u001B[38;5;241m.\u001B[39mdetach() \u001B[38;5;28;01mfor\u001B[39;00m loss_d \u001B[38;5;129;01min\u001B[39;00m losses_g])\n",
      "\u001B[1;31mNameError\u001B[0m: name 'losses_d' is not defined"
     ]
    }
   ],
   "source": [
    "plt.plot([loss_d.detach() for loss_d in losses_d])\n",
    "plt.plot([loss_d.detach() for loss_d in losses_g])\n"
   ],
   "metadata": {
    "collapsed": false,
    "ExecuteTime": {
     "end_time": "2023-06-24T01:20:19.278134200Z",
     "start_time": "2023-06-24T01:20:19.254074300Z"
    }
   }
  },
  {
   "cell_type": "code",
   "execution_count": 2,
   "outputs": [],
   "source": [
    "# regex parse output.txt with \"([0-9-.]*)\\sseconds,\\sloss_g:\\s([0-9-.]*),\\sloss_d:\\s([0-9-.]*)\" where index 0 is the time it took, index 1 is loss_g, index 2 is loss_d\n",
    "import re\n",
    "\n",
    "with open('output2.txt', 'r') as f:\n",
    "    lines = f.readlines()\n",
    "\n",
    "times = []\n",
    "losses_g = []\n",
    "losses_d = []\n",
    "\n",
    "for line in lines:\n",
    "    match = re.search(\"([0-9-.]*)\\sseconds,\\sloss_g:\\s([0-9-.]*),\\sloss_d:\\s([0-9-.]*)\", line)\n",
    "    if match:\n",
    "        times.append(float(match.group(1)))\n",
    "        losses_g.append(float(match.group(2)))\n",
    "        losses_d.append(float(match.group(3)))\n"
   ],
   "metadata": {
    "collapsed": false,
    "ExecuteTime": {
     "end_time": "2023-06-25T11:39:52.438068700Z",
     "start_time": "2023-06-25T11:39:52.409426300Z"
    }
   }
  },
  {
   "cell_type": "code",
   "execution_count": 5,
   "outputs": [
    {
     "data": {
      "text/plain": "Text(0, 0.5, 'Loss')"
     },
     "execution_count": 5,
     "metadata": {},
     "output_type": "execute_result"
    },
    {
     "data": {
      "text/plain": "<Figure size 640x480 with 1 Axes>",
      "image/png": "[encoded data removed]"
     },
     "metadata": {},
     "output_type": "display_data"
    }
   ],
   "source": [
    "plt.plot(losses_g)\n",
    "plt.plot(losses_d)\n",
    "plt.legend(['Loss generator', 'Loss discriminator'])\n",
    "plt.xlabel(\"Epoch\")\n",
    "plt.ylabel(\"Loss\")"
   ],
   "metadata": {
    "collapsed": false,
    "ExecuteTime": {
     "end_time": "2023-06-25T11:40:01.046375Z",
     "start_time": "2023-06-25T11:40:00.745812400Z"
    }
   }
  },
  {
   "cell_type": "code",
   "execution_count": 8,
   "outputs": [
    {
     "data": {
      "text/plain": "Text(0, 0.5, 'Time (s)')"
     },
     "execution_count": 8,
     "metadata": {},
     "output_type": "execute_result"
    },
    {
     "data": {
      "text/plain": "<Figure size 640x480 with 1 Axes>",
      "image/png": "[encoded data removed]"
     },
     "metadata": {},
     "output_type": "display_data"
    }
   ],
   "source": [
    "plt.plot(times)\n",
    "plt.xlabel(\"Epoch\")\n",
    "plt.ylabel(\"Time (s)\")"
   ],
   "metadata": {
    "collapsed": false,
    "ExecuteTime": {
     "end_time": "2023-06-23T12:11:14.136156100Z",
     "start_time": "2023-06-23T12:11:13.648704300Z"
    }
   }
  },
  {
   "cell_type": "code",
   "execution_count": 20,
   "outputs": [
    {
     "data": {
      "text/plain": "100"
     },
     "execution_count": 20,
     "metadata": {},
     "output_type": "execute_result"
    }
   ],
   "source": [
    "len(losses_d)"
   ],
   "metadata": {
    "collapsed": false,
    "ExecuteTime": {
     "end_time": "2023-06-24T01:12:39.930267600Z",
     "start_time": "2023-06-24T01:12:39.917270800Z"
    }
   }
  },
  {
   "cell_type": "code",
   "execution_count": 17,
   "outputs": [
    {
     "data": {
      "text/plain": "<All keys matched successfully>"
     },
     "execution_count": 17,
     "metadata": {},
     "output_type": "execute_result"
    }
   ],
   "source": [
    "generator.load_state_dict(th.load(SAVED_MODELS_ROOT / \"generator-big-e100.pt\"))"
   ],
   "metadata": {
    "collapsed": false,
    "ExecuteTime": {
     "end_time": "2023-06-25T11:51:02.061306500Z",
     "start_time": "2023-06-25T11:51:02.023862700Z"
    }
   }
  },
  {
   "cell_type": "code",
   "execution_count": 18,
   "outputs": [
    {
     "data": {
      "text/plain": "Generator(\n  (module_list): ModuleList(\n    (0): TAGConv(141, 128, K=3)\n    (1): TAGConv(128, 128, K=3)\n    (2): TAGConv(128, 64, K=3)\n    (3): TAGConv(64, 32, K=3)\n    (4): TAGConv(32, 60, K=3)\n  )\n)"
     },
     "execution_count": 18,
     "metadata": {},
     "output_type": "execute_result"
    }
   ],
   "source": [
    "generator.eval()"
   ],
   "metadata": {
    "collapsed": false,
    "ExecuteTime": {
     "end_time": "2023-06-25T11:51:05.692375500Z",
     "start_time": "2023-06-25T11:51:05.673350200Z"
    }
   }
  },
  {
   "cell_type": "code",
   "execution_count": 19,
   "outputs": [
    {
     "ename": "NameError",
     "evalue": "name 'data' is not defined",
     "output_type": "error",
     "traceback": [
      "\u001B[1;31m---------------------------------------------------------------------------\u001B[0m",
      "\u001B[1;31mNameError\u001B[0m                                 Traceback (most recent call last)",
      "Cell \u001B[1;32mIn[19], line 1\u001B[0m\n\u001B[1;32m----> 1\u001B[0m noise_vector \u001B[38;5;241m=\u001B[39m th\u001B[38;5;241m.\u001B[39mrandn((\u001B[43mdata\u001B[49m\u001B[38;5;241m.\u001B[39mnum_nodes, NOISE_SIZE))\n",
      "\u001B[1;31mNameError\u001B[0m: name 'data' is not defined"
     ]
    }
   ],
   "source": [],
   "metadata": {
    "collapsed": false,
    "ExecuteTime": {
     "end_time": "2023-06-25T11:51:09.202182500Z",
     "start_time": "2023-06-25T11:51:09.147514300Z"
    }
   }
  },
  {
   "cell_type": "code",
   "execution_count": null,
   "outputs": [],
   "source": [],
   "metadata": {
    "collapsed": false
   }
  }
 ],
 "metadata": {
  "kernelspec": {
   "display_name": "graph_ml_course",
   "language": "python",
   "name": "python3"
  },
  "language_info": {
   "codemirror_mode": {
    "name": "ipython",
    "version": 3
   },
   "file_extension": ".py",
   "mimetype": "text/x-python",
   "name": "python",
   "nbconvert_exporter": "python",
   "pygments_lexer": "ipython3",
   "version": "3.10.11"
  },
  "orig_nbformat": 4
 },
 "nbformat": 4,
 "nbformat_minor": 2
}
