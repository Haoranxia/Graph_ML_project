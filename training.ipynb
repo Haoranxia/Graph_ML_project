{
 "cells": [
  {
   "cell_type": "code",
   "execution_count": 2,
   "metadata": {},
   "outputs": [],
   "source": [
    "import torch as th \n",
    "from torch_geometric.data import Data, Batch\n",
    "from torch_geometric.loader import DataLoader\n",
    "\n",
    "from model import Generator, Discriminator, gradient_penalty\n",
    "from utils import PolyGraphDataset, Transformed_PolyGraphDataset, CATEGORY_DICT\n",
    "\n",
    "import numpy as np\n",
    "import time "
   ]
  },
  {
   "cell_type": "code",
   "execution_count": 3,
   "metadata": {},
   "outputs": [],
   "source": [
    "\"\"\" \n",
    "Hyperparameters\n",
    "\"\"\"\n",
    "\n",
    "MAX_POLYGONS = 30\n",
    "\n",
    "# Optimizer params\n",
    "g_lr = 0.001 \n",
    "d_lr = 0.001\n",
    "b1 = 0.5 \n",
    "b2 = 0.999  \n",
    "\n",
    "# WGAN params\n",
    "N_critic = 5            # nr of times to train discriminator more\n",
    "lambda_gp = 10          # gradient penalty hyperpraram\n",
    "\n",
    "# Training params\n",
    "MAX_EPOCHS = 50\n",
    "BATCH_SIZE = 32\n",
    "\n",
    "# Network parameters\n",
    "NOISE_SIZE = 128\n",
    "HIDDEN_GENERATOR = [64, 32, 32]\n",
    "OUTPUT_GENERATOR = MAX_POLYGONS * 2             # we want to output at most this many polygons per node (note [x1...y1...] format)\n",
    "\n",
    "HIDDEN_DISCRIMINATOR = [64, 32, 16]"
   ]
  },
  {
   "cell_type": "code",
   "execution_count": 4,
   "metadata": {},
   "outputs": [
    {
     "name": "stdout",
     "output_type": "stream",
     "text": [
      "ModuleList(\n",
      "  (0): TAGConv(141, 64, K=3)\n",
      "  (1): TAGConv(64, 32, K=3)\n",
      "  (2): TAGConv(32, 60, K=3)\n",
      ")\n",
      "ModuleList(\n",
      "  (0): TAGConv(60, 64, K=3)\n",
      "  (1): TAGConv(64, 32, K=3)\n",
      "  (2): TAGConv(32, 16, K=3)\n",
      "  (3): Linear(in_features=16, out_features=1, bias=True)\n",
      ")\n"
     ]
    }
   ],
   "source": [
    "\"\"\" \n",
    "Model Definitions\n",
    "\"\"\"\n",
    "generator = Generator(input_dim=NOISE_SIZE + len(CATEGORY_DICT), \n",
    "                      output_dim=OUTPUT_GENERATOR, \n",
    "                      hidden_dims=HIDDEN_GENERATOR)\n",
    "\n",
    "discriminator = Discriminator(input_dim=OUTPUT_GENERATOR, \n",
    "                              hidden_dims=HIDDEN_DISCRIMINATOR)\n",
    "\n",
    "print(generator.module_list)\n",
    "print(discriminator.module_list)"
   ]
  },
  {
   "cell_type": "code",
   "execution_count": 5,
   "metadata": {},
   "outputs": [],
   "source": [
    "# Optimizers\n",
    "optimizer_G = th.optim.Adam(generator.parameters(), lr=g_lr, betas=(b1, b2)) \n",
    "optimizer_D = th.optim.Adam(discriminator.parameters(), lr=d_lr, betas=(b1, b2))"
   ]
  },
  {
   "cell_type": "code",
   "execution_count": 6,
   "metadata": {},
   "outputs": [],
   "source": [
    "def run_epoch(generator, discriminator, optimizer_g, optimizer_d, data_loader):\n",
    "\n",
    "    losses_g, losses_d = [], []\n",
    "    num_steps = 0\n",
    "\n",
    "    # real = batch of Data() ex. [Data(), Data(), ...] is 1 batch\n",
    "    for i, real in enumerate(data_loader):\n",
    "        num_steps += 1\n",
    "        start_time = time.time()\n",
    "\n",
    "        # Input noise_data into generator            \n",
    "        noise = th.randn((len(real.category), NOISE_SIZE))\n",
    "        fake = generator(real, noise)     \n",
    "\n",
    "        # fake.shape = (batch_size * nodes, output_features = 60)\n",
    "        # We must turn this into appropriate (batch) input for the discriminator\n",
    "        fake = Batch(geometry=fake, edge_index=real.edge_index, batch=real.batch)\n",
    "\n",
    "        discriminator_fake = discriminator(fake)    # discriminator scores for fakes\n",
    "        discriminator_real = discriminator(real)    # discriminator scores for reals\n",
    "        \n",
    "        gp = gradient_penalty(discriminator, real, fake)\n",
    "\n",
    "        # Discriminator loss and train\n",
    "        loss_discriminator = -(th.mean(discriminator_real) - th.mean(discriminator_fake)) + lambda_gp * gp\n",
    "        \n",
    "        discriminator.zero_grad() \n",
    "        loss_discriminator.backward() \n",
    "        optimizer_d.step()\n",
    "\n",
    "        losses_d.append(loss_discriminator)\n",
    "\n",
    "        # Only train Generator every 5 steps\n",
    "        if num_steps % N_critic == 0:\n",
    "            noise_g = th.randn((len(real.category), NOISE_SIZE))\n",
    "            fake_g = generator(real, noise_g) \n",
    "            fake_g = Batch(geometry=fake_g, edge_index=real.edge_index, batch=real.batch)\n",
    "\n",
    "            output = discriminator(fake_g).reshape(-1)      # discriminator scores for fake\n",
    "            loss_generator = -th.mean(output)               # loss for genereator = the discriminators' judgement\n",
    "                                                            # higher score = better\n",
    "            generator.zero_grad()\n",
    "            loss_generator.backward()\n",
    "            optimizer_g.step()\n",
    "\n",
    "            losses_g.append(loss_generator)\n",
    "\n",
    "        if i % BATCH_SIZE == 0:\n",
    "            batch_time = time.time() - start_time\n",
    "            print(\"Batch {} took {:.2f} seconds.\".format(i, batch_time))\n",
    "    \n",
    "    return sum(losses_g) / len(losses_g), sum(losses_d) / len(losses_d)"
   ]
  },
  {
   "cell_type": "code",
   "execution_count": 7,
   "metadata": {},
   "outputs": [],
   "source": [
    "# Main training loop\n",
    "def train(generator, discriminator, optimizer_g, optimizer_d, data_loader, max_epochs):\n",
    "    start_time = time.time() \n",
    "    losses_g, losses_d = [], []\n",
    "\n",
    "    for epoch in range(1, max_epochs + 1):\n",
    "        epoch_time = time.time() \n",
    "\n",
    "        loss_g, loss_d = run_epoch(generator, discriminator, optimizer_g, optimizer_d, data_loader)\n",
    "        losses_g.append(loss_g)\n",
    "        losses_d.append(loss_d)\n",
    "\n",
    "        # TODO: Evaluation and logging code??\n",
    "        epoch_time = time.time() - epoch_time \n",
    "        total_time = time.time() - start_time\n",
    "        print(\"Total runtime: {:.2f}, Epoch: {}, took: {:.2f} seconds, loss_g: {:.2f}, loss_d: {:.2f}\".format(total_time, epoch, epoch_time, loss_g, loss_d))\n",
    "\n",
    "        # save model every 10 epochs\n",
    "        if epoch % 10:\n",
    "            generator_path = r'C:\\School\\DELFT\\Graph_ML_project\\saved_models\\generator.pt'\n",
    "            discriminator_path = r'C:\\School\\DELFT\\Graph_ML_project\\saved_models\\discriminator.pt'\n",
    "            th.save(generator.state_dict(), generator_path)\n",
    "            th.save(discriminator.state_dict(), discriminator_path)\n",
    "\n",
    "    return losses_g, losses_d"
   ]
  },
  {
   "cell_type": "code",
   "execution_count": 8,
   "metadata": {},
   "outputs": [
    {
     "name": "stdout",
     "output_type": "stream",
     "text": [
      "294\n",
      "Total runtime: 118.78, Epoch: 1, took: 118.78 seconds, loss_g: -413.52, loss_d: -4225.43\n"
     ]
    }
   ],
   "source": [
    "path = r'C:\\School\\DELFT\\Graph_ML_project\\data\\swiss-dwellings-v3.0.0'\n",
    "dataset = Transformed_PolyGraphDataset(path)\n",
    "\n",
    "dataloader = DataLoader(dataset, batch_size=BATCH_SIZE, shuffle=True)\n",
    "n_batches = len(dataloader)\n",
    "print(n_batches)\n",
    "\n",
    "losses_g, losses_d = train(generator, discriminator, optimizer_G, optimizer_D, dataloader, max_epochs=10)"
   ]
  },
  {
   "attachments": {},
   "cell_type": "markdown",
   "metadata": {},
   "source": [
    "Testing model for batches of input and gradient penalty for batches"
   ]
  },
  {
   "cell_type": "code",
   "execution_count": null,
   "metadata": {},
   "outputs": [
    {
     "name": "stdout",
     "output_type": "stream",
     "text": [
      "Data(edge_index=[2, 72], geometry=[42, 60], category=[42, 13], num_nodes=42)\n"
     ]
    },
    {
     "name": "stdout",
     "output_type": "stream",
     "text": [
      "DataBatch(edge_index=[2, 2304], geometry=[1344, 60], category=[1344, 13], num_nodes=1344, batch=[1344], ptr=[33])\n",
      "noise:  torch.Size([1344, 128])\n",
      "fake:  torch.Size([1344, 60])\n",
      "real:  torch.Size([1344, 60])\n",
      "fake:  DataBatch(edge_index=[2, 2304], geometry=[1344, 60], batch=[1344])\n",
      "real:  DataBatch(edge_index=[2, 2304], geometry=[1344, 60], category=[1344, 13], num_nodes=1344, batch=[1344], ptr=[33])\n",
      "discriminator score fake:  torch.Size([32, 1])\n",
      "discriminator score real:  torch.Size([32, 1])\n",
      "tensor(0.5717, grad_fn=<MeanBackward0>)\n"
     ]
    }
   ],
   "source": [
    "from model import gradient_penalty\n",
    "\n",
    "print(dataset[0])\n",
    "test_list = [dataset[0] for _ in range(32)]\n",
    "test_batch = Batch.from_data_list(test_list)\n",
    "print(test_batch)\n",
    "\n",
    "real = test_batch\n",
    "\n",
    "noise = th.randn((len(real.category), NOISE_SIZE))\n",
    "print(\"noise: \", noise.shape)\n",
    "fake = generator(real, noise)     \n",
    "\n",
    "# fake.shape = (batch_size * nodes, output_features = 60)\n",
    "# We must turn this into appropriate (batch) input for the discriminator\n",
    "fake = Batch(geometry=fake, edge_index=real.edge_index, batch=real.batch)\n",
    "\n",
    "print(\"fake: \", fake.geometry.shape)\n",
    "print(\"real: \", real.geometry.shape)\n",
    "\n",
    "discriminator_fake = discriminator(fake)    # discriminator scores for fakes\n",
    "discriminator_real = discriminator(real)    # discriminator scores for reals\n",
    "\n",
    "print(\"fake: \", fake)\n",
    "print(\"real: \", real)\n",
    "print(\"discriminator score fake: \", discriminator_fake.shape)\n",
    "print(\"discriminator score real: \", discriminator_real.shape)\n",
    "\n",
    "gp = gradient_penalty(discriminator, real, fake)\n",
    "print(gp)"
   ]
  },
  {
   "attachments": {},
   "cell_type": "markdown",
   "metadata": {},
   "source": [
    "Testing dataloader iteration"
   ]
  },
  {
   "cell_type": "code",
   "execution_count": null,
   "metadata": {},
   "outputs": [],
   "source": [
    "from tqdm.auto import tqdm\n",
    "\n",
    "dataset = Transformed_PolyGraphDataset(path)\n",
    "dataloader = DataLoader(dataset, batch_size=BATCH_SIZE, shuffle=True)\n",
    "dataiter = iter(dataloader)\n",
    "\n",
    "for _ in tqdm(range(n_batches)):\n",
    "    batch = next(dataiter)\n",
    "    print(batch)"
   ]
  }
 ],
 "metadata": {
  "kernelspec": {
   "display_name": "graph_ml_course",
   "language": "python",
   "name": "python3"
  },
  "language_info": {
   "codemirror_mode": {
    "name": "ipython",
    "version": 3
   },
   "file_extension": ".py",
   "mimetype": "text/x-python",
   "name": "python",
   "nbconvert_exporter": "python",
   "pygments_lexer": "ipython3",
   "version": "3.10.11"
  },
  "orig_nbformat": 4
 },
 "nbformat": 4,
 "nbformat_minor": 2
}
