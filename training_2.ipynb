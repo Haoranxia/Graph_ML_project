{
 "cells": [
  {
   "cell_type": "markdown",
   "source": [
    "# Training a Graph-structured GAN for Floor Plan Auto-Completion"
   ],
   "metadata": {
    "collapsed": false
   }
  },
  {
   "cell_type": "markdown",
   "source": [
    "## Imports and config"
   ],
   "metadata": {
    "collapsed": false
   }
  },
  {
   "cell_type": "code",
   "execution_count": 1,
   "outputs": [
    {
     "data": {
      "text/plain": "seed: \u001B[1;36m0\u001B[0m\nopt:\n  optimizer: Adam\n  momentum: \u001B[1;36m0.9\u001B[0m\n  weight_decay: \u001B[1;36m0.0001\u001B[0m\n  lr: \u001B[1;36m0.001\u001B[0m\n  betas: \u001B[1m(\u001B[0m\u001B[1;36m0.5\u001B[0m, \u001B[1;36m0.999\u001B[0m\u001B[1m)\u001B[0m\nmodel:\n  name: tag_conv\n  framework: gan\n  noise_size: \u001B[1;36m128\u001B[0m\n  gen_hids_size: \u001B[1m(\u001B[0m\u001B[1;36m64\u001B[0m, \u001B[1;36m32\u001B[0m, \u001B[1;36m32\u001B[0m\u001B[1m)\u001B[0m\n  gen_out_size: \u001B[1;36m5\u001B[0m\n  dis_hids_size: \u001B[1m(\u001B[0m\u001B[1;36m64\u001B[0m, \u001B[1;36m32\u001B[0m, \u001B[1;36m16\u001B[0m\u001B[1m)\u001B[0m\n  n_critic: \u001B[1;36m5\u001B[0m\n  lambda_gp: \u001B[1;36m10\u001B[0m\ntrain:\n  start_epoch: \u001B[1;36m0\u001B[0m\n  epochs: \u001B[1;36m50\u001B[0m\n  bs: \u001B[1;36m32\u001B[0m\neval: null\ndataset:\n  path: C:\\Users\\caspervanengel\\OneDrive\\Documents\\PHD\\1_data\\swiss-dwellings\\\u001B[1;36m3.0\u001B[0m.\u001B[1;36m0\u001B[0m\\cvaad-challenge\n  ratio: \u001B[1;36m0.8\u001B[0m\n  max_polygons: \u001B[1;36m30\u001B[0m\n  num_workers: \u001B[1;36m4\u001B[0m\nwandb:\n  log: true\n  dir: .\u001B[35m/\u001B[0m\n  name: tag-conv-gan\n  entity: casper-van-engelenburg\n  project: floor-plan-auto-completion\nmisc: null\n\n",
      "text/html": "<pre style=\"white-space:pre;overflow-x:auto;line-height:normal;font-family:Menlo,'DejaVu Sans Mono',consolas,'Courier New',monospace\">seed: <span style=\"color: #008080; text-decoration-color: #008080; font-weight: bold\">0</span>\nopt:\n  optimizer: Adam\n  momentum: <span style=\"color: #008080; text-decoration-color: #008080; font-weight: bold\">0.9</span>\n  weight_decay: <span style=\"color: #008080; text-decoration-color: #008080; font-weight: bold\">0.0001</span>\n  lr: <span style=\"color: #008080; text-decoration-color: #008080; font-weight: bold\">0.001</span>\n  betas: <span style=\"font-weight: bold\">(</span><span style=\"color: #008080; text-decoration-color: #008080; font-weight: bold\">0.5</span>, <span style=\"color: #008080; text-decoration-color: #008080; font-weight: bold\">0.999</span><span style=\"font-weight: bold\">)</span>\nmodel:\n  name: tag_conv\n  framework: gan\n  noise_size: <span style=\"color: #008080; text-decoration-color: #008080; font-weight: bold\">128</span>\n  gen_hids_size: <span style=\"font-weight: bold\">(</span><span style=\"color: #008080; text-decoration-color: #008080; font-weight: bold\">64</span>, <span style=\"color: #008080; text-decoration-color: #008080; font-weight: bold\">32</span>, <span style=\"color: #008080; text-decoration-color: #008080; font-weight: bold\">32</span><span style=\"font-weight: bold\">)</span>\n  gen_out_size: <span style=\"color: #008080; text-decoration-color: #008080; font-weight: bold\">5</span>\n  dis_hids_size: <span style=\"font-weight: bold\">(</span><span style=\"color: #008080; text-decoration-color: #008080; font-weight: bold\">64</span>, <span style=\"color: #008080; text-decoration-color: #008080; font-weight: bold\">32</span>, <span style=\"color: #008080; text-decoration-color: #008080; font-weight: bold\">16</span><span style=\"font-weight: bold\">)</span>\n  n_critic: <span style=\"color: #008080; text-decoration-color: #008080; font-weight: bold\">5</span>\n  lambda_gp: <span style=\"color: #008080; text-decoration-color: #008080; font-weight: bold\">10</span>\ntrain:\n  start_epoch: <span style=\"color: #008080; text-decoration-color: #008080; font-weight: bold\">0</span>\n  epochs: <span style=\"color: #008080; text-decoration-color: #008080; font-weight: bold\">50</span>\n  bs: <span style=\"color: #008080; text-decoration-color: #008080; font-weight: bold\">32</span>\neval: null\ndataset:\n  path: C:\\Users\\caspervanengel\\OneDrive\\Documents\\PHD\\1_data\\swiss-dwellings\\<span style=\"color: #008080; text-decoration-color: #008080; font-weight: bold\">3.0</span>.<span style=\"color: #008080; text-decoration-color: #008080; font-weight: bold\">0</span>\\cvaad-challenge\n  ratio: <span style=\"color: #008080; text-decoration-color: #008080; font-weight: bold\">0.8</span>\n  max_polygons: <span style=\"color: #008080; text-decoration-color: #008080; font-weight: bold\">30</span>\n  num_workers: <span style=\"color: #008080; text-decoration-color: #008080; font-weight: bold\">4</span>\nwandb:\n  log: true\n  dir: .<span style=\"color: #800080; text-decoration-color: #800080\">/</span>\n  name: tag-conv-gan\n  entity: casper-van-engelenburg\n  project: floor-plan-auto-completion\nmisc: null\n\n</pre>\n"
     },
     "metadata": {},
     "output_type": "display_data"
    }
   ],
   "source": [
    "# general\n",
    "import os\n",
    "import numpy as np\n",
    "import matplotlib.pyplot as plt\n",
    "import torch\n",
    "import torch_geometric as pyg\n",
    "from torch_geometric.loader import DataLoader\n",
    "from torch_snippets import subplots, print  # this overwrites the common print (!)\n",
    "from omegaconf import OmegaConf\n",
    "\n",
    "# own\n",
    "from utils import load_pickle\n",
    "\n",
    "# configurations\n",
    "cfg = OmegaConf.load(\"config.yaml\")\n",
    "print(OmegaConf.to_yaml(cfg))"
   ],
   "metadata": {
    "collapsed": false,
    "ExecuteTime": {
     "start_time": "2023-06-28T14:57:13.345661Z",
     "end_time": "2023-06-28T14:57:19.157118Z"
    }
   }
  },
  {
   "cell_type": "markdown",
   "source": [
    "## Data factory"
   ],
   "metadata": {
    "collapsed": false
   }
  },
  {
   "cell_type": "code",
   "execution_count": 2,
   "outputs": [
    {
     "data": {
      "text/plain": "C:\\Users\\caspervanengel\\OneDrive\\Documents\\PHD\\1_data\\swiss-dwellings\\\u001B[1;36m3.0\u001B[0m.\u001B[1;36m0\u001B[0m\\cvaad-challenge exists: \u001B[3;92mTrue\u001B[0m\n",
      "text/html": "<pre style=\"white-space:pre;overflow-x:auto;line-height:normal;font-family:Menlo,'DejaVu Sans Mono',consolas,'Courier New',monospace\">C:\\Users\\caspervanengel\\OneDrive\\Documents\\PHD\\1_data\\swiss-dwellings\\<span style=\"color: #008080; text-decoration-color: #008080; font-weight: bold\">3.0</span>.<span style=\"color: #008080; text-decoration-color: #008080; font-weight: bold\">0</span>\\cvaad-challenge exists: <span style=\"color: #00ff00; text-decoration-color: #00ff00; font-style: italic\">True</span>\n</pre>\n"
     },
     "metadata": {},
     "output_type": "display_data"
    },
    {
     "data": {
      "text/plain": "C:\\Users\\caspervanengel\\OneDrive\\Documents\\PHD\\1_data\\swiss-dwellings\\\u001B[1;36m3.0\u001B[0m.\u001B[1;36m0\u001B[0m\\cvaad-challenge\\train\\graph_out exists:\n\u001B[3;92mTrue\u001B[0m\n",
      "text/html": "<pre style=\"white-space:pre;overflow-x:auto;line-height:normal;font-family:Menlo,'DejaVu Sans Mono',consolas,'Courier New',monospace\">C:\\Users\\caspervanengel\\OneDrive\\Documents\\PHD\\1_data\\swiss-dwellings\\<span style=\"color: #008080; text-decoration-color: #008080; font-weight: bold\">3.0</span>.<span style=\"color: #008080; text-decoration-color: #008080; font-weight: bold\">0</span>\\cvaad-challenge\\train\\graph_out exists:\n<span style=\"color: #00ff00; text-decoration-color: #00ff00; font-style: italic\">True</span>\n</pre>\n"
     },
     "metadata": {},
     "output_type": "display_data"
    },
    {
     "data": {
      "text/plain": "C:\\Users\\caspervanengel\\OneDrive\\Documents\\PHD\\1_data\\swiss-dwellings\\\u001B[1;36m3.0\u001B[0m.\u001B[1;36m0\u001B[0m\\cvaad-challenge\\train\\graph_simple \nexists: \u001B[3;92mTrue\u001B[0m\n",
      "text/html": "<pre style=\"white-space:pre;overflow-x:auto;line-height:normal;font-family:Menlo,'DejaVu Sans Mono',consolas,'Courier New',monospace\">C:\\Users\\caspervanengel\\OneDrive\\Documents\\PHD\\1_data\\swiss-dwellings\\<span style=\"color: #008080; text-decoration-color: #008080; font-weight: bold\">3.0</span>.<span style=\"color: #008080; text-decoration-color: #008080; font-weight: bold\">0</span>\\cvaad-challenge\\train\\graph_simple \nexists: <span style=\"color: #00ff00; text-decoration-color: #00ff00; font-style: italic\">True</span>\n</pre>\n"
     },
     "metadata": {},
     "output_type": "display_data"
    }
   ],
   "source": [
    "# set paths\n",
    "path = {\n",
    "    \"full\": cfg.dataset.path,\n",
    "    \"graph\": os.path.join(cfg.dataset.path, 'train', 'graph_out'),\n",
    "    \"graph_simple\": os.path.join(cfg.dataset.path, 'train', 'graph_simple')\n",
    "}\n",
    "\n",
    "# check path existence\n",
    "_ = [print(f'{path[key]} exists: {os.path.exists(path[key])}') for key in path.keys()]"
   ],
   "metadata": {
    "collapsed": false,
    "ExecuteTime": {
     "start_time": "2023-06-28T14:57:19.163086Z",
     "end_time": "2023-06-28T14:57:19.197085Z"
    }
   }
  },
  {
   "cell_type": "markdown",
   "source": [
    "### Change graphs to simple graphs / and filter on max polygons"
   ],
   "metadata": {
    "collapsed": false
   }
  },
  {
   "cell_type": "code",
   "execution_count": 3,
   "outputs": [],
   "source": [
    "# from tqdm.auto import tqdm\n",
    "#\n",
    "# # helper functions\n",
    "# def get_max_size_polygon(areas):\n",
    "#\n",
    "#     max_points = 0\n",
    "#     for area in areas:\n",
    "#         temp_points = len(area)\n",
    "#         if temp_points > max_points:\n",
    "#             max_points = temp_points\n",
    "#\n",
    "#     return max_points\n",
    "#\n",
    "# # get polygon size distribution\n",
    "# polygon_size_distribution = []\n",
    "# for file in tqdm(os.listdir(path[\"graph\"])):\n",
    "#\n",
    "#     # extract index from file\n",
    "#     index = file[:-7]\n",
    "#     graph_nx = load_pickle(os.path.join(path[\"graph\"], f'{index}.pickle'))\n",
    "#\n",
    "#     # extract geometries\n",
    "#     areas = [n for _, n in graph_nx.nodes(data=\"geometry\")]\n",
    "#\n",
    "#     # get largest polygon\n",
    "#     max_size = get_max_size_polygon(areas)\n",
    "#     polygon_size_distribution.append(max_size)"
   ],
   "metadata": {
    "collapsed": false,
    "ExecuteTime": {
     "start_time": "2023-06-28T14:57:19.177084Z",
     "end_time": "2023-06-28T14:57:19.197085Z"
    }
   }
  },
  {
   "cell_type": "code",
   "execution_count": 4,
   "outputs": [],
   "source": [
    "# from collections import Counter, defaultdict\n",
    "# import matplotlib.pyplot as plt\n",
    "#\n",
    "# # count polygon number\n",
    "# count_df = dict(Counter(polygon_size_distribution))\n",
    "# print(len(count_df.values()))\n",
    "#\n",
    "# # histogram\n",
    "# fs = 10\n",
    "# fig, ax = plt.subplots(1,1,figsize=(fs, fs))\n",
    "#\n",
    "# _ = plt.hist(count_df, bins=len(count_df.values()))\n",
    "# # print(count_df.columns)\n",
    "# # count_df = count_df.sort_values(by = )"
   ],
   "metadata": {
    "collapsed": false,
    "ExecuteTime": {
     "start_time": "2023-06-28T14:57:19.192087Z",
     "end_time": "2023-06-28T14:57:19.207087Z"
    }
   }
  },
  {
   "cell_type": "markdown",
   "source": [
    "### New data instances (room properties)"
   ],
   "metadata": {
    "collapsed": false
   }
  },
  {
   "cell_type": "code",
   "execution_count": 5,
   "outputs": [],
   "source": [
    "import networkx as nx\n",
    "from shapely.geometry import Polygon, Point\n",
    "import math\n",
    "import numpy as np\n",
    "from tqdm.auto import tqdm\n",
    "\n",
    "def _azimuth(point1, point2):\n",
    "    \"\"\"azimuth between 2 points (interval 0 - 180)\"\"\"\n",
    "\n",
    "    angle = np.arctan2(point2[0] - point1[0], point2[1] - point1[1])\n",
    "    return np.degrees(angle) if angle > 0 else np.degrees(angle) + 180\n",
    "\n",
    "def _dist(a, b):\n",
    "    \"\"\"distance between points\"\"\"\n",
    "\n",
    "    return math.hypot(b[0] - a[0], b[1] - a[1])\n",
    "\n",
    "def get_properties(polygon):\n",
    "    \"\"\"azimuth of minimum_rotated_rectangle\"\"\"\n",
    "\n",
    "    xy = list(polygon.centroid.coords)[0]\n",
    "\n",
    "    # extract bbox\n",
    "    bbox = list(polygon.minimum_rotated_rectangle.exterior.coords)\n",
    "\n",
    "    # determine width and height\n",
    "    width = _dist(bbox[0], bbox[3])\n",
    "    height = _dist(bbox[0], bbox[1])\n",
    "\n",
    "    # determine area\n",
    "    # area = width * height\n",
    "\n",
    "    # to make consistent\n",
    "    if width <= height:\n",
    "        az = _azimuth(bbox[0], bbox[1])\n",
    "    else:\n",
    "        az = _azimuth(bbox[0], bbox[3])\n",
    "\n",
    "    return torch.tensor([xy[0], xy[1], width, height, np.radians(az)])\n",
    "\n",
    "# for file in tqdm(os.listdir(path[\"graph\"])):\n",
    "#\n",
    "#     # extract index from file\n",
    "#     index = file[:-7]\n",
    "#     graph_nx = load_pickle(os.path.join(path[\"graph\"], f'{index}.pickle'))\n",
    "#\n",
    "#     info_nodes = {}\n",
    "#     for n, area in graph_nx.nodes(data=\"geometry\"):\n",
    "#\n",
    "#         # convert to polygon\n",
    "#         polygon = Polygon(area)\n",
    "#\n",
    "#         # get minimum rotated rectangle around it\n",
    "#         info = get_properties(polygon)\n",
    "#\n",
    "#         # add information to dictionary\n",
    "#         info_nodes[n] = {\"properties\": info}\n",
    "#\n",
    "#     # add information to graph and convert to pyg graph\n",
    "#     graph_nx.add_nodes_from([(u, v) for u, v in info_nodes.items()])\n",
    "#     graph_pyg = pyg.utils.from_networkx(graph_nx)\n",
    "#\n",
    "#     # delete unnecessary information\n",
    "#     del graph_pyg.geometry\n",
    "#     del graph_pyg.centroid\n",
    "#     del graph_pyg.connectivity\n",
    "#\n",
    "#     torch.save(graph_pyg, os.path.join(path[\"graph_simple\"], f'{index}'))"
   ],
   "metadata": {
    "collapsed": false,
    "ExecuteTime": {
     "start_time": "2023-06-28T14:57:19.215088Z",
     "end_time": "2023-06-28T14:57:19.605705Z"
    }
   }
  },
  {
   "cell_type": "code",
   "execution_count": 6,
   "outputs": [
    {
     "data": {
      "text/plain": "\u001B[1;35mData\u001B[0m\u001B[1m(\u001B[0m\u001B[33medge_index\u001B[0m=\u001B[1m[\u001B[0m\u001B[1;36m2\u001B[0m, \u001B[1;36m34\u001B[0m\u001B[1m]\u001B[0m, \u001B[33mroom_type\u001B[0m=\u001B[1m[\u001B[0m\u001B[1;36m18\u001B[0m\u001B[1m]\u001B[0m, \u001B[33mproperties\u001B[0m=\u001B[1m[\u001B[0m\u001B[1;36m18\u001B[0m, \u001B[1;36m5\u001B[0m\u001B[1m]\u001B[0m, \u001B[33mnum_nodes\u001B[0m=\u001B[1;36m18\u001B[0m\u001B[1m)\u001B[0m\n",
      "text/html": "<pre style=\"white-space:pre;overflow-x:auto;line-height:normal;font-family:Menlo,'DejaVu Sans Mono',consolas,'Courier New',monospace\"><span style=\"color: #800080; text-decoration-color: #800080; font-weight: bold\">Data</span><span style=\"font-weight: bold\">(</span><span style=\"color: #808000; text-decoration-color: #808000\">edge_index</span>=<span style=\"font-weight: bold\">[</span><span style=\"color: #008080; text-decoration-color: #008080; font-weight: bold\">2</span>, <span style=\"color: #008080; text-decoration-color: #008080; font-weight: bold\">34</span><span style=\"font-weight: bold\">]</span>, <span style=\"color: #808000; text-decoration-color: #808000\">room_type</span>=<span style=\"font-weight: bold\">[</span><span style=\"color: #008080; text-decoration-color: #008080; font-weight: bold\">18</span><span style=\"font-weight: bold\">]</span>, <span style=\"color: #808000; text-decoration-color: #808000\">properties</span>=<span style=\"font-weight: bold\">[</span><span style=\"color: #008080; text-decoration-color: #008080; font-weight: bold\">18</span>, <span style=\"color: #008080; text-decoration-color: #008080; font-weight: bold\">5</span><span style=\"font-weight: bold\">]</span>, <span style=\"color: #808000; text-decoration-color: #808000\">num_nodes</span>=<span style=\"color: #008080; text-decoration-color: #008080; font-weight: bold\">18</span><span style=\"font-weight: bold\">)</span>\n</pre>\n"
     },
     "metadata": {},
     "output_type": "display_data"
    },
    {
     "data": {
      "text/plain": "tensor\u001B[1m[\u001B[0m\u001B[1;36m5\u001B[0m\u001B[1m]\u001B[0m f64 x∈\u001B[1m[\u001B[0m\u001B[1;36m1.283\u001B[0m, \u001B[1;36m5.750\u001B[0m\u001B[1m]\u001B[0m \u001B[33mμ\u001B[0m=\u001B[1;36m3\u001B[0m\u001B[1;36m.037\u001B[0m \u001B[33mσ\u001B[0m=\u001B[1;36m1\u001B[0m\u001B[1;36m.737\u001B[0m \u001B[1m[\u001B[0m\u001B[1;36m5.750\u001B[0m, \u001B[1;36m3.545\u001B[0m, \u001B[1;36m2.685\u001B[0m, \u001B[1;36m1.920\u001B[0m, \u001B[1;36m1.283\u001B[0m\u001B[1m]\u001B[0m\n",
      "text/html": "<pre style=\"white-space:pre;overflow-x:auto;line-height:normal;font-family:Menlo,'DejaVu Sans Mono',consolas,'Courier New',monospace\">tensor<span style=\"font-weight: bold\">[</span><span style=\"color: #008080; text-decoration-color: #008080; font-weight: bold\">5</span><span style=\"font-weight: bold\">]</span> f64 x∈<span style=\"font-weight: bold\">[</span><span style=\"color: #008080; text-decoration-color: #008080; font-weight: bold\">1.283</span>, <span style=\"color: #008080; text-decoration-color: #008080; font-weight: bold\">5.750</span><span style=\"font-weight: bold\">]</span> <span style=\"color: #808000; text-decoration-color: #808000\">μ</span>=<span style=\"color: #008080; text-decoration-color: #008080; font-weight: bold\">3</span><span style=\"color: #008080; text-decoration-color: #008080; font-weight: bold\">.037</span> <span style=\"color: #808000; text-decoration-color: #808000\">σ</span>=<span style=\"color: #008080; text-decoration-color: #008080; font-weight: bold\">1</span><span style=\"color: #008080; text-decoration-color: #008080; font-weight: bold\">.737</span> <span style=\"font-weight: bold\">[</span><span style=\"color: #008080; text-decoration-color: #008080; font-weight: bold\">5.750</span>, <span style=\"color: #008080; text-decoration-color: #008080; font-weight: bold\">3.545</span>, <span style=\"color: #008080; text-decoration-color: #008080; font-weight: bold\">2.685</span>, <span style=\"color: #008080; text-decoration-color: #008080; font-weight: bold\">1.920</span>, <span style=\"color: #008080; text-decoration-color: #008080; font-weight: bold\">1.283</span><span style=\"font-weight: bold\">]</span>\n</pre>\n"
     },
     "metadata": {},
     "output_type": "display_data"
    }
   ],
   "source": [
    "graph_pyg = torch.load(os.path.join(path[\"graph_simple\"], f'{456}'))\n",
    "print(graph_pyg)\n",
    "print(graph_pyg.properties[1])"
   ],
   "metadata": {
    "collapsed": false,
    "ExecuteTime": {
     "start_time": "2023-06-28T14:57:19.594696Z",
     "end_time": "2023-06-28T14:57:19.608708Z"
    }
   }
  },
  {
   "cell_type": "markdown",
   "source": [
    "### Plot graphs"
   ],
   "metadata": {
    "collapsed": false
   }
  },
  {
   "cell_type": "code",
   "execution_count": 7,
   "outputs": [
    {
     "data": {
      "text/plain": "<Figure size 1000x1000 with 1 Axes>",
      "image/png": "[encoded data removed]"
     },
     "metadata": {},
     "output_type": "display_data"
    },
    {
     "data": {
      "text/plain": "<Figure size 1000x1000 with 1 Axes>",
      "image/png": "[encoded data removed]"
     },
     "metadata": {},
     "output_type": "display_data"
    }
   ],
   "source": [
    "from shapely import affinity\n",
    "from shapely.geometry import Polygon\n",
    "from constants import CMAP_ROOMTYPE\n",
    "from plot import plot_polygon\n",
    "\n",
    "def info_to_geom(info):  # torch.tensor([xy[0], xy[1], width, height, np.radians(az)])\n",
    "\n",
    "    c_x, c_y, w, h, rot = info\n",
    "    xmin = c_x - 1/2 * w\n",
    "    xmax = c_x + 1/2 * w\n",
    "    ymin = c_y - 1/2 * h\n",
    "    ymax = c_y + 1/2 * h\n",
    "\n",
    "    diff_x = xmax - xmin\n",
    "    diff_y = ymax - ymin\n",
    "\n",
    "    rect = Polygon([[xmin, ymin], [xmin, ymax], [xmax, ymax], [xmax, ymin]])\n",
    "    if diff_x < diff_y:\n",
    "        rot_rect = affinity.rotate(rect, np.degrees(-rot), 'center')\n",
    "    else:\n",
    "        rot_rect = affinity.rotate(rect, np.degrees(-rot) + 90, 'center')\n",
    "\n",
    "    return rot_rect\n",
    "\n",
    "graph_pyg = torch.load(os.path.join(path[\"graph_simple\"], f'{456}'))\n",
    "\n",
    "# set up figure\n",
    "fs = 10\n",
    "fig, ax = plt.subplots(1,1,figsize=(fs, fs))\n",
    "\n",
    "for info, roomtype in zip(graph_pyg.properties, graph_pyg.room_type):\n",
    "\n",
    "    geom = info_to_geom(info)\n",
    "\n",
    "    c=np.array(CMAP_ROOMTYPE(roomtype)).reshape(1,4)\n",
    "    plot_polygon(ax, geom, fc=c, ec=c, label=c)\n",
    "\n",
    "\n",
    "graph_nx = load_pickle(os.path.join(path[\"graph\"], f'{456}.pickle'))\n",
    "graph_pyg = pyg.utils.from_networkx(graph_nx)\n",
    "\n",
    "# set up figure\n",
    "fs = 10\n",
    "fig, ax = plt.subplots(1,1,figsize=(fs, fs))\n",
    "\n",
    "for geom, roomtype in zip(graph_pyg.geometry, graph_pyg.room_type):\n",
    "\n",
    "    geom = Polygon(geom)\n",
    "\n",
    "    c=np.array(CMAP_ROOMTYPE(roomtype)).reshape(1,4)\n",
    "    plot_polygon(ax, geom, fc=c, ec=c, label=c)"
   ],
   "metadata": {
    "collapsed": false,
    "ExecuteTime": {
     "start_time": "2023-06-28T14:57:19.614697Z",
     "end_time": "2023-06-28T14:57:20.087419Z"
    }
   }
  },
  {
   "cell_type": "markdown",
   "source": [
    "### Develop custom graph dataset / dataloader"
   ],
   "metadata": {
    "collapsed": false
   }
  },
  {
   "cell_type": "code",
   "execution_count": 8,
   "outputs": [],
   "source": [
    "# import random\n",
    "# from utils import save_pickle\n",
    "#\n",
    "# # size of full dataset\n",
    "# N = len(os.listdir(path[\"graph_simple\"]))\n",
    "# ids = np.arange(0, N-1)\n",
    "#\n",
    "# # randomly shuffle ids\n",
    "# random.Random(4).shuffle(ids)\n",
    "#\n",
    "# # split training and test\n",
    "# split = 0.75\n",
    "# N_train = int(split*N)\n",
    "#\n",
    "# print(f\"Total:\\t{N}\")\n",
    "# print(f'Samples:\\n\\ttrain:\\t{N_train}\\n\\tval:\\t{N - N_train}')\n",
    "#\n",
    "# split = {\n",
    "#     \"train\": np.sort(ids[:N_train]),\n",
    "#     \"test\": np.sort(ids[N_train:])\n",
    "# }\n",
    "#\n",
    "# save_pickle(split, './split.pickle')"
   ],
   "metadata": {
    "collapsed": false,
    "ExecuteTime": {
     "start_time": "2023-06-28T14:57:20.084419Z",
     "end_time": "2023-06-28T14:57:20.100419Z"
    }
   }
  },
  {
   "cell_type": "code",
   "execution_count": 9,
   "outputs": [],
   "source": [
    "from constants import COLORS_ROOMTYPE\n",
    "import torch.nn.functional as F\n",
    "\n",
    "class GraphDataset(torch.utils.data.Dataset):\n",
    "    \"\"\"\n",
    "    Graph Dataset. Collects NetworkX graph from a pre-defined folder and\n",
    "    transforms them to Pytorch Geometric (pyg.data.Data()) instances.\n",
    "    \"\"\"\n",
    "    def __init__(self, path, mode='train'):\n",
    "        self.graph_path = path[\"graph_simple\"]\n",
    "        self.ids = load_pickle('split.pickle')[mode]\n",
    "\n",
    "        # include graph transformations if you like\n",
    "        # self.graph_transform = graph_transform\n",
    "\n",
    "    def __getitem__(self, index):\n",
    "\n",
    "        # get correct identity\n",
    "        id = self.ids[index]\n",
    "\n",
    "        # get access graph (name is index)\n",
    "        graph = torch.load(os.path.join(self.graph_path, f'{id}'))\n",
    "\n",
    "        # make one hot vectors from room categories\n",
    "        graph.category = F.one_hot(graph.room_type, num_classes=len(COLORS_ROOMTYPE))\n",
    "\n",
    "        del graph.room_type\n",
    "\n",
    "        # add floor plan index as graph-level attribute\n",
    "        graph.index = id\n",
    "\n",
    "        # transform graph if you like\n",
    "        # graph_pyg = self.graph_transform(graph_pyg)\n",
    "\n",
    "        return graph\n",
    "\n",
    "    def __len__(self):\n",
    "        return len(self.ids)"
   ],
   "metadata": {
    "collapsed": false,
    "ExecuteTime": {
     "start_time": "2023-06-28T14:57:20.101420Z",
     "end_time": "2023-06-28T14:57:20.141436Z"
    }
   }
  },
  {
   "cell_type": "code",
   "execution_count": 10,
   "outputs": [],
   "source": [
    "bs = 64\n",
    "dataset = GraphDataset(path, mode='train')\n",
    "dataloader = DataLoader(dataset, batch_size=bs, shuffle=True)"
   ],
   "metadata": {
    "collapsed": false,
    "ExecuteTime": {
     "start_time": "2023-06-28T14:57:20.112417Z",
     "end_time": "2023-06-28T14:57:20.141436Z"
    }
   }
  },
  {
   "cell_type": "code",
   "execution_count": 11,
   "outputs": [
    {
     "data": {
      "text/plain": "\u001B[1;35mDataBatch\u001B[0m\u001B[1m(\u001B[0m\u001B[33medge_index\u001B[0m=\u001B[1m[\u001B[0m\u001B[1;36m2\u001B[0m, \u001B[1;36m3664\u001B[0m\u001B[1m]\u001B[0m, \u001B[33mproperties\u001B[0m=\u001B[1m[\u001B[0m\u001B[1;36m1773\u001B[0m, \u001B[1;36m5\u001B[0m\u001B[1m]\u001B[0m, \u001B[33mnum_nodes\u001B[0m=\u001B[1;36m1773\u001B[0m, \u001B[33mcategory\u001B[0m=\u001B[1m[\u001B[0m\u001B[1;36m1773\u001B[0m, \u001B[1;36m13\u001B[0m\u001B[1m]\u001B[0m, \u001B[33mindex\u001B[0m=\u001B[1m[\u001B[0m\u001B[1;36m64\u001B[0m\u001B[1m]\u001B[0m, \n\u001B[33mbatch\u001B[0m=\u001B[1m[\u001B[0m\u001B[1;36m1773\u001B[0m\u001B[1m]\u001B[0m, \u001B[33mptr\u001B[0m=\u001B[1m[\u001B[0m\u001B[1;36m65\u001B[0m\u001B[1m]\u001B[0m\u001B[1m)\u001B[0m\n",
      "text/html": "<pre style=\"white-space:pre;overflow-x:auto;line-height:normal;font-family:Menlo,'DejaVu Sans Mono',consolas,'Courier New',monospace\"><span style=\"color: #800080; text-decoration-color: #800080; font-weight: bold\">DataBatch</span><span style=\"font-weight: bold\">(</span><span style=\"color: #808000; text-decoration-color: #808000\">edge_index</span>=<span style=\"font-weight: bold\">[</span><span style=\"color: #008080; text-decoration-color: #008080; font-weight: bold\">2</span>, <span style=\"color: #008080; text-decoration-color: #008080; font-weight: bold\">3664</span><span style=\"font-weight: bold\">]</span>, <span style=\"color: #808000; text-decoration-color: #808000\">properties</span>=<span style=\"font-weight: bold\">[</span><span style=\"color: #008080; text-decoration-color: #008080; font-weight: bold\">1773</span>, <span style=\"color: #008080; text-decoration-color: #008080; font-weight: bold\">5</span><span style=\"font-weight: bold\">]</span>, <span style=\"color: #808000; text-decoration-color: #808000\">num_nodes</span>=<span style=\"color: #008080; text-decoration-color: #008080; font-weight: bold\">1773</span>, <span style=\"color: #808000; text-decoration-color: #808000\">category</span>=<span style=\"font-weight: bold\">[</span><span style=\"color: #008080; text-decoration-color: #008080; font-weight: bold\">1773</span>, <span style=\"color: #008080; text-decoration-color: #008080; font-weight: bold\">13</span><span style=\"font-weight: bold\">]</span>, <span style=\"color: #808000; text-decoration-color: #808000\">index</span>=<span style=\"font-weight: bold\">[</span><span style=\"color: #008080; text-decoration-color: #008080; font-weight: bold\">64</span><span style=\"font-weight: bold\">]</span>, \n<span style=\"color: #808000; text-decoration-color: #808000\">batch</span>=<span style=\"font-weight: bold\">[</span><span style=\"color: #008080; text-decoration-color: #008080; font-weight: bold\">1773</span><span style=\"font-weight: bold\">]</span>, <span style=\"color: #808000; text-decoration-color: #808000\">ptr</span>=<span style=\"font-weight: bold\">[</span><span style=\"color: #008080; text-decoration-color: #008080; font-weight: bold\">65</span><span style=\"font-weight: bold\">])</span>\n</pre>\n"
     },
     "metadata": {},
     "output_type": "display_data"
    }
   ],
   "source": [
    "dataiter = iter(dataloader)\n",
    "batch = next(dataiter)\n",
    "print(batch)"
   ],
   "metadata": {
    "collapsed": false,
    "ExecuteTime": {
     "start_time": "2023-06-28T14:57:20.130418Z",
     "end_time": "2023-06-28T14:57:20.221420Z"
    }
   }
  },
  {
   "cell_type": "markdown",
   "source": [
    "## Training"
   ],
   "metadata": {
    "collapsed": false
   }
  },
  {
   "cell_type": "markdown",
   "source": [
    "### Set up model"
   ],
   "metadata": {
    "collapsed": false
   }
  },
  {
   "cell_type": "markdown",
   "source": [
    "Define Generator and Discriminator classes."
   ],
   "metadata": {
    "collapsed": false
   }
  },
  {
   "cell_type": "code",
   "execution_count": 12,
   "outputs": [],
   "source": [
    "import torch.nn as nn\n",
    "from torch_geometric.nn import TAGConv, global_add_pool\n",
    "\n",
    "class Generator(nn.Module):\n",
    "\n",
    "    \"\"\"\n",
    "    WGAN-GP Generator\n",
    "\n",
    "    Goal: make Discriminator maximize its output (score)\n",
    "    \"\"\"\n",
    "\n",
    "    def __init__(self, input_dim, output_dim, hidden_dims=[64, 32, 16]):\n",
    "        \"\"\"\n",
    "        input_dim:\n",
    "        outpit_dim:\n",
    "        \"\"\"\n",
    "        super().__init__()\n",
    "\n",
    "        self.input_dim = input_dim\n",
    "        self.hidden_dims = hidden_dims\n",
    "        self.output_dim = output_dim\n",
    "        self.dropout_rate = 0.1\n",
    "\n",
    "        # network layers; initial list\n",
    "        self.module_list = nn.ModuleList()\n",
    "\n",
    "        # input layer:\n",
    "        self.module_list.append(TAGConv(input_dim, hidden_dims[0]))\n",
    "\n",
    "        # intermediate layers; gradually add layers\n",
    "        for i in range(1, len(hidden_dims)):\n",
    "            layer = TAGConv(hidden_dims[i - 1], hidden_dims[i])\n",
    "            self.module_list.append(layer)\n",
    "\n",
    "        # Output layers\n",
    "        self.module_list.append(TAGConv(hidden_dims[-1], output_dim))\n",
    "\n",
    "\n",
    "    def forward(self, edge_index, x):\n",
    "\n",
    "        # forward through modules in module list\n",
    "        for module in self.module_list:\n",
    "            x = module(x=x, edge_index=edge_index)\n",
    "            x = nn.Dropout(self.dropout_rate, inplace=False)(x)\n",
    "            x = nn.PReLU()(x)\n",
    "\n",
    "        return x\n",
    "\n",
    "\n",
    "class Discriminator(nn.Module):\n",
    "    \"\"\"\n",
    "    WGAN-GP Discriminator\n",
    "    Goal: minimize critic score for real samples\n",
    "          maximize critic score for generator samples\n",
    "    \"\"\"\n",
    "    def __init__(self, input_dim, hidden_dims=[16, 32, 64]):\n",
    "        super().__init__()\n",
    "\n",
    "        self.input_dim = input_dim\n",
    "        self.hidden_dims = hidden_dims\n",
    "        self.dropout_rate = 0.1\n",
    "        self.act = nn.Sigmoid()\n",
    "\n",
    "        # scalar value (score) indicating how real the input is\n",
    "        # in WGAN-GP we don't use sigmoid to turn it into a probability\n",
    "        self.output_dim = 1\n",
    "\n",
    "        # network layers; initial list\n",
    "        self.module_list = nn.ModuleList()\n",
    "\n",
    "        # input layer\n",
    "        self.module_list.append(TAGConv(input_dim, hidden_dims[0]))\n",
    "\n",
    "        # intermediate layers\n",
    "        for i in range(1, len(hidden_dims)):\n",
    "            layer = TAGConv(hidden_dims[i - 1], hidden_dims[i])\n",
    "            self.module_list.append(layer)\n",
    "\n",
    "        # output layer\n",
    "        output_layer = nn.Linear(hidden_dims[-1], 1)\n",
    "        self.module_list.append(output_layer)\n",
    "\n",
    "\n",
    "    def forward(self, edge_index, x, batch):\n",
    "\n",
    "        # loop through modules of module list\n",
    "        for i in range(len(self.module_list) - 1):\n",
    "            x = self.module_list[i](x=x , edge_index=edge_index)\n",
    "            x = nn.Dropout(self.dropout_rate, inplace=False)(x)\n",
    "            x = nn.PReLU()(x)\n",
    "\n",
    "        # Pool graph node features; only add when coming from the same data instance\n",
    "        x = global_add_pool(x, batch)\n",
    "\n",
    "        # Predict WGAN score\n",
    "        x = self.module_list[-1](x)\n",
    "        # x = self.act(x)\n",
    "\n",
    "        return x"
   ],
   "metadata": {
    "collapsed": false,
    "ExecuteTime": {
     "start_time": "2023-06-28T14:57:20.198449Z",
     "end_time": "2023-06-28T14:57:20.221420Z"
    }
   }
  },
  {
   "cell_type": "code",
   "execution_count": 13,
   "outputs": [],
   "source": [
    "def gradient_penalty(discriminator, edge_index, x_dr, x_df, batch):\n",
    "\n",
    "    assert x_dr.shape == x_df.shape, \"real and fake geometry shapes dont match\"\n",
    "\n",
    "    x_dr.requires_grad = True\n",
    "    #fake.geometry.requires_grad = True\n",
    "\n",
    "    # Construct interpolated geometry/features and compute score\n",
    "    N, F = x_df.shape\n",
    "    alpha = torch.rand((N, 1)).repeat(1, F)\n",
    "    x_interpolated = alpha * x_dr + (1 - alpha) * x_df\n",
    "    #interpolated_geometry.requires_grad = True\n",
    "\n",
    "    interpolation_score = discriminator(edge_index, x_interpolated, batch)\n",
    "\n",
    "    # Compute gradient of interpolated score wrt interpolated features\n",
    "    # Note that (inputs, outputs) linked through a function above (discriminator is our function in this case)\n",
    "    gradient = torch.autograd.grad(\n",
    "        inputs=x_interpolated,                            # what we compute the gradients wrt to\n",
    "        outputs=interpolation_score,                             # output we want gradients of\n",
    "        grad_outputs=torch.ones_like(interpolation_score),\n",
    "        create_graph=True,\n",
    "        retain_graph=True\n",
    "    )[0]\n",
    "\n",
    "    # Change shape so we can compute penalty over the non batch dimension\n",
    "    gradient = gradient.view(gradient.shape[0], -1)\n",
    "    gradient_norm = gradient.norm(2, dim=-1)\n",
    "\n",
    "    # (norm - 1) ** 2 enforces 1 lipschitz continutiy as we aim for this value to be as small as possible (0)\n",
    "    # which is only achieved when the gradient_norm = 1\n",
    "    return ((gradient_norm - 1 ) ** 2).mean()\n",
    "\n",
    "\n",
    "def polygon_penalty(real_geometry, fake_geometry, alpha=0.1):  #TODO: what is alpha?\n",
    "    \"\"\"\n",
    "    Compute a penalty based on MSE distance between the real and the fake geometry coordinates\n",
    "    \"\"\"\n",
    "\n",
    "    # MSE distance between real and fake\n",
    "    polygon_similarity = ((real_geometry - fake_geometry) ** 2).mean()\n",
    "\n",
    "    # TODO: Penalty for more polygons in fake compared to real data?\n",
    "\n",
    "    return polygon_similarity"
   ],
   "metadata": {
    "collapsed": false,
    "ExecuteTime": {
     "start_time": "2023-06-28T14:57:20.225419Z",
     "end_time": "2023-06-28T14:57:20.232423Z"
    }
   }
  },
  {
   "cell_type": "code",
   "execution_count": 14,
   "outputs": [
    {
     "data": {
      "text/plain": "\u001B[1;35mModuleList\u001B[0m\u001B[1m(\u001B[0m\n  \u001B[1m(\u001B[0m\u001B[1;36m0\u001B[0m\u001B[1m)\u001B[0m: \u001B[1;35mTAGConv\u001B[0m\u001B[1m(\u001B[0m\u001B[1;36m141\u001B[0m, \u001B[1;36m64\u001B[0m, \u001B[33mK\u001B[0m=\u001B[1;36m3\u001B[0m\u001B[1m)\u001B[0m\n  \u001B[1m(\u001B[0m\u001B[1;36m1\u001B[0m\u001B[1m)\u001B[0m: \u001B[1;35mTAGConv\u001B[0m\u001B[1m(\u001B[0m\u001B[1;36m64\u001B[0m, \u001B[1;36m32\u001B[0m, \u001B[33mK\u001B[0m=\u001B[1;36m3\u001B[0m\u001B[1m)\u001B[0m\n  \u001B[1m(\u001B[0m\u001B[1;36m2\u001B[0m\u001B[1m)\u001B[0m: \u001B[1;35mTAGConv\u001B[0m\u001B[1m(\u001B[0m\u001B[1;36m32\u001B[0m, \u001B[1;36m16\u001B[0m, \u001B[33mK\u001B[0m=\u001B[1;36m3\u001B[0m\u001B[1m)\u001B[0m\n  \u001B[1m(\u001B[0m\u001B[1;36m3\u001B[0m\u001B[1m)\u001B[0m: \u001B[1;35mTAGConv\u001B[0m\u001B[1m(\u001B[0m\u001B[1;36m16\u001B[0m, \u001B[1;36m5\u001B[0m, \u001B[33mK\u001B[0m=\u001B[1;36m3\u001B[0m\u001B[1m)\u001B[0m\n\u001B[1m)\u001B[0m\n",
      "text/html": "<pre style=\"white-space:pre;overflow-x:auto;line-height:normal;font-family:Menlo,'DejaVu Sans Mono',consolas,'Courier New',monospace\"><span style=\"color: #800080; text-decoration-color: #800080; font-weight: bold\">ModuleList</span><span style=\"font-weight: bold\">(</span>\n  <span style=\"font-weight: bold\">(</span><span style=\"color: #008080; text-decoration-color: #008080; font-weight: bold\">0</span><span style=\"font-weight: bold\">)</span>: <span style=\"color: #800080; text-decoration-color: #800080; font-weight: bold\">TAGConv</span><span style=\"font-weight: bold\">(</span><span style=\"color: #008080; text-decoration-color: #008080; font-weight: bold\">141</span>, <span style=\"color: #008080; text-decoration-color: #008080; font-weight: bold\">64</span>, <span style=\"color: #808000; text-decoration-color: #808000\">K</span>=<span style=\"color: #008080; text-decoration-color: #008080; font-weight: bold\">3</span><span style=\"font-weight: bold\">)</span>\n  <span style=\"font-weight: bold\">(</span><span style=\"color: #008080; text-decoration-color: #008080; font-weight: bold\">1</span><span style=\"font-weight: bold\">)</span>: <span style=\"color: #800080; text-decoration-color: #800080; font-weight: bold\">TAGConv</span><span style=\"font-weight: bold\">(</span><span style=\"color: #008080; text-decoration-color: #008080; font-weight: bold\">64</span>, <span style=\"color: #008080; text-decoration-color: #008080; font-weight: bold\">32</span>, <span style=\"color: #808000; text-decoration-color: #808000\">K</span>=<span style=\"color: #008080; text-decoration-color: #008080; font-weight: bold\">3</span><span style=\"font-weight: bold\">)</span>\n  <span style=\"font-weight: bold\">(</span><span style=\"color: #008080; text-decoration-color: #008080; font-weight: bold\">2</span><span style=\"font-weight: bold\">)</span>: <span style=\"color: #800080; text-decoration-color: #800080; font-weight: bold\">TAGConv</span><span style=\"font-weight: bold\">(</span><span style=\"color: #008080; text-decoration-color: #008080; font-weight: bold\">32</span>, <span style=\"color: #008080; text-decoration-color: #008080; font-weight: bold\">16</span>, <span style=\"color: #808000; text-decoration-color: #808000\">K</span>=<span style=\"color: #008080; text-decoration-color: #008080; font-weight: bold\">3</span><span style=\"font-weight: bold\">)</span>\n  <span style=\"font-weight: bold\">(</span><span style=\"color: #008080; text-decoration-color: #008080; font-weight: bold\">3</span><span style=\"font-weight: bold\">)</span>: <span style=\"color: #800080; text-decoration-color: #800080; font-weight: bold\">TAGConv</span><span style=\"font-weight: bold\">(</span><span style=\"color: #008080; text-decoration-color: #008080; font-weight: bold\">16</span>, <span style=\"color: #008080; text-decoration-color: #008080; font-weight: bold\">5</span>, <span style=\"color: #808000; text-decoration-color: #808000\">K</span>=<span style=\"color: #008080; text-decoration-color: #008080; font-weight: bold\">3</span><span style=\"font-weight: bold\">)</span>\n<span style=\"font-weight: bold\">)</span>\n</pre>\n"
     },
     "metadata": {},
     "output_type": "display_data"
    },
    {
     "data": {
      "text/plain": "\u001B[1;35mModuleList\u001B[0m\u001B[1m(\u001B[0m\n  \u001B[1m(\u001B[0m\u001B[1;36m0\u001B[0m\u001B[1m)\u001B[0m: \u001B[1;35mTAGConv\u001B[0m\u001B[1m(\u001B[0m\u001B[1;36m5\u001B[0m, \u001B[1;36m16\u001B[0m, \u001B[33mK\u001B[0m=\u001B[1;36m3\u001B[0m\u001B[1m)\u001B[0m\n  \u001B[1m(\u001B[0m\u001B[1;36m1\u001B[0m\u001B[1m)\u001B[0m: \u001B[1;35mTAGConv\u001B[0m\u001B[1m(\u001B[0m\u001B[1;36m16\u001B[0m, \u001B[1;36m32\u001B[0m, \u001B[33mK\u001B[0m=\u001B[1;36m3\u001B[0m\u001B[1m)\u001B[0m\n  \u001B[1m(\u001B[0m\u001B[1;36m2\u001B[0m\u001B[1m)\u001B[0m: \u001B[1;35mTAGConv\u001B[0m\u001B[1m(\u001B[0m\u001B[1;36m32\u001B[0m, \u001B[1;36m64\u001B[0m, \u001B[33mK\u001B[0m=\u001B[1;36m3\u001B[0m\u001B[1m)\u001B[0m\n  \u001B[1m(\u001B[0m\u001B[1;36m3\u001B[0m\u001B[1m)\u001B[0m: \u001B[1;35mLinear\u001B[0m\u001B[1m(\u001B[0m\u001B[33min_features\u001B[0m=\u001B[1;36m64\u001B[0m, \u001B[33mout_features\u001B[0m=\u001B[1;36m1\u001B[0m, \u001B[33mbias\u001B[0m=\u001B[3;92mTrue\u001B[0m\u001B[1m)\u001B[0m\n\u001B[1m)\u001B[0m\n",
      "text/html": "<pre style=\"white-space:pre;overflow-x:auto;line-height:normal;font-family:Menlo,'DejaVu Sans Mono',consolas,'Courier New',monospace\"><span style=\"color: #800080; text-decoration-color: #800080; font-weight: bold\">ModuleList</span><span style=\"font-weight: bold\">(</span>\n  <span style=\"font-weight: bold\">(</span><span style=\"color: #008080; text-decoration-color: #008080; font-weight: bold\">0</span><span style=\"font-weight: bold\">)</span>: <span style=\"color: #800080; text-decoration-color: #800080; font-weight: bold\">TAGConv</span><span style=\"font-weight: bold\">(</span><span style=\"color: #008080; text-decoration-color: #008080; font-weight: bold\">5</span>, <span style=\"color: #008080; text-decoration-color: #008080; font-weight: bold\">16</span>, <span style=\"color: #808000; text-decoration-color: #808000\">K</span>=<span style=\"color: #008080; text-decoration-color: #008080; font-weight: bold\">3</span><span style=\"font-weight: bold\">)</span>\n  <span style=\"font-weight: bold\">(</span><span style=\"color: #008080; text-decoration-color: #008080; font-weight: bold\">1</span><span style=\"font-weight: bold\">)</span>: <span style=\"color: #800080; text-decoration-color: #800080; font-weight: bold\">TAGConv</span><span style=\"font-weight: bold\">(</span><span style=\"color: #008080; text-decoration-color: #008080; font-weight: bold\">16</span>, <span style=\"color: #008080; text-decoration-color: #008080; font-weight: bold\">32</span>, <span style=\"color: #808000; text-decoration-color: #808000\">K</span>=<span style=\"color: #008080; text-decoration-color: #008080; font-weight: bold\">3</span><span style=\"font-weight: bold\">)</span>\n  <span style=\"font-weight: bold\">(</span><span style=\"color: #008080; text-decoration-color: #008080; font-weight: bold\">2</span><span style=\"font-weight: bold\">)</span>: <span style=\"color: #800080; text-decoration-color: #800080; font-weight: bold\">TAGConv</span><span style=\"font-weight: bold\">(</span><span style=\"color: #008080; text-decoration-color: #008080; font-weight: bold\">32</span>, <span style=\"color: #008080; text-decoration-color: #008080; font-weight: bold\">64</span>, <span style=\"color: #808000; text-decoration-color: #808000\">K</span>=<span style=\"color: #008080; text-decoration-color: #008080; font-weight: bold\">3</span><span style=\"font-weight: bold\">)</span>\n  <span style=\"font-weight: bold\">(</span><span style=\"color: #008080; text-decoration-color: #008080; font-weight: bold\">3</span><span style=\"font-weight: bold\">)</span>: <span style=\"color: #800080; text-decoration-color: #800080; font-weight: bold\">Linear</span><span style=\"font-weight: bold\">(</span><span style=\"color: #808000; text-decoration-color: #808000\">in_features</span>=<span style=\"color: #008080; text-decoration-color: #008080; font-weight: bold\">64</span>, <span style=\"color: #808000; text-decoration-color: #808000\">out_features</span>=<span style=\"color: #008080; text-decoration-color: #008080; font-weight: bold\">1</span>, <span style=\"color: #808000; text-decoration-color: #808000\">bias</span>=<span style=\"color: #00ff00; text-decoration-color: #00ff00; font-style: italic\">True</span><span style=\"font-weight: bold\">)</span>\n<span style=\"font-weight: bold\">)</span>\n</pre>\n"
     },
     "metadata": {},
     "output_type": "display_data"
    }
   ],
   "source": [
    "generator = Generator(\n",
    "    input_dim = cfg.model.noise_size + len(COLORS_ROOMTYPE),\n",
    "    output_dim = cfg.model.gen_out_size,\n",
    "    hidden_dims = [64, 32, 16]\n",
    ")\n",
    "\n",
    "# generator = Generator(\n",
    "#     input_dim = len(COLORS_ROOMTYPE),\n",
    "#     output_dim = cfg.model.gen_out_size,\n",
    "#     hidden_dims = [64, 32, 16]\n",
    "# )\n",
    "\n",
    "discriminator = Discriminator(\n",
    "    input_dim = cfg.model.gen_out_size,\n",
    "    hidden_dims = [16, 32, 64]\n",
    ")\n",
    "\n",
    "print(generator.module_list)\n",
    "print(discriminator.module_list)"
   ],
   "metadata": {
    "collapsed": false,
    "ExecuteTime": {
     "start_time": "2023-06-28T14:57:20.233418Z",
     "end_time": "2023-06-28T14:57:20.272427Z"
    }
   }
  },
  {
   "cell_type": "markdown",
   "source": [
    "### Optimizer and objective"
   ],
   "metadata": {
    "collapsed": false
   }
  },
  {
   "cell_type": "code",
   "execution_count": 15,
   "outputs": [],
   "source": [
    "from torch.nn import MSELoss\n",
    "\n",
    "# Optimizers\n",
    "optimizer_g = torch.optim.Adam(generator.parameters(), lr=cfg.opt.lr, betas=(0.5, 0.999))\n",
    "optimizer_d = torch.optim.Adam(discriminator.parameters(), lr=cfg.opt.lr, betas=(0.5, 0.999))\n",
    "\n",
    "# Loss instantiation\n",
    "mse_loss = MSELoss()"
   ],
   "metadata": {
    "collapsed": false,
    "ExecuteTime": {
     "start_time": "2023-06-28T14:57:20.266422Z",
     "end_time": "2023-06-28T14:57:20.282420Z"
    }
   }
  },
  {
   "cell_type": "markdown",
   "source": [
    "### Run"
   ],
   "metadata": {
    "collapsed": false
   }
  },
  {
   "cell_type": "code",
   "execution_count": null,
   "outputs": [
    {
     "data": {
      "text/plain": "  0%|          | 0/49 [00:00<?, ?it/s]",
      "application/vnd.jupyter.widget-view+json": {
       "version_major": 2,
       "version_minor": 0,
       "model_id": "94abbed34af3457aa9d980d2c6e79904"
      }
     },
     "metadata": {},
     "output_type": "display_data"
    },
    {
     "data": {
      "text/plain": "Epoch \u001B[1;36m0\u001B[0m took \u001B[1;36m9.72\u001B[0m seconds.\nLoss \u001B[1m(\u001B[0mGEN \u001B[35m/\u001B[0m DIS\u001B[1m)\u001B[0m: \u001B[1;36m-195.25\u001B[0m \u001B[35m/\u001B[0m \u001B[1;36m-999.53\u001B[0m\n",
      "text/html": "<pre style=\"white-space:pre;overflow-x:auto;line-height:normal;font-family:Menlo,'DejaVu Sans Mono',consolas,'Courier New',monospace\">Epoch <span style=\"color: #008080; text-decoration-color: #008080; font-weight: bold\">0</span> took <span style=\"color: #008080; text-decoration-color: #008080; font-weight: bold\">9.72</span> seconds.\nLoss <span style=\"font-weight: bold\">(</span>GEN <span style=\"color: #800080; text-decoration-color: #800080\">/</span> DIS<span style=\"font-weight: bold\">)</span>: <span style=\"color: #008080; text-decoration-color: #008080; font-weight: bold\">-195.25</span> <span style=\"color: #800080; text-decoration-color: #800080\">/</span> <span style=\"color: #008080; text-decoration-color: #008080; font-weight: bold\">-999.53</span>\n</pre>\n"
     },
     "metadata": {},
     "output_type": "display_data"
    },
    {
     "data": {
      "text/plain": "  0%|          | 0/49 [00:00<?, ?it/s]",
      "application/vnd.jupyter.widget-view+json": {
       "version_major": 2,
       "version_minor": 0,
       "model_id": "489bd319e16342d68198fa1cb996a756"
      }
     },
     "metadata": {},
     "output_type": "display_data"
    },
    {
     "data": {
      "text/plain": "Epoch \u001B[1;36m1\u001B[0m took \u001B[1;36m10.00\u001B[0m seconds.\nLoss \u001B[1m(\u001B[0mGEN \u001B[35m/\u001B[0m DIS\u001B[1m)\u001B[0m: \u001B[1;36m-66.80\u001B[0m \u001B[35m/\u001B[0m \u001B[1;36m-2261.79\u001B[0m\n",
      "text/html": "<pre style=\"white-space:pre;overflow-x:auto;line-height:normal;font-family:Menlo,'DejaVu Sans Mono',consolas,'Courier New',monospace\">Epoch <span style=\"color: #008080; text-decoration-color: #008080; font-weight: bold\">1</span> took <span style=\"color: #008080; text-decoration-color: #008080; font-weight: bold\">10.00</span> seconds.\nLoss <span style=\"font-weight: bold\">(</span>GEN <span style=\"color: #800080; text-decoration-color: #800080\">/</span> DIS<span style=\"font-weight: bold\">)</span>: <span style=\"color: #008080; text-decoration-color: #008080; font-weight: bold\">-66.80</span> <span style=\"color: #800080; text-decoration-color: #800080\">/</span> <span style=\"color: #008080; text-decoration-color: #008080; font-weight: bold\">-2261.79</span>\n</pre>\n"
     },
     "metadata": {},
     "output_type": "display_data"
    },
    {
     "data": {
      "text/plain": "  0%|          | 0/49 [00:00<?, ?it/s]",
      "application/vnd.jupyter.widget-view+json": {
       "version_major": 2,
       "version_minor": 0,
       "model_id": "afdddf2d70a84810b0df8e0f68f3b8fe"
      }
     },
     "metadata": {},
     "output_type": "display_data"
    },
    {
     "data": {
      "text/plain": "Epoch \u001B[1;36m2\u001B[0m took \u001B[1;36m8.24\u001B[0m seconds.\nLoss \u001B[1m(\u001B[0mGEN \u001B[35m/\u001B[0m DIS\u001B[1m)\u001B[0m: \u001B[1;36m30.08\u001B[0m \u001B[35m/\u001B[0m \u001B[1;36m-2749.21\u001B[0m\n",
      "text/html": "<pre style=\"white-space:pre;overflow-x:auto;line-height:normal;font-family:Menlo,'DejaVu Sans Mono',consolas,'Courier New',monospace\">Epoch <span style=\"color: #008080; text-decoration-color: #008080; font-weight: bold\">2</span> took <span style=\"color: #008080; text-decoration-color: #008080; font-weight: bold\">8.24</span> seconds.\nLoss <span style=\"font-weight: bold\">(</span>GEN <span style=\"color: #800080; text-decoration-color: #800080\">/</span> DIS<span style=\"font-weight: bold\">)</span>: <span style=\"color: #008080; text-decoration-color: #008080; font-weight: bold\">30.08</span> <span style=\"color: #800080; text-decoration-color: #800080\">/</span> <span style=\"color: #008080; text-decoration-color: #008080; font-weight: bold\">-2749.21</span>\n</pre>\n"
     },
     "metadata": {},
     "output_type": "display_data"
    },
    {
     "data": {
      "text/plain": "  0%|          | 0/49 [00:00<?, ?it/s]",
      "application/vnd.jupyter.widget-view+json": {
       "version_major": 2,
       "version_minor": 0,
       "model_id": "14ac37c13be94edca7363138ab5a3d8e"
      }
     },
     "metadata": {},
     "output_type": "display_data"
    },
    {
     "data": {
      "text/plain": "Epoch \u001B[1;36m3\u001B[0m took \u001B[1;36m9.61\u001B[0m seconds.\nLoss \u001B[1m(\u001B[0mGEN \u001B[35m/\u001B[0m DIS\u001B[1m)\u001B[0m: \u001B[1;36m-63.58\u001B[0m \u001B[35m/\u001B[0m \u001B[1;36m-2773.77\u001B[0m\n",
      "text/html": "<pre style=\"white-space:pre;overflow-x:auto;line-height:normal;font-family:Menlo,'DejaVu Sans Mono',consolas,'Courier New',monospace\">Epoch <span style=\"color: #008080; text-decoration-color: #008080; font-weight: bold\">3</span> took <span style=\"color: #008080; text-decoration-color: #008080; font-weight: bold\">9.61</span> seconds.\nLoss <span style=\"font-weight: bold\">(</span>GEN <span style=\"color: #800080; text-decoration-color: #800080\">/</span> DIS<span style=\"font-weight: bold\">)</span>: <span style=\"color: #008080; text-decoration-color: #008080; font-weight: bold\">-63.58</span> <span style=\"color: #800080; text-decoration-color: #800080\">/</span> <span style=\"color: #008080; text-decoration-color: #008080; font-weight: bold\">-2773.77</span>\n</pre>\n"
     },
     "metadata": {},
     "output_type": "display_data"
    },
    {
     "data": {
      "text/plain": "  0%|          | 0/49 [00:00<?, ?it/s]",
      "application/vnd.jupyter.widget-view+json": {
       "version_major": 2,
       "version_minor": 0,
       "model_id": "6e06e79e812b44a5b1494f361181ff6b"
      }
     },
     "metadata": {},
     "output_type": "display_data"
    },
    {
     "data": {
      "text/plain": "Epoch \u001B[1;36m4\u001B[0m took \u001B[1;36m8.34\u001B[0m seconds.\nLoss \u001B[1m(\u001B[0mGEN \u001B[35m/\u001B[0m DIS\u001B[1m)\u001B[0m: \u001B[1;36m-170.51\u001B[0m \u001B[35m/\u001B[0m \u001B[1;36m-2958.39\u001B[0m\n",
      "text/html": "<pre style=\"white-space:pre;overflow-x:auto;line-height:normal;font-family:Menlo,'DejaVu Sans Mono',consolas,'Courier New',monospace\">Epoch <span style=\"color: #008080; text-decoration-color: #008080; font-weight: bold\">4</span> took <span style=\"color: #008080; text-decoration-color: #008080; font-weight: bold\">8.34</span> seconds.\nLoss <span style=\"font-weight: bold\">(</span>GEN <span style=\"color: #800080; text-decoration-color: #800080\">/</span> DIS<span style=\"font-weight: bold\">)</span>: <span style=\"color: #008080; text-decoration-color: #008080; font-weight: bold\">-170.51</span> <span style=\"color: #800080; text-decoration-color: #800080\">/</span> <span style=\"color: #008080; text-decoration-color: #008080; font-weight: bold\">-2958.39</span>\n</pre>\n"
     },
     "metadata": {},
     "output_type": "display_data"
    },
    {
     "data": {
      "text/plain": "  0%|          | 0/49 [00:00<?, ?it/s]",
      "application/vnd.jupyter.widget-view+json": {
       "version_major": 2,
       "version_minor": 0,
       "model_id": "54fe81f6f3ca4d3f9a5c65919ff24a32"
      }
     },
     "metadata": {},
     "output_type": "display_data"
    },
    {
     "data": {
      "text/plain": "Epoch \u001B[1;36m5\u001B[0m took \u001B[1;36m10.00\u001B[0m seconds.\nLoss \u001B[1m(\u001B[0mGEN \u001B[35m/\u001B[0m DIS\u001B[1m)\u001B[0m: \u001B[1;36m-479.50\u001B[0m \u001B[35m/\u001B[0m \u001B[1;36m-1870.04\u001B[0m\n",
      "text/html": "<pre style=\"white-space:pre;overflow-x:auto;line-height:normal;font-family:Menlo,'DejaVu Sans Mono',consolas,'Courier New',monospace\">Epoch <span style=\"color: #008080; text-decoration-color: #008080; font-weight: bold\">5</span> took <span style=\"color: #008080; text-decoration-color: #008080; font-weight: bold\">10.00</span> seconds.\nLoss <span style=\"font-weight: bold\">(</span>GEN <span style=\"color: #800080; text-decoration-color: #800080\">/</span> DIS<span style=\"font-weight: bold\">)</span>: <span style=\"color: #008080; text-decoration-color: #008080; font-weight: bold\">-479.50</span> <span style=\"color: #800080; text-decoration-color: #800080\">/</span> <span style=\"color: #008080; text-decoration-color: #008080; font-weight: bold\">-1870.04</span>\n</pre>\n"
     },
     "metadata": {},
     "output_type": "display_data"
    },
    {
     "data": {
      "text/plain": "  0%|          | 0/49 [00:00<?, ?it/s]",
      "application/vnd.jupyter.widget-view+json": {
       "version_major": 2,
       "version_minor": 0,
       "model_id": "ba2931a7297d423da1d29663509d3be4"
      }
     },
     "metadata": {},
     "output_type": "display_data"
    },
    {
     "data": {
      "text/plain": "Epoch \u001B[1;36m6\u001B[0m took \u001B[1;36m8.68\u001B[0m seconds.\nLoss \u001B[1m(\u001B[0mGEN \u001B[35m/\u001B[0m DIS\u001B[1m)\u001B[0m: \u001B[1;36m-167.88\u001B[0m \u001B[35m/\u001B[0m \u001B[1;36m-1160.94\u001B[0m\n",
      "text/html": "<pre style=\"white-space:pre;overflow-x:auto;line-height:normal;font-family:Menlo,'DejaVu Sans Mono',consolas,'Courier New',monospace\">Epoch <span style=\"color: #008080; text-decoration-color: #008080; font-weight: bold\">6</span> took <span style=\"color: #008080; text-decoration-color: #008080; font-weight: bold\">8.68</span> seconds.\nLoss <span style=\"font-weight: bold\">(</span>GEN <span style=\"color: #800080; text-decoration-color: #800080\">/</span> DIS<span style=\"font-weight: bold\">)</span>: <span style=\"color: #008080; text-decoration-color: #008080; font-weight: bold\">-167.88</span> <span style=\"color: #800080; text-decoration-color: #800080\">/</span> <span style=\"color: #008080; text-decoration-color: #008080; font-weight: bold\">-1160.94</span>\n</pre>\n"
     },
     "metadata": {},
     "output_type": "display_data"
    },
    {
     "data": {
      "text/plain": "  0%|          | 0/49 [00:00<?, ?it/s]",
      "application/vnd.jupyter.widget-view+json": {
       "version_major": 2,
       "version_minor": 0,
       "model_id": "1bf7b898d9de4b34aa129911cb3c9849"
      }
     },
     "metadata": {},
     "output_type": "display_data"
    },
    {
     "data": {
      "text/plain": "Epoch \u001B[1;36m7\u001B[0m took \u001B[1;36m8.73\u001B[0m seconds.\nLoss \u001B[1m(\u001B[0mGEN \u001B[35m/\u001B[0m DIS\u001B[1m)\u001B[0m: \u001B[1;36m-350.22\u001B[0m \u001B[35m/\u001B[0m \u001B[1;36m-804.17\u001B[0m\n",
      "text/html": "<pre style=\"white-space:pre;overflow-x:auto;line-height:normal;font-family:Menlo,'DejaVu Sans Mono',consolas,'Courier New',monospace\">Epoch <span style=\"color: #008080; text-decoration-color: #008080; font-weight: bold\">7</span> took <span style=\"color: #008080; text-decoration-color: #008080; font-weight: bold\">8.73</span> seconds.\nLoss <span style=\"font-weight: bold\">(</span>GEN <span style=\"color: #800080; text-decoration-color: #800080\">/</span> DIS<span style=\"font-weight: bold\">)</span>: <span style=\"color: #008080; text-decoration-color: #008080; font-weight: bold\">-350.22</span> <span style=\"color: #800080; text-decoration-color: #800080\">/</span> <span style=\"color: #008080; text-decoration-color: #008080; font-weight: bold\">-804.17</span>\n</pre>\n"
     },
     "metadata": {},
     "output_type": "display_data"
    },
    {
     "data": {
      "text/plain": "  0%|          | 0/49 [00:00<?, ?it/s]",
      "application/vnd.jupyter.widget-view+json": {
       "version_major": 2,
       "version_minor": 0,
       "model_id": "40a37f4eed2d4fa3a3859b6b095f9e2f"
      }
     },
     "metadata": {},
     "output_type": "display_data"
    },
    {
     "data": {
      "text/plain": "Epoch \u001B[1;36m8\u001B[0m took \u001B[1;36m8.86\u001B[0m seconds.\nLoss \u001B[1m(\u001B[0mGEN \u001B[35m/\u001B[0m DIS\u001B[1m)\u001B[0m: \u001B[1;36m-464.18\u001B[0m \u001B[35m/\u001B[0m \u001B[1;36m-678.33\u001B[0m\n",
      "text/html": "<pre style=\"white-space:pre;overflow-x:auto;line-height:normal;font-family:Menlo,'DejaVu Sans Mono',consolas,'Courier New',monospace\">Epoch <span style=\"color: #008080; text-decoration-color: #008080; font-weight: bold\">8</span> took <span style=\"color: #008080; text-decoration-color: #008080; font-weight: bold\">8.86</span> seconds.\nLoss <span style=\"font-weight: bold\">(</span>GEN <span style=\"color: #800080; text-decoration-color: #800080\">/</span> DIS<span style=\"font-weight: bold\">)</span>: <span style=\"color: #008080; text-decoration-color: #008080; font-weight: bold\">-464.18</span> <span style=\"color: #800080; text-decoration-color: #800080\">/</span> <span style=\"color: #008080; text-decoration-color: #008080; font-weight: bold\">-678.33</span>\n</pre>\n"
     },
     "metadata": {},
     "output_type": "display_data"
    },
    {
     "data": {
      "text/plain": "  0%|          | 0/49 [00:00<?, ?it/s]",
      "application/vnd.jupyter.widget-view+json": {
       "version_major": 2,
       "version_minor": 0,
       "model_id": "9ad049db42714d4cae81c05086b740dd"
      }
     },
     "metadata": {},
     "output_type": "display_data"
    },
    {
     "data": {
      "text/plain": "Epoch \u001B[1;36m9\u001B[0m took \u001B[1;36m8.47\u001B[0m seconds.\nLoss \u001B[1m(\u001B[0mGEN \u001B[35m/\u001B[0m DIS\u001B[1m)\u001B[0m: \u001B[1;36m-348.82\u001B[0m \u001B[35m/\u001B[0m \u001B[1;36m-601.47\u001B[0m\n",
      "text/html": "<pre style=\"white-space:pre;overflow-x:auto;line-height:normal;font-family:Menlo,'DejaVu Sans Mono',consolas,'Courier New',monospace\">Epoch <span style=\"color: #008080; text-decoration-color: #008080; font-weight: bold\">9</span> took <span style=\"color: #008080; text-decoration-color: #008080; font-weight: bold\">8.47</span> seconds.\nLoss <span style=\"font-weight: bold\">(</span>GEN <span style=\"color: #800080; text-decoration-color: #800080\">/</span> DIS<span style=\"font-weight: bold\">)</span>: <span style=\"color: #008080; text-decoration-color: #008080; font-weight: bold\">-348.82</span> <span style=\"color: #800080; text-decoration-color: #800080\">/</span> <span style=\"color: #008080; text-decoration-color: #008080; font-weight: bold\">-601.47</span>\n</pre>\n"
     },
     "metadata": {},
     "output_type": "display_data"
    },
    {
     "data": {
      "text/plain": "  0%|          | 0/49 [00:00<?, ?it/s]",
      "application/vnd.jupyter.widget-view+json": {
       "version_major": 2,
       "version_minor": 0,
       "model_id": "ae80fdddaecc470bb527ef2e52a6f2b0"
      }
     },
     "metadata": {},
     "output_type": "display_data"
    },
    {
     "data": {
      "text/plain": "Epoch \u001B[1;36m10\u001B[0m took \u001B[1;36m8.58\u001B[0m seconds.\nLoss \u001B[1m(\u001B[0mGEN \u001B[35m/\u001B[0m DIS\u001B[1m)\u001B[0m: \u001B[1;36m-20.72\u001B[0m \u001B[35m/\u001B[0m \u001B[1;36m-626.30\u001B[0m\n",
      "text/html": "<pre style=\"white-space:pre;overflow-x:auto;line-height:normal;font-family:Menlo,'DejaVu Sans Mono',consolas,'Courier New',monospace\">Epoch <span style=\"color: #008080; text-decoration-color: #008080; font-weight: bold\">10</span> took <span style=\"color: #008080; text-decoration-color: #008080; font-weight: bold\">8.58</span> seconds.\nLoss <span style=\"font-weight: bold\">(</span>GEN <span style=\"color: #800080; text-decoration-color: #800080\">/</span> DIS<span style=\"font-weight: bold\">)</span>: <span style=\"color: #008080; text-decoration-color: #008080; font-weight: bold\">-20.72</span> <span style=\"color: #800080; text-decoration-color: #800080\">/</span> <span style=\"color: #008080; text-decoration-color: #008080; font-weight: bold\">-626.30</span>\n</pre>\n"
     },
     "metadata": {},
     "output_type": "display_data"
    },
    {
     "data": {
      "text/plain": "  0%|          | 0/49 [00:00<?, ?it/s]",
      "application/vnd.jupyter.widget-view+json": {
       "version_major": 2,
       "version_minor": 0,
       "model_id": "1a5df8d37fe54f618ff21362b2966834"
      }
     },
     "metadata": {},
     "output_type": "display_data"
    },
    {
     "data": {
      "text/plain": "Epoch \u001B[1;36m11\u001B[0m took \u001B[1;36m9.04\u001B[0m seconds.\nLoss \u001B[1m(\u001B[0mGEN \u001B[35m/\u001B[0m DIS\u001B[1m)\u001B[0m: \u001B[1;36m-16.09\u001B[0m \u001B[35m/\u001B[0m \u001B[1;36m-423.57\u001B[0m\n",
      "text/html": "<pre style=\"white-space:pre;overflow-x:auto;line-height:normal;font-family:Menlo,'DejaVu Sans Mono',consolas,'Courier New',monospace\">Epoch <span style=\"color: #008080; text-decoration-color: #008080; font-weight: bold\">11</span> took <span style=\"color: #008080; text-decoration-color: #008080; font-weight: bold\">9.04</span> seconds.\nLoss <span style=\"font-weight: bold\">(</span>GEN <span style=\"color: #800080; text-decoration-color: #800080\">/</span> DIS<span style=\"font-weight: bold\">)</span>: <span style=\"color: #008080; text-decoration-color: #008080; font-weight: bold\">-16.09</span> <span style=\"color: #800080; text-decoration-color: #800080\">/</span> <span style=\"color: #008080; text-decoration-color: #008080; font-weight: bold\">-423.57</span>\n</pre>\n"
     },
     "metadata": {},
     "output_type": "display_data"
    },
    {
     "data": {
      "text/plain": "  0%|          | 0/49 [00:00<?, ?it/s]",
      "application/vnd.jupyter.widget-view+json": {
       "version_major": 2,
       "version_minor": 0,
       "model_id": "f367b07432c34ee492adba78182fa9f2"
      }
     },
     "metadata": {},
     "output_type": "display_data"
    },
    {
     "data": {
      "text/plain": "Epoch \u001B[1;36m12\u001B[0m took \u001B[1;36m8.70\u001B[0m seconds.\nLoss \u001B[1m(\u001B[0mGEN \u001B[35m/\u001B[0m DIS\u001B[1m)\u001B[0m: \u001B[1;36m-222.85\u001B[0m \u001B[35m/\u001B[0m \u001B[1;36m-373.02\u001B[0m\n",
      "text/html": "<pre style=\"white-space:pre;overflow-x:auto;line-height:normal;font-family:Menlo,'DejaVu Sans Mono',consolas,'Courier New',monospace\">Epoch <span style=\"color: #008080; text-decoration-color: #008080; font-weight: bold\">12</span> took <span style=\"color: #008080; text-decoration-color: #008080; font-weight: bold\">8.70</span> seconds.\nLoss <span style=\"font-weight: bold\">(</span>GEN <span style=\"color: #800080; text-decoration-color: #800080\">/</span> DIS<span style=\"font-weight: bold\">)</span>: <span style=\"color: #008080; text-decoration-color: #008080; font-weight: bold\">-222.85</span> <span style=\"color: #800080; text-decoration-color: #800080\">/</span> <span style=\"color: #008080; text-decoration-color: #008080; font-weight: bold\">-373.02</span>\n</pre>\n"
     },
     "metadata": {},
     "output_type": "display_data"
    },
    {
     "data": {
      "text/plain": "  0%|          | 0/49 [00:00<?, ?it/s]",
      "application/vnd.jupyter.widget-view+json": {
       "version_major": 2,
       "version_minor": 0,
       "model_id": "cb1cdd2135ac41a4a2be4a26ac54707e"
      }
     },
     "metadata": {},
     "output_type": "display_data"
    },
    {
     "data": {
      "text/plain": "Epoch \u001B[1;36m13\u001B[0m took \u001B[1;36m8.51\u001B[0m seconds.\nLoss \u001B[1m(\u001B[0mGEN \u001B[35m/\u001B[0m DIS\u001B[1m)\u001B[0m: \u001B[1;36m-255.43\u001B[0m \u001B[35m/\u001B[0m \u001B[1;36m-352.33\u001B[0m\n",
      "text/html": "<pre style=\"white-space:pre;overflow-x:auto;line-height:normal;font-family:Menlo,'DejaVu Sans Mono',consolas,'Courier New',monospace\">Epoch <span style=\"color: #008080; text-decoration-color: #008080; font-weight: bold\">13</span> took <span style=\"color: #008080; text-decoration-color: #008080; font-weight: bold\">8.51</span> seconds.\nLoss <span style=\"font-weight: bold\">(</span>GEN <span style=\"color: #800080; text-decoration-color: #800080\">/</span> DIS<span style=\"font-weight: bold\">)</span>: <span style=\"color: #008080; text-decoration-color: #008080; font-weight: bold\">-255.43</span> <span style=\"color: #800080; text-decoration-color: #800080\">/</span> <span style=\"color: #008080; text-decoration-color: #008080; font-weight: bold\">-352.33</span>\n</pre>\n"
     },
     "metadata": {},
     "output_type": "display_data"
    },
    {
     "data": {
      "text/plain": "  0%|          | 0/49 [00:00<?, ?it/s]",
      "application/vnd.jupyter.widget-view+json": {
       "version_major": 2,
       "version_minor": 0,
       "model_id": "0b06084fdb75425ababeb79ae8927714"
      }
     },
     "metadata": {},
     "output_type": "display_data"
    },
    {
     "data": {
      "text/plain": "Epoch \u001B[1;36m14\u001B[0m took \u001B[1;36m8.87\u001B[0m seconds.\nLoss \u001B[1m(\u001B[0mGEN \u001B[35m/\u001B[0m DIS\u001B[1m)\u001B[0m: \u001B[1;36m217.20\u001B[0m \u001B[35m/\u001B[0m \u001B[1;36m-280.23\u001B[0m\n",
      "text/html": "<pre style=\"white-space:pre;overflow-x:auto;line-height:normal;font-family:Menlo,'DejaVu Sans Mono',consolas,'Courier New',monospace\">Epoch <span style=\"color: #008080; text-decoration-color: #008080; font-weight: bold\">14</span> took <span style=\"color: #008080; text-decoration-color: #008080; font-weight: bold\">8.87</span> seconds.\nLoss <span style=\"font-weight: bold\">(</span>GEN <span style=\"color: #800080; text-decoration-color: #800080\">/</span> DIS<span style=\"font-weight: bold\">)</span>: <span style=\"color: #008080; text-decoration-color: #008080; font-weight: bold\">217.20</span> <span style=\"color: #800080; text-decoration-color: #800080\">/</span> <span style=\"color: #008080; text-decoration-color: #008080; font-weight: bold\">-280.23</span>\n</pre>\n"
     },
     "metadata": {},
     "output_type": "display_data"
    },
    {
     "data": {
      "text/plain": "  0%|          | 0/49 [00:00<?, ?it/s]",
      "application/vnd.jupyter.widget-view+json": {
       "version_major": 2,
       "version_minor": 0,
       "model_id": "ca6c2baeebc147aabdd9619909bbf363"
      }
     },
     "metadata": {},
     "output_type": "display_data"
    },
    {
     "data": {
      "text/plain": "Epoch \u001B[1;36m15\u001B[0m took \u001B[1;36m8.76\u001B[0m seconds.\nLoss \u001B[1m(\u001B[0mGEN \u001B[35m/\u001B[0m DIS\u001B[1m)\u001B[0m: \u001B[1;36m39.56\u001B[0m \u001B[35m/\u001B[0m \u001B[1;36m-441.59\u001B[0m\n",
      "text/html": "<pre style=\"white-space:pre;overflow-x:auto;line-height:normal;font-family:Menlo,'DejaVu Sans Mono',consolas,'Courier New',monospace\">Epoch <span style=\"color: #008080; text-decoration-color: #008080; font-weight: bold\">15</span> took <span style=\"color: #008080; text-decoration-color: #008080; font-weight: bold\">8.76</span> seconds.\nLoss <span style=\"font-weight: bold\">(</span>GEN <span style=\"color: #800080; text-decoration-color: #800080\">/</span> DIS<span style=\"font-weight: bold\">)</span>: <span style=\"color: #008080; text-decoration-color: #008080; font-weight: bold\">39.56</span> <span style=\"color: #800080; text-decoration-color: #800080\">/</span> <span style=\"color: #008080; text-decoration-color: #008080; font-weight: bold\">-441.59</span>\n</pre>\n"
     },
     "metadata": {},
     "output_type": "display_data"
    },
    {
     "data": {
      "text/plain": "  0%|          | 0/49 [00:00<?, ?it/s]",
      "application/vnd.jupyter.widget-view+json": {
       "version_major": 2,
       "version_minor": 0,
       "model_id": "a2b34993fc1a42e8ad2cfd822588198c"
      }
     },
     "metadata": {},
     "output_type": "display_data"
    },
    {
     "data": {
      "text/plain": "Epoch \u001B[1;36m16\u001B[0m took \u001B[1;36m9.18\u001B[0m seconds.\nLoss \u001B[1m(\u001B[0mGEN \u001B[35m/\u001B[0m DIS\u001B[1m)\u001B[0m: \u001B[1;36m20.42\u001B[0m \u001B[35m/\u001B[0m \u001B[1;36m-377.74\u001B[0m\n",
      "text/html": "<pre style=\"white-space:pre;overflow-x:auto;line-height:normal;font-family:Menlo,'DejaVu Sans Mono',consolas,'Courier New',monospace\">Epoch <span style=\"color: #008080; text-decoration-color: #008080; font-weight: bold\">16</span> took <span style=\"color: #008080; text-decoration-color: #008080; font-weight: bold\">9.18</span> seconds.\nLoss <span style=\"font-weight: bold\">(</span>GEN <span style=\"color: #800080; text-decoration-color: #800080\">/</span> DIS<span style=\"font-weight: bold\">)</span>: <span style=\"color: #008080; text-decoration-color: #008080; font-weight: bold\">20.42</span> <span style=\"color: #800080; text-decoration-color: #800080\">/</span> <span style=\"color: #008080; text-decoration-color: #008080; font-weight: bold\">-377.74</span>\n</pre>\n"
     },
     "metadata": {},
     "output_type": "display_data"
    },
    {
     "data": {
      "text/plain": "  0%|          | 0/49 [00:00<?, ?it/s]",
      "application/vnd.jupyter.widget-view+json": {
       "version_major": 2,
       "version_minor": 0,
       "model_id": "b8c678519c934b10a3330927cc2f507f"
      }
     },
     "metadata": {},
     "output_type": "display_data"
    },
    {
     "data": {
      "text/plain": "Epoch \u001B[1;36m17\u001B[0m took \u001B[1;36m9.13\u001B[0m seconds.\nLoss \u001B[1m(\u001B[0mGEN \u001B[35m/\u001B[0m DIS\u001B[1m)\u001B[0m: \u001B[1;36m-50.17\u001B[0m \u001B[35m/\u001B[0m \u001B[1;36m-509.56\u001B[0m\n",
      "text/html": "<pre style=\"white-space:pre;overflow-x:auto;line-height:normal;font-family:Menlo,'DejaVu Sans Mono',consolas,'Courier New',monospace\">Epoch <span style=\"color: #008080; text-decoration-color: #008080; font-weight: bold\">17</span> took <span style=\"color: #008080; text-decoration-color: #008080; font-weight: bold\">9.13</span> seconds.\nLoss <span style=\"font-weight: bold\">(</span>GEN <span style=\"color: #800080; text-decoration-color: #800080\">/</span> DIS<span style=\"font-weight: bold\">)</span>: <span style=\"color: #008080; text-decoration-color: #008080; font-weight: bold\">-50.17</span> <span style=\"color: #800080; text-decoration-color: #800080\">/</span> <span style=\"color: #008080; text-decoration-color: #008080; font-weight: bold\">-509.56</span>\n</pre>\n"
     },
     "metadata": {},
     "output_type": "display_data"
    },
    {
     "data": {
      "text/plain": "  0%|          | 0/49 [00:00<?, ?it/s]",
      "application/vnd.jupyter.widget-view+json": {
       "version_major": 2,
       "version_minor": 0,
       "model_id": "6f3c041762814163a4ee6c17b6cbd064"
      }
     },
     "metadata": {},
     "output_type": "display_data"
    },
    {
     "data": {
      "text/plain": "Epoch \u001B[1;36m18\u001B[0m took \u001B[1;36m8.79\u001B[0m seconds.\nLoss \u001B[1m(\u001B[0mGEN \u001B[35m/\u001B[0m DIS\u001B[1m)\u001B[0m: \u001B[1;36m124.40\u001B[0m \u001B[35m/\u001B[0m \u001B[1;36m-531.13\u001B[0m\n",
      "text/html": "<pre style=\"white-space:pre;overflow-x:auto;line-height:normal;font-family:Menlo,'DejaVu Sans Mono',consolas,'Courier New',monospace\">Epoch <span style=\"color: #008080; text-decoration-color: #008080; font-weight: bold\">18</span> took <span style=\"color: #008080; text-decoration-color: #008080; font-weight: bold\">8.79</span> seconds.\nLoss <span style=\"font-weight: bold\">(</span>GEN <span style=\"color: #800080; text-decoration-color: #800080\">/</span> DIS<span style=\"font-weight: bold\">)</span>: <span style=\"color: #008080; text-decoration-color: #008080; font-weight: bold\">124.40</span> <span style=\"color: #800080; text-decoration-color: #800080\">/</span> <span style=\"color: #008080; text-decoration-color: #008080; font-weight: bold\">-531.13</span>\n</pre>\n"
     },
     "metadata": {},
     "output_type": "display_data"
    },
    {
     "data": {
      "text/plain": "  0%|          | 0/49 [00:00<?, ?it/s]",
      "application/vnd.jupyter.widget-view+json": {
       "version_major": 2,
       "version_minor": 0,
       "model_id": "63b909ac81d74c8fa2667b05340ae09a"
      }
     },
     "metadata": {},
     "output_type": "display_data"
    },
    {
     "data": {
      "text/plain": "Epoch \u001B[1;36m19\u001B[0m took \u001B[1;36m8.78\u001B[0m seconds.\nLoss \u001B[1m(\u001B[0mGEN \u001B[35m/\u001B[0m DIS\u001B[1m)\u001B[0m: \u001B[1;36m76.07\u001B[0m \u001B[35m/\u001B[0m \u001B[1;36m-519.51\u001B[0m\n",
      "text/html": "<pre style=\"white-space:pre;overflow-x:auto;line-height:normal;font-family:Menlo,'DejaVu Sans Mono',consolas,'Courier New',monospace\">Epoch <span style=\"color: #008080; text-decoration-color: #008080; font-weight: bold\">19</span> took <span style=\"color: #008080; text-decoration-color: #008080; font-weight: bold\">8.78</span> seconds.\nLoss <span style=\"font-weight: bold\">(</span>GEN <span style=\"color: #800080; text-decoration-color: #800080\">/</span> DIS<span style=\"font-weight: bold\">)</span>: <span style=\"color: #008080; text-decoration-color: #008080; font-weight: bold\">76.07</span> <span style=\"color: #800080; text-decoration-color: #800080\">/</span> <span style=\"color: #008080; text-decoration-color: #008080; font-weight: bold\">-519.51</span>\n</pre>\n"
     },
     "metadata": {},
     "output_type": "display_data"
    },
    {
     "data": {
      "text/plain": "  0%|          | 0/49 [00:00<?, ?it/s]",
      "application/vnd.jupyter.widget-view+json": {
       "version_major": 2,
       "version_minor": 0,
       "model_id": "d3d2d2977a1b4ba0a1987bd95a77a02b"
      }
     },
     "metadata": {},
     "output_type": "display_data"
    },
    {
     "data": {
      "text/plain": "Epoch \u001B[1;36m20\u001B[0m took \u001B[1;36m8.97\u001B[0m seconds.\nLoss \u001B[1m(\u001B[0mGEN \u001B[35m/\u001B[0m DIS\u001B[1m)\u001B[0m: \u001B[1;36m18.20\u001B[0m \u001B[35m/\u001B[0m \u001B[1;36m-509.84\u001B[0m\n",
      "text/html": "<pre style=\"white-space:pre;overflow-x:auto;line-height:normal;font-family:Menlo,'DejaVu Sans Mono',consolas,'Courier New',monospace\">Epoch <span style=\"color: #008080; text-decoration-color: #008080; font-weight: bold\">20</span> took <span style=\"color: #008080; text-decoration-color: #008080; font-weight: bold\">8.97</span> seconds.\nLoss <span style=\"font-weight: bold\">(</span>GEN <span style=\"color: #800080; text-decoration-color: #800080\">/</span> DIS<span style=\"font-weight: bold\">)</span>: <span style=\"color: #008080; text-decoration-color: #008080; font-weight: bold\">18.20</span> <span style=\"color: #800080; text-decoration-color: #800080\">/</span> <span style=\"color: #008080; text-decoration-color: #008080; font-weight: bold\">-509.84</span>\n</pre>\n"
     },
     "metadata": {},
     "output_type": "display_data"
    },
    {
     "data": {
      "text/plain": "  0%|          | 0/49 [00:00<?, ?it/s]",
      "application/vnd.jupyter.widget-view+json": {
       "version_major": 2,
       "version_minor": 0,
       "model_id": "6c38a509420c4da195b514ef0232b183"
      }
     },
     "metadata": {},
     "output_type": "display_data"
    },
    {
     "data": {
      "text/plain": "Epoch \u001B[1;36m21\u001B[0m took \u001B[1;36m8.82\u001B[0m seconds.\nLoss \u001B[1m(\u001B[0mGEN \u001B[35m/\u001B[0m DIS\u001B[1m)\u001B[0m: \u001B[1;36m-80.44\u001B[0m \u001B[35m/\u001B[0m \u001B[1;36m-494.27\u001B[0m\n",
      "text/html": "<pre style=\"white-space:pre;overflow-x:auto;line-height:normal;font-family:Menlo,'DejaVu Sans Mono',consolas,'Courier New',monospace\">Epoch <span style=\"color: #008080; text-decoration-color: #008080; font-weight: bold\">21</span> took <span style=\"color: #008080; text-decoration-color: #008080; font-weight: bold\">8.82</span> seconds.\nLoss <span style=\"font-weight: bold\">(</span>GEN <span style=\"color: #800080; text-decoration-color: #800080\">/</span> DIS<span style=\"font-weight: bold\">)</span>: <span style=\"color: #008080; text-decoration-color: #008080; font-weight: bold\">-80.44</span> <span style=\"color: #800080; text-decoration-color: #800080\">/</span> <span style=\"color: #008080; text-decoration-color: #008080; font-weight: bold\">-494.27</span>\n</pre>\n"
     },
     "metadata": {},
     "output_type": "display_data"
    },
    {
     "data": {
      "text/plain": "  0%|          | 0/49 [00:00<?, ?it/s]",
      "application/vnd.jupyter.widget-view+json": {
       "version_major": 2,
       "version_minor": 0,
       "model_id": "d85b12f7c09c4f71a226da9fde5ddf0e"
      }
     },
     "metadata": {},
     "output_type": "display_data"
    },
    {
     "data": {
      "text/plain": "Epoch \u001B[1;36m22\u001B[0m took \u001B[1;36m9.12\u001B[0m seconds.\nLoss \u001B[1m(\u001B[0mGEN \u001B[35m/\u001B[0m DIS\u001B[1m)\u001B[0m: \u001B[1;36m-3.81\u001B[0m \u001B[35m/\u001B[0m \u001B[1;36m-456.62\u001B[0m\n",
      "text/html": "<pre style=\"white-space:pre;overflow-x:auto;line-height:normal;font-family:Menlo,'DejaVu Sans Mono',consolas,'Courier New',monospace\">Epoch <span style=\"color: #008080; text-decoration-color: #008080; font-weight: bold\">22</span> took <span style=\"color: #008080; text-decoration-color: #008080; font-weight: bold\">9.12</span> seconds.\nLoss <span style=\"font-weight: bold\">(</span>GEN <span style=\"color: #800080; text-decoration-color: #800080\">/</span> DIS<span style=\"font-weight: bold\">)</span>: <span style=\"color: #008080; text-decoration-color: #008080; font-weight: bold\">-3.81</span> <span style=\"color: #800080; text-decoration-color: #800080\">/</span> <span style=\"color: #008080; text-decoration-color: #008080; font-weight: bold\">-456.62</span>\n</pre>\n"
     },
     "metadata": {},
     "output_type": "display_data"
    },
    {
     "data": {
      "text/plain": "  0%|          | 0/49 [00:00<?, ?it/s]",
      "application/vnd.jupyter.widget-view+json": {
       "version_major": 2,
       "version_minor": 0,
       "model_id": "b4155a9f728846f1a3c02535b31a005f"
      }
     },
     "metadata": {},
     "output_type": "display_data"
    },
    {
     "data": {
      "text/plain": "Epoch \u001B[1;36m23\u001B[0m took \u001B[1;36m9.04\u001B[0m seconds.\nLoss \u001B[1m(\u001B[0mGEN \u001B[35m/\u001B[0m DIS\u001B[1m)\u001B[0m: \u001B[1;36m-85.69\u001B[0m \u001B[35m/\u001B[0m \u001B[1;36m-442.06\u001B[0m\n",
      "text/html": "<pre style=\"white-space:pre;overflow-x:auto;line-height:normal;font-family:Menlo,'DejaVu Sans Mono',consolas,'Courier New',monospace\">Epoch <span style=\"color: #008080; text-decoration-color: #008080; font-weight: bold\">23</span> took <span style=\"color: #008080; text-decoration-color: #008080; font-weight: bold\">9.04</span> seconds.\nLoss <span style=\"font-weight: bold\">(</span>GEN <span style=\"color: #800080; text-decoration-color: #800080\">/</span> DIS<span style=\"font-weight: bold\">)</span>: <span style=\"color: #008080; text-decoration-color: #008080; font-weight: bold\">-85.69</span> <span style=\"color: #800080; text-decoration-color: #800080\">/</span> <span style=\"color: #008080; text-decoration-color: #008080; font-weight: bold\">-442.06</span>\n</pre>\n"
     },
     "metadata": {},
     "output_type": "display_data"
    },
    {
     "data": {
      "text/plain": "  0%|          | 0/49 [00:00<?, ?it/s]",
      "application/vnd.jupyter.widget-view+json": {
       "version_major": 2,
       "version_minor": 0,
       "model_id": "aa53d5493b38447995e74c12fa526a9c"
      }
     },
     "metadata": {},
     "output_type": "display_data"
    },
    {
     "data": {
      "text/plain": "Epoch \u001B[1;36m24\u001B[0m took \u001B[1;36m9.32\u001B[0m seconds.\nLoss \u001B[1m(\u001B[0mGEN \u001B[35m/\u001B[0m DIS\u001B[1m)\u001B[0m: \u001B[1;36m-34.35\u001B[0m \u001B[35m/\u001B[0m \u001B[1;36m-411.74\u001B[0m\n",
      "text/html": "<pre style=\"white-space:pre;overflow-x:auto;line-height:normal;font-family:Menlo,'DejaVu Sans Mono',consolas,'Courier New',monospace\">Epoch <span style=\"color: #008080; text-decoration-color: #008080; font-weight: bold\">24</span> took <span style=\"color: #008080; text-decoration-color: #008080; font-weight: bold\">9.32</span> seconds.\nLoss <span style=\"font-weight: bold\">(</span>GEN <span style=\"color: #800080; text-decoration-color: #800080\">/</span> DIS<span style=\"font-weight: bold\">)</span>: <span style=\"color: #008080; text-decoration-color: #008080; font-weight: bold\">-34.35</span> <span style=\"color: #800080; text-decoration-color: #800080\">/</span> <span style=\"color: #008080; text-decoration-color: #008080; font-weight: bold\">-411.74</span>\n</pre>\n"
     },
     "metadata": {},
     "output_type": "display_data"
    },
    {
     "data": {
      "text/plain": "  0%|          | 0/49 [00:00<?, ?it/s]",
      "application/vnd.jupyter.widget-view+json": {
       "version_major": 2,
       "version_minor": 0,
       "model_id": "39c56400fb344e688a522fe2802e3a78"
      }
     },
     "metadata": {},
     "output_type": "display_data"
    },
    {
     "data": {
      "text/plain": "Epoch \u001B[1;36m25\u001B[0m took \u001B[1;36m10.09\u001B[0m seconds.\nLoss \u001B[1m(\u001B[0mGEN \u001B[35m/\u001B[0m DIS\u001B[1m)\u001B[0m: \u001B[1;36m48.69\u001B[0m \u001B[35m/\u001B[0m \u001B[1;36m-390.20\u001B[0m\n",
      "text/html": "<pre style=\"white-space:pre;overflow-x:auto;line-height:normal;font-family:Menlo,'DejaVu Sans Mono',consolas,'Courier New',monospace\">Epoch <span style=\"color: #008080; text-decoration-color: #008080; font-weight: bold\">25</span> took <span style=\"color: #008080; text-decoration-color: #008080; font-weight: bold\">10.09</span> seconds.\nLoss <span style=\"font-weight: bold\">(</span>GEN <span style=\"color: #800080; text-decoration-color: #800080\">/</span> DIS<span style=\"font-weight: bold\">)</span>: <span style=\"color: #008080; text-decoration-color: #008080; font-weight: bold\">48.69</span> <span style=\"color: #800080; text-decoration-color: #800080\">/</span> <span style=\"color: #008080; text-decoration-color: #008080; font-weight: bold\">-390.20</span>\n</pre>\n"
     },
     "metadata": {},
     "output_type": "display_data"
    },
    {
     "data": {
      "text/plain": "  0%|          | 0/49 [00:00<?, ?it/s]",
      "application/vnd.jupyter.widget-view+json": {
       "version_major": 2,
       "version_minor": 0,
       "model_id": "eeaf176e9ddc4bc5aeb29332835d5027"
      }
     },
     "metadata": {},
     "output_type": "display_data"
    },
    {
     "data": {
      "text/plain": "Epoch \u001B[1;36m26\u001B[0m took \u001B[1;36m9.04\u001B[0m seconds.\nLoss \u001B[1m(\u001B[0mGEN \u001B[35m/\u001B[0m DIS\u001B[1m)\u001B[0m: \u001B[1;36m-235.48\u001B[0m \u001B[35m/\u001B[0m \u001B[1;36m-379.15\u001B[0m\n",
      "text/html": "<pre style=\"white-space:pre;overflow-x:auto;line-height:normal;font-family:Menlo,'DejaVu Sans Mono',consolas,'Courier New',monospace\">Epoch <span style=\"color: #008080; text-decoration-color: #008080; font-weight: bold\">26</span> took <span style=\"color: #008080; text-decoration-color: #008080; font-weight: bold\">9.04</span> seconds.\nLoss <span style=\"font-weight: bold\">(</span>GEN <span style=\"color: #800080; text-decoration-color: #800080\">/</span> DIS<span style=\"font-weight: bold\">)</span>: <span style=\"color: #008080; text-decoration-color: #008080; font-weight: bold\">-235.48</span> <span style=\"color: #800080; text-decoration-color: #800080\">/</span> <span style=\"color: #008080; text-decoration-color: #008080; font-weight: bold\">-379.15</span>\n</pre>\n"
     },
     "metadata": {},
     "output_type": "display_data"
    },
    {
     "data": {
      "text/plain": "  0%|          | 0/49 [00:00<?, ?it/s]",
      "application/vnd.jupyter.widget-view+json": {
       "version_major": 2,
       "version_minor": 0,
       "model_id": "a38c47e80e41464093bc72cd0f989e5a"
      }
     },
     "metadata": {},
     "output_type": "display_data"
    },
    {
     "data": {
      "text/plain": "Epoch \u001B[1;36m27\u001B[0m took \u001B[1;36m9.06\u001B[0m seconds.\nLoss \u001B[1m(\u001B[0mGEN \u001B[35m/\u001B[0m DIS\u001B[1m)\u001B[0m: \u001B[1;36m-33.53\u001B[0m \u001B[35m/\u001B[0m \u001B[1;36m-363.55\u001B[0m\n",
      "text/html": "<pre style=\"white-space:pre;overflow-x:auto;line-height:normal;font-family:Menlo,'DejaVu Sans Mono',consolas,'Courier New',monospace\">Epoch <span style=\"color: #008080; text-decoration-color: #008080; font-weight: bold\">27</span> took <span style=\"color: #008080; text-decoration-color: #008080; font-weight: bold\">9.06</span> seconds.\nLoss <span style=\"font-weight: bold\">(</span>GEN <span style=\"color: #800080; text-decoration-color: #800080\">/</span> DIS<span style=\"font-weight: bold\">)</span>: <span style=\"color: #008080; text-decoration-color: #008080; font-weight: bold\">-33.53</span> <span style=\"color: #800080; text-decoration-color: #800080\">/</span> <span style=\"color: #008080; text-decoration-color: #008080; font-weight: bold\">-363.55</span>\n</pre>\n"
     },
     "metadata": {},
     "output_type": "display_data"
    },
    {
     "data": {
      "text/plain": "  0%|          | 0/49 [00:00<?, ?it/s]",
      "application/vnd.jupyter.widget-view+json": {
       "version_major": 2,
       "version_minor": 0,
       "model_id": "b4b725231cbe4d4f8bbcc55dfa51a164"
      }
     },
     "metadata": {},
     "output_type": "display_data"
    },
    {
     "data": {
      "text/plain": "Epoch \u001B[1;36m28\u001B[0m took \u001B[1;36m8.64\u001B[0m seconds.\nLoss \u001B[1m(\u001B[0mGEN \u001B[35m/\u001B[0m DIS\u001B[1m)\u001B[0m: \u001B[1;36m-155.02\u001B[0m \u001B[35m/\u001B[0m \u001B[1;36m-361.01\u001B[0m\n",
      "text/html": "<pre style=\"white-space:pre;overflow-x:auto;line-height:normal;font-family:Menlo,'DejaVu Sans Mono',consolas,'Courier New',monospace\">Epoch <span style=\"color: #008080; text-decoration-color: #008080; font-weight: bold\">28</span> took <span style=\"color: #008080; text-decoration-color: #008080; font-weight: bold\">8.64</span> seconds.\nLoss <span style=\"font-weight: bold\">(</span>GEN <span style=\"color: #800080; text-decoration-color: #800080\">/</span> DIS<span style=\"font-weight: bold\">)</span>: <span style=\"color: #008080; text-decoration-color: #008080; font-weight: bold\">-155.02</span> <span style=\"color: #800080; text-decoration-color: #800080\">/</span> <span style=\"color: #008080; text-decoration-color: #008080; font-weight: bold\">-361.01</span>\n</pre>\n"
     },
     "metadata": {},
     "output_type": "display_data"
    },
    {
     "data": {
      "text/plain": "  0%|          | 0/49 [00:00<?, ?it/s]",
      "application/vnd.jupyter.widget-view+json": {
       "version_major": 2,
       "version_minor": 0,
       "model_id": "c0b2130be1fc439bbaeaa87b1b8be382"
      }
     },
     "metadata": {},
     "output_type": "display_data"
    },
    {
     "data": {
      "text/plain": "Epoch \u001B[1;36m29\u001B[0m took \u001B[1;36m9.16\u001B[0m seconds.\nLoss \u001B[1m(\u001B[0mGEN \u001B[35m/\u001B[0m DIS\u001B[1m)\u001B[0m: \u001B[1;36m-101.22\u001B[0m \u001B[35m/\u001B[0m \u001B[1;36m-352.46\u001B[0m\n",
      "text/html": "<pre style=\"white-space:pre;overflow-x:auto;line-height:normal;font-family:Menlo,'DejaVu Sans Mono',consolas,'Courier New',monospace\">Epoch <span style=\"color: #008080; text-decoration-color: #008080; font-weight: bold\">29</span> took <span style=\"color: #008080; text-decoration-color: #008080; font-weight: bold\">9.16</span> seconds.\nLoss <span style=\"font-weight: bold\">(</span>GEN <span style=\"color: #800080; text-decoration-color: #800080\">/</span> DIS<span style=\"font-weight: bold\">)</span>: <span style=\"color: #008080; text-decoration-color: #008080; font-weight: bold\">-101.22</span> <span style=\"color: #800080; text-decoration-color: #800080\">/</span> <span style=\"color: #008080; text-decoration-color: #008080; font-weight: bold\">-352.46</span>\n</pre>\n"
     },
     "metadata": {},
     "output_type": "display_data"
    },
    {
     "data": {
      "text/plain": "  0%|          | 0/49 [00:00<?, ?it/s]",
      "application/vnd.jupyter.widget-view+json": {
       "version_major": 2,
       "version_minor": 0,
       "model_id": "0b6f1b3742e64ccd95a7fb4682a99594"
      }
     },
     "metadata": {},
     "output_type": "display_data"
    },
    {
     "data": {
      "text/plain": "Epoch \u001B[1;36m30\u001B[0m took \u001B[1;36m8.56\u001B[0m seconds.\nLoss \u001B[1m(\u001B[0mGEN \u001B[35m/\u001B[0m DIS\u001B[1m)\u001B[0m: \u001B[1;36m-84.87\u001B[0m \u001B[35m/\u001B[0m \u001B[1;36m-340.87\u001B[0m\n",
      "text/html": "<pre style=\"white-space:pre;overflow-x:auto;line-height:normal;font-family:Menlo,'DejaVu Sans Mono',consolas,'Courier New',monospace\">Epoch <span style=\"color: #008080; text-decoration-color: #008080; font-weight: bold\">30</span> took <span style=\"color: #008080; text-decoration-color: #008080; font-weight: bold\">8.56</span> seconds.\nLoss <span style=\"font-weight: bold\">(</span>GEN <span style=\"color: #800080; text-decoration-color: #800080\">/</span> DIS<span style=\"font-weight: bold\">)</span>: <span style=\"color: #008080; text-decoration-color: #008080; font-weight: bold\">-84.87</span> <span style=\"color: #800080; text-decoration-color: #800080\">/</span> <span style=\"color: #008080; text-decoration-color: #008080; font-weight: bold\">-340.87</span>\n</pre>\n"
     },
     "metadata": {},
     "output_type": "display_data"
    },
    {
     "data": {
      "text/plain": "  0%|          | 0/49 [00:00<?, ?it/s]",
      "application/vnd.jupyter.widget-view+json": {
       "version_major": 2,
       "version_minor": 0,
       "model_id": "64f1ead0013244948bf1ac3f8971dcd9"
      }
     },
     "metadata": {},
     "output_type": "display_data"
    },
    {
     "data": {
      "text/plain": "Epoch \u001B[1;36m31\u001B[0m took \u001B[1;36m8.91\u001B[0m seconds.\nLoss \u001B[1m(\u001B[0mGEN \u001B[35m/\u001B[0m DIS\u001B[1m)\u001B[0m: \u001B[1;36m-30.38\u001B[0m \u001B[35m/\u001B[0m \u001B[1;36m-348.47\u001B[0m\n",
      "text/html": "<pre style=\"white-space:pre;overflow-x:auto;line-height:normal;font-family:Menlo,'DejaVu Sans Mono',consolas,'Courier New',monospace\">Epoch <span style=\"color: #008080; text-decoration-color: #008080; font-weight: bold\">31</span> took <span style=\"color: #008080; text-decoration-color: #008080; font-weight: bold\">8.91</span> seconds.\nLoss <span style=\"font-weight: bold\">(</span>GEN <span style=\"color: #800080; text-decoration-color: #800080\">/</span> DIS<span style=\"font-weight: bold\">)</span>: <span style=\"color: #008080; text-decoration-color: #008080; font-weight: bold\">-30.38</span> <span style=\"color: #800080; text-decoration-color: #800080\">/</span> <span style=\"color: #008080; text-decoration-color: #008080; font-weight: bold\">-348.47</span>\n</pre>\n"
     },
     "metadata": {},
     "output_type": "display_data"
    },
    {
     "data": {
      "text/plain": "  0%|          | 0/49 [00:00<?, ?it/s]",
      "application/vnd.jupyter.widget-view+json": {
       "version_major": 2,
       "version_minor": 0,
       "model_id": "d5784b7fad234b25bd200ea6b37d0fd6"
      }
     },
     "metadata": {},
     "output_type": "display_data"
    },
    {
     "data": {
      "text/plain": "Epoch \u001B[1;36m32\u001B[0m took \u001B[1;36m8.93\u001B[0m seconds.\nLoss \u001B[1m(\u001B[0mGEN \u001B[35m/\u001B[0m DIS\u001B[1m)\u001B[0m: \u001B[1;36m-111.84\u001B[0m \u001B[35m/\u001B[0m \u001B[1;36m-348.59\u001B[0m\n",
      "text/html": "<pre style=\"white-space:pre;overflow-x:auto;line-height:normal;font-family:Menlo,'DejaVu Sans Mono',consolas,'Courier New',monospace\">Epoch <span style=\"color: #008080; text-decoration-color: #008080; font-weight: bold\">32</span> took <span style=\"color: #008080; text-decoration-color: #008080; font-weight: bold\">8.93</span> seconds.\nLoss <span style=\"font-weight: bold\">(</span>GEN <span style=\"color: #800080; text-decoration-color: #800080\">/</span> DIS<span style=\"font-weight: bold\">)</span>: <span style=\"color: #008080; text-decoration-color: #008080; font-weight: bold\">-111.84</span> <span style=\"color: #800080; text-decoration-color: #800080\">/</span> <span style=\"color: #008080; text-decoration-color: #008080; font-weight: bold\">-348.59</span>\n</pre>\n"
     },
     "metadata": {},
     "output_type": "display_data"
    },
    {
     "data": {
      "text/plain": "  0%|          | 0/49 [00:00<?, ?it/s]",
      "application/vnd.jupyter.widget-view+json": {
       "version_major": 2,
       "version_minor": 0,
       "model_id": "43692fb78de147118ec648c341f0c4aa"
      }
     },
     "metadata": {},
     "output_type": "display_data"
    },
    {
     "data": {
      "text/plain": "Epoch \u001B[1;36m33\u001B[0m took \u001B[1;36m8.69\u001B[0m seconds.\nLoss \u001B[1m(\u001B[0mGEN \u001B[35m/\u001B[0m DIS\u001B[1m)\u001B[0m: \u001B[1;36m-61.69\u001B[0m \u001B[35m/\u001B[0m \u001B[1;36m-344.88\u001B[0m\n",
      "text/html": "<pre style=\"white-space:pre;overflow-x:auto;line-height:normal;font-family:Menlo,'DejaVu Sans Mono',consolas,'Courier New',monospace\">Epoch <span style=\"color: #008080; text-decoration-color: #008080; font-weight: bold\">33</span> took <span style=\"color: #008080; text-decoration-color: #008080; font-weight: bold\">8.69</span> seconds.\nLoss <span style=\"font-weight: bold\">(</span>GEN <span style=\"color: #800080; text-decoration-color: #800080\">/</span> DIS<span style=\"font-weight: bold\">)</span>: <span style=\"color: #008080; text-decoration-color: #008080; font-weight: bold\">-61.69</span> <span style=\"color: #800080; text-decoration-color: #800080\">/</span> <span style=\"color: #008080; text-decoration-color: #008080; font-weight: bold\">-344.88</span>\n</pre>\n"
     },
     "metadata": {},
     "output_type": "display_data"
    },
    {
     "data": {
      "text/plain": "  0%|          | 0/49 [00:00<?, ?it/s]",
      "application/vnd.jupyter.widget-view+json": {
       "version_major": 2,
       "version_minor": 0,
       "model_id": "897d096b7ebf408b86e399d39cf3865b"
      }
     },
     "metadata": {},
     "output_type": "display_data"
    },
    {
     "data": {
      "text/plain": "Epoch \u001B[1;36m34\u001B[0m took \u001B[1;36m8.62\u001B[0m seconds.\nLoss \u001B[1m(\u001B[0mGEN \u001B[35m/\u001B[0m DIS\u001B[1m)\u001B[0m: \u001B[1;36m-69.33\u001B[0m \u001B[35m/\u001B[0m \u001B[1;36m-344.85\u001B[0m\n",
      "text/html": "<pre style=\"white-space:pre;overflow-x:auto;line-height:normal;font-family:Menlo,'DejaVu Sans Mono',consolas,'Courier New',monospace\">Epoch <span style=\"color: #008080; text-decoration-color: #008080; font-weight: bold\">34</span> took <span style=\"color: #008080; text-decoration-color: #008080; font-weight: bold\">8.62</span> seconds.\nLoss <span style=\"font-weight: bold\">(</span>GEN <span style=\"color: #800080; text-decoration-color: #800080\">/</span> DIS<span style=\"font-weight: bold\">)</span>: <span style=\"color: #008080; text-decoration-color: #008080; font-weight: bold\">-69.33</span> <span style=\"color: #800080; text-decoration-color: #800080\">/</span> <span style=\"color: #008080; text-decoration-color: #008080; font-weight: bold\">-344.85</span>\n</pre>\n"
     },
     "metadata": {},
     "output_type": "display_data"
    },
    {
     "data": {
      "text/plain": "  0%|          | 0/49 [00:00<?, ?it/s]",
      "application/vnd.jupyter.widget-view+json": {
       "version_major": 2,
       "version_minor": 0,
       "model_id": "3813324b5653420991f4844b321b9d08"
      }
     },
     "metadata": {},
     "output_type": "display_data"
    },
    {
     "data": {
      "text/plain": "Epoch \u001B[1;36m35\u001B[0m took \u001B[1;36m8.55\u001B[0m seconds.\nLoss \u001B[1m(\u001B[0mGEN \u001B[35m/\u001B[0m DIS\u001B[1m)\u001B[0m: \u001B[1;36m-110.04\u001B[0m \u001B[35m/\u001B[0m \u001B[1;36m-358.88\u001B[0m\n",
      "text/html": "<pre style=\"white-space:pre;overflow-x:auto;line-height:normal;font-family:Menlo,'DejaVu Sans Mono',consolas,'Courier New',monospace\">Epoch <span style=\"color: #008080; text-decoration-color: #008080; font-weight: bold\">35</span> took <span style=\"color: #008080; text-decoration-color: #008080; font-weight: bold\">8.55</span> seconds.\nLoss <span style=\"font-weight: bold\">(</span>GEN <span style=\"color: #800080; text-decoration-color: #800080\">/</span> DIS<span style=\"font-weight: bold\">)</span>: <span style=\"color: #008080; text-decoration-color: #008080; font-weight: bold\">-110.04</span> <span style=\"color: #800080; text-decoration-color: #800080\">/</span> <span style=\"color: #008080; text-decoration-color: #008080; font-weight: bold\">-358.88</span>\n</pre>\n"
     },
     "metadata": {},
     "output_type": "display_data"
    },
    {
     "data": {
      "text/plain": "  0%|          | 0/49 [00:00<?, ?it/s]",
      "application/vnd.jupyter.widget-view+json": {
       "version_major": 2,
       "version_minor": 0,
       "model_id": "1cb19c7c556a4b57a70dd176e70e8b51"
      }
     },
     "metadata": {},
     "output_type": "display_data"
    },
    {
     "data": {
      "text/plain": "Epoch \u001B[1;36m36\u001B[0m took \u001B[1;36m9.03\u001B[0m seconds.\nLoss \u001B[1m(\u001B[0mGEN \u001B[35m/\u001B[0m DIS\u001B[1m)\u001B[0m: \u001B[1;36m-66.09\u001B[0m \u001B[35m/\u001B[0m \u001B[1;36m-339.46\u001B[0m\n",
      "text/html": "<pre style=\"white-space:pre;overflow-x:auto;line-height:normal;font-family:Menlo,'DejaVu Sans Mono',consolas,'Courier New',monospace\">Epoch <span style=\"color: #008080; text-decoration-color: #008080; font-weight: bold\">36</span> took <span style=\"color: #008080; text-decoration-color: #008080; font-weight: bold\">9.03</span> seconds.\nLoss <span style=\"font-weight: bold\">(</span>GEN <span style=\"color: #800080; text-decoration-color: #800080\">/</span> DIS<span style=\"font-weight: bold\">)</span>: <span style=\"color: #008080; text-decoration-color: #008080; font-weight: bold\">-66.09</span> <span style=\"color: #800080; text-decoration-color: #800080\">/</span> <span style=\"color: #008080; text-decoration-color: #008080; font-weight: bold\">-339.46</span>\n</pre>\n"
     },
     "metadata": {},
     "output_type": "display_data"
    },
    {
     "data": {
      "text/plain": "  0%|          | 0/49 [00:00<?, ?it/s]",
      "application/vnd.jupyter.widget-view+json": {
       "version_major": 2,
       "version_minor": 0,
       "model_id": "35be14c4cb1d46bda681e29eafa28dc7"
      }
     },
     "metadata": {},
     "output_type": "display_data"
    },
    {
     "data": {
      "text/plain": "Epoch \u001B[1;36m37\u001B[0m took \u001B[1;36m8.67\u001B[0m seconds.\nLoss \u001B[1m(\u001B[0mGEN \u001B[35m/\u001B[0m DIS\u001B[1m)\u001B[0m: \u001B[1;36m-33.77\u001B[0m \u001B[35m/\u001B[0m \u001B[1;36m-356.74\u001B[0m\n",
      "text/html": "<pre style=\"white-space:pre;overflow-x:auto;line-height:normal;font-family:Menlo,'DejaVu Sans Mono',consolas,'Courier New',monospace\">Epoch <span style=\"color: #008080; text-decoration-color: #008080; font-weight: bold\">37</span> took <span style=\"color: #008080; text-decoration-color: #008080; font-weight: bold\">8.67</span> seconds.\nLoss <span style=\"font-weight: bold\">(</span>GEN <span style=\"color: #800080; text-decoration-color: #800080\">/</span> DIS<span style=\"font-weight: bold\">)</span>: <span style=\"color: #008080; text-decoration-color: #008080; font-weight: bold\">-33.77</span> <span style=\"color: #800080; text-decoration-color: #800080\">/</span> <span style=\"color: #008080; text-decoration-color: #008080; font-weight: bold\">-356.74</span>\n</pre>\n"
     },
     "metadata": {},
     "output_type": "display_data"
    },
    {
     "data": {
      "text/plain": "  0%|          | 0/49 [00:00<?, ?it/s]",
      "application/vnd.jupyter.widget-view+json": {
       "version_major": 2,
       "version_minor": 0,
       "model_id": "2157ca898327488a87a21e9d54f71592"
      }
     },
     "metadata": {},
     "output_type": "display_data"
    },
    {
     "data": {
      "text/plain": "Epoch \u001B[1;36m38\u001B[0m took \u001B[1;36m9.32\u001B[0m seconds.\nLoss \u001B[1m(\u001B[0mGEN \u001B[35m/\u001B[0m DIS\u001B[1m)\u001B[0m: \u001B[1;36m-141.88\u001B[0m \u001B[35m/\u001B[0m \u001B[1;36m-371.20\u001B[0m\n",
      "text/html": "<pre style=\"white-space:pre;overflow-x:auto;line-height:normal;font-family:Menlo,'DejaVu Sans Mono',consolas,'Courier New',monospace\">Epoch <span style=\"color: #008080; text-decoration-color: #008080; font-weight: bold\">38</span> took <span style=\"color: #008080; text-decoration-color: #008080; font-weight: bold\">9.32</span> seconds.\nLoss <span style=\"font-weight: bold\">(</span>GEN <span style=\"color: #800080; text-decoration-color: #800080\">/</span> DIS<span style=\"font-weight: bold\">)</span>: <span style=\"color: #008080; text-decoration-color: #008080; font-weight: bold\">-141.88</span> <span style=\"color: #800080; text-decoration-color: #800080\">/</span> <span style=\"color: #008080; text-decoration-color: #008080; font-weight: bold\">-371.20</span>\n</pre>\n"
     },
     "metadata": {},
     "output_type": "display_data"
    },
    {
     "data": {
      "text/plain": "  0%|          | 0/49 [00:00<?, ?it/s]",
      "application/vnd.jupyter.widget-view+json": {
       "version_major": 2,
       "version_minor": 0,
       "model_id": "1f6bb7d267114419818d50d9d4a177fa"
      }
     },
     "metadata": {},
     "output_type": "display_data"
    },
    {
     "data": {
      "text/plain": "Epoch \u001B[1;36m39\u001B[0m took \u001B[1;36m9.01\u001B[0m seconds.\nLoss \u001B[1m(\u001B[0mGEN \u001B[35m/\u001B[0m DIS\u001B[1m)\u001B[0m: \u001B[1;36m-138.98\u001B[0m \u001B[35m/\u001B[0m \u001B[1;36m-368.29\u001B[0m\n",
      "text/html": "<pre style=\"white-space:pre;overflow-x:auto;line-height:normal;font-family:Menlo,'DejaVu Sans Mono',consolas,'Courier New',monospace\">Epoch <span style=\"color: #008080; text-decoration-color: #008080; font-weight: bold\">39</span> took <span style=\"color: #008080; text-decoration-color: #008080; font-weight: bold\">9.01</span> seconds.\nLoss <span style=\"font-weight: bold\">(</span>GEN <span style=\"color: #800080; text-decoration-color: #800080\">/</span> DIS<span style=\"font-weight: bold\">)</span>: <span style=\"color: #008080; text-decoration-color: #008080; font-weight: bold\">-138.98</span> <span style=\"color: #800080; text-decoration-color: #800080\">/</span> <span style=\"color: #008080; text-decoration-color: #008080; font-weight: bold\">-368.29</span>\n</pre>\n"
     },
     "metadata": {},
     "output_type": "display_data"
    },
    {
     "data": {
      "text/plain": "  0%|          | 0/49 [00:00<?, ?it/s]",
      "application/vnd.jupyter.widget-view+json": {
       "version_major": 2,
       "version_minor": 0,
       "model_id": "e41fe60784624f38975d95d28f0383a7"
      }
     },
     "metadata": {},
     "output_type": "display_data"
    },
    {
     "data": {
      "text/plain": "Epoch \u001B[1;36m40\u001B[0m took \u001B[1;36m9.47\u001B[0m seconds.\nLoss \u001B[1m(\u001B[0mGEN \u001B[35m/\u001B[0m DIS\u001B[1m)\u001B[0m: \u001B[1;36m-90.06\u001B[0m \u001B[35m/\u001B[0m \u001B[1;36m-356.71\u001B[0m\n",
      "text/html": "<pre style=\"white-space:pre;overflow-x:auto;line-height:normal;font-family:Menlo,'DejaVu Sans Mono',consolas,'Courier New',monospace\">Epoch <span style=\"color: #008080; text-decoration-color: #008080; font-weight: bold\">40</span> took <span style=\"color: #008080; text-decoration-color: #008080; font-weight: bold\">9.47</span> seconds.\nLoss <span style=\"font-weight: bold\">(</span>GEN <span style=\"color: #800080; text-decoration-color: #800080\">/</span> DIS<span style=\"font-weight: bold\">)</span>: <span style=\"color: #008080; text-decoration-color: #008080; font-weight: bold\">-90.06</span> <span style=\"color: #800080; text-decoration-color: #800080\">/</span> <span style=\"color: #008080; text-decoration-color: #008080; font-weight: bold\">-356.71</span>\n</pre>\n"
     },
     "metadata": {},
     "output_type": "display_data"
    },
    {
     "data": {
      "text/plain": "  0%|          | 0/49 [00:00<?, ?it/s]",
      "application/vnd.jupyter.widget-view+json": {
       "version_major": 2,
       "version_minor": 0,
       "model_id": "6e22c0098c60449e883dea137d5ff3c3"
      }
     },
     "metadata": {},
     "output_type": "display_data"
    },
    {
     "data": {
      "text/plain": "Epoch \u001B[1;36m41\u001B[0m took \u001B[1;36m10.34\u001B[0m seconds.\nLoss \u001B[1m(\u001B[0mGEN \u001B[35m/\u001B[0m DIS\u001B[1m)\u001B[0m: \u001B[1;36m-166.50\u001B[0m \u001B[35m/\u001B[0m \u001B[1;36m-361.05\u001B[0m\n",
      "text/html": "<pre style=\"white-space:pre;overflow-x:auto;line-height:normal;font-family:Menlo,'DejaVu Sans Mono',consolas,'Courier New',monospace\">Epoch <span style=\"color: #008080; text-decoration-color: #008080; font-weight: bold\">41</span> took <span style=\"color: #008080; text-decoration-color: #008080; font-weight: bold\">10.34</span> seconds.\nLoss <span style=\"font-weight: bold\">(</span>GEN <span style=\"color: #800080; text-decoration-color: #800080\">/</span> DIS<span style=\"font-weight: bold\">)</span>: <span style=\"color: #008080; text-decoration-color: #008080; font-weight: bold\">-166.50</span> <span style=\"color: #800080; text-decoration-color: #800080\">/</span> <span style=\"color: #008080; text-decoration-color: #008080; font-weight: bold\">-361.05</span>\n</pre>\n"
     },
     "metadata": {},
     "output_type": "display_data"
    },
    {
     "data": {
      "text/plain": "  0%|          | 0/49 [00:00<?, ?it/s]",
      "application/vnd.jupyter.widget-view+json": {
       "version_major": 2,
       "version_minor": 0,
       "model_id": "aac7354503ee4b11940766c82fc1592b"
      }
     },
     "metadata": {},
     "output_type": "display_data"
    },
    {
     "data": {
      "text/plain": "Epoch \u001B[1;36m42\u001B[0m took \u001B[1;36m9.78\u001B[0m seconds.\nLoss \u001B[1m(\u001B[0mGEN \u001B[35m/\u001B[0m DIS\u001B[1m)\u001B[0m: \u001B[1;36m-21.72\u001B[0m \u001B[35m/\u001B[0m \u001B[1;36m-349.89\u001B[0m\n",
      "text/html": "<pre style=\"white-space:pre;overflow-x:auto;line-height:normal;font-family:Menlo,'DejaVu Sans Mono',consolas,'Courier New',monospace\">Epoch <span style=\"color: #008080; text-decoration-color: #008080; font-weight: bold\">42</span> took <span style=\"color: #008080; text-decoration-color: #008080; font-weight: bold\">9.78</span> seconds.\nLoss <span style=\"font-weight: bold\">(</span>GEN <span style=\"color: #800080; text-decoration-color: #800080\">/</span> DIS<span style=\"font-weight: bold\">)</span>: <span style=\"color: #008080; text-decoration-color: #008080; font-weight: bold\">-21.72</span> <span style=\"color: #800080; text-decoration-color: #800080\">/</span> <span style=\"color: #008080; text-decoration-color: #008080; font-weight: bold\">-349.89</span>\n</pre>\n"
     },
     "metadata": {},
     "output_type": "display_data"
    },
    {
     "data": {
      "text/plain": "  0%|          | 0/49 [00:00<?, ?it/s]",
      "application/vnd.jupyter.widget-view+json": {
       "version_major": 2,
       "version_minor": 0,
       "model_id": "11a471524bba4d92a79642bb26947587"
      }
     },
     "metadata": {},
     "output_type": "display_data"
    },
    {
     "data": {
      "text/plain": "Epoch \u001B[1;36m43\u001B[0m took \u001B[1;36m9.12\u001B[0m seconds.\nLoss \u001B[1m(\u001B[0mGEN \u001B[35m/\u001B[0m DIS\u001B[1m)\u001B[0m: \u001B[1;36m-220.40\u001B[0m \u001B[35m/\u001B[0m \u001B[1;36m-366.20\u001B[0m\n",
      "text/html": "<pre style=\"white-space:pre;overflow-x:auto;line-height:normal;font-family:Menlo,'DejaVu Sans Mono',consolas,'Courier New',monospace\">Epoch <span style=\"color: #008080; text-decoration-color: #008080; font-weight: bold\">43</span> took <span style=\"color: #008080; text-decoration-color: #008080; font-weight: bold\">9.12</span> seconds.\nLoss <span style=\"font-weight: bold\">(</span>GEN <span style=\"color: #800080; text-decoration-color: #800080\">/</span> DIS<span style=\"font-weight: bold\">)</span>: <span style=\"color: #008080; text-decoration-color: #008080; font-weight: bold\">-220.40</span> <span style=\"color: #800080; text-decoration-color: #800080\">/</span> <span style=\"color: #008080; text-decoration-color: #008080; font-weight: bold\">-366.20</span>\n</pre>\n"
     },
     "metadata": {},
     "output_type": "display_data"
    },
    {
     "data": {
      "text/plain": "  0%|          | 0/49 [00:00<?, ?it/s]",
      "application/vnd.jupyter.widget-view+json": {
       "version_major": 2,
       "version_minor": 0,
       "model_id": "a8c23035fddf4f1aa80cc13ba6196abb"
      }
     },
     "metadata": {},
     "output_type": "display_data"
    }
   ],
   "source": [
    "import time\n",
    "from tqdm.auto import tqdm\n",
    "\n",
    "generator = Generator(\n",
    "    input_dim = cfg.model.noise_size + len(COLORS_ROOMTYPE),\n",
    "    output_dim = cfg.model.gen_out_size,\n",
    "    hidden_dims = [64, 32, 16]\n",
    ")\n",
    "\n",
    "discriminator = Discriminator(\n",
    "    input_dim = cfg.model.gen_out_size,\n",
    "    hidden_dims = [16, 32, 64]\n",
    ")\n",
    "\n",
    "optimizer_g = torch.optim.Adam(generator.parameters(), lr=cfg.opt.lr, betas=(0.5, 0.999))\n",
    "optimizer_d = torch.optim.Adam(discriminator.parameters(), lr=cfg.opt.lr, betas=(0.5, 0.999))\n",
    "\n",
    "num_steps = 0\n",
    "start_time = time.time()\n",
    "\n",
    "for epoch in range(cfg.train.epochs):\n",
    "\n",
    "    losses_d = []\n",
    "    losses_g = []\n",
    "\n",
    "    for data in tqdm(dataloader, total=len(dataloader)):\n",
    "        num_steps += 1\n",
    "\n",
    "        # get and define sources of information\n",
    "        x_dr = data.properties.float()\n",
    "        edge_index = data.edge_index\n",
    "        category = data.category\n",
    "        # print(category.shape, len(COLORS_ROOMTYPE))\n",
    "        batch = data.batch\n",
    "\n",
    "        # add noise and create x for generator\n",
    "        noise = torch.randn((category.shape[0], cfg.model.noise_size))\n",
    "        x_g = torch.concat((category, noise), dim=1)\n",
    "\n",
    "        # feedforward through generator and create fake input for discriminator\n",
    "        x_df = generator(edge_index, x_g)\n",
    "\n",
    "        discriminator_fake = discriminator(edge_index, x_df.detach(), batch)    # discriminator scores for fakes\n",
    "        discriminator_real = discriminator(edge_index, x_dr, batch)    # discriminator scores for reals\n",
    "\n",
    "        gp = gradient_penalty(discriminator, edge_index, x_dr, x_df.detach(), batch)\n",
    "\n",
    "        # Discriminator loss and train\n",
    "        loss_discriminator = discriminator_fake.mean() - discriminator_real.mean() + cfg.model.lambda_gp * gp\n",
    "\n",
    "        # Set gradients to zero\n",
    "        #discriminator.zero_grad()\n",
    "        optimizer_d.zero_grad()\n",
    "\n",
    "        # Backprop and move\n",
    "        loss_discriminator.backward()\n",
    "        optimizer_d.step()\n",
    "\n",
    "        losses_d.append(loss_discriminator.item())\n",
    "\n",
    "        # Only train Generator every 5 steps\n",
    "        if num_steps % cfg.model.n_critic == 0:\n",
    "\n",
    "            # develop new sample\n",
    "            x_df = generator(edge_index, x_g)\n",
    "            discriminator_fake = discriminator(edge_index, x_df, batch)\n",
    "\n",
    "            # loss of generator\n",
    "            loss_generator = mse_loss(x_dr, x_df) - discriminator_fake.reshape(-1).mean()\n",
    "\n",
    "            # Set gradients to zero\n",
    "            # generator.zero_grad()\n",
    "            optimizer_g.zero_grad()\n",
    "\n",
    "            # Backprop and move\n",
    "            loss_generator.backward()\n",
    "            optimizer_g.step()\n",
    "\n",
    "            losses_g.append(loss_generator.item())\n",
    "\n",
    "    # 49 is just a temporary number\n",
    "    epoch_time = time.time() - start_time\n",
    "    start_time = time.time()\n",
    "    print(\"Epoch {} took {:.2f} seconds.\\n\"\n",
    "          \"Loss (GEN / DIS): {:.2f} / {:.2f}\".format(epoch, epoch_time, np.mean(losses_g), np.mean(losses_d)))"
   ],
   "metadata": {
    "collapsed": false,
    "ExecuteTime": {
     "start_time": "2023-06-28T14:23:48.844058Z",
     "end_time": "2023-06-28T14:32:22.110756Z"
    },
    "pycharm": {
     "is_executing": true
    }
   }
  }
 ],
 "metadata": {
  "kernelspec": {
   "display_name": "Python 3",
   "language": "python",
   "name": "python3"
  },
  "language_info": {
   "codemirror_mode": {
    "name": "ipython",
    "version": 2
   },
   "file_extension": ".py",
   "mimetype": "text/x-python",
   "name": "python",
   "nbconvert_exporter": "python",
   "pygments_lexer": "ipython2",
   "version": "2.7.6"
  }
 },
 "nbformat": 4,
 "nbformat_minor": 0
}
